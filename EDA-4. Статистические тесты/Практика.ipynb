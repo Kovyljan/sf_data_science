{
  "cells": [
    {
      "cell_type": "markdown",
      "metadata": {
        "id": "yMG_XPwziMUN"
      },
      "source": [
        "# <center> ИССЛЕДОВАНИЕ ДАННЫХ HR-АГЕНТСТВА\n",
        "\n",
        "HR-агентство изучает тренды на рынке труда в IT. Компания хочет провести исследование на основе данных о зарплатах в сфере Data Science за 2020–2022 годы и получить некоторые выводы.\n",
        "\n",
        "Исследуйте данные и сделайте выводы по полученным результатам. Подкрепите свои рассуждения и выводы визуализациями и с помощью статистического тестирования проверьте, являются ли выводы статистически значимыми.\n",
        "\n",
        "Продемонстрируйте использование разных тестов для проверки статистической значимости сделанных выводов:\n",
        "* тесты для количественного признака:\n",
        "    - для одной выборки;\n",
        "    - для двух выборок;\n",
        "    - для нескольких выборок;\n",
        "* тест для категориальных признаков."
      ]
    },
    {
      "cell_type": "markdown",
      "metadata": {
        "id": "EMd2vwh8ihnl"
      },
      "source": [
        "## Постановка задачи\n",
        "\n",
        "1. Выяснить, какие факторы влияют на зарплату специалиста Data Scientist.\n",
        "\n",
        "2. Ответить на ключевые вопросы HR-агентства:\n",
        "- Наблюдается ли ежегодный рост зарплат у специалистов Data Scientist?\n",
        "- Как соотносятся зарплаты Data Scientist и Data Engineer в 2022 году?\n",
        "- Как соотносятся зарплаты специалистов Data Scientist в компаниях различных размеров?\n",
        "- Есть ли связь между наличием должностей Data Scientist и Data Engineer и размером компании?\n",
        "- Если вы найдёте в данных интересные закономерности, также отметьте их в своём анализе.\n",
        "\n",
        "На каждый вопрос необходимо ответить с уровнем значимости $\\alpha=0.05$."
      ]
    },
    {
      "cell_type": "markdown",
      "metadata": {
        "id": "xqjB2nBnNNkc"
      },
      "source": [
        "Данные содержат следующие столбцы:\n",
        "\n",
        "* work_year — Год, в котором была выплачена зарплата;\n",
        "* experience_level — Опыт работы на этой должности в течение года со следующими возможными значениями:\n",
        "    - EN (Entry-level/Junio),\n",
        "    - MI (Mid-level/Intermediate),\n",
        "    - SE (Senior-level/Expert),\n",
        "    - EX (Executive-level/Director);\n",
        "* employment_type — Тип трудоустройства для этой роли:\n",
        "    - PT (неполный рабочий день),\n",
        "    - FT (полный рабочий день),\n",
        "    - CT (контракт),\n",
        "    - FL (фриланс);\n",
        "* job_title — Роль, в которой соискатель работал в течение года;\n",
        "* salary — Общая выплаченная валовая сумма заработной платы;\n",
        "* salary_currency — Валюта выплачиваемой заработной платы в виде кода валюты ISO 4217;\n",
        "* salary_in_usd — Зарплата в долларах США (валютный курс, делённый на среднее значение курса доллара США за соответствующий год через fxdata.foorilla.com);\n",
        "* employee_residence — Основная страна проживания сотрудника в течение рабочего года в виде кода страны ISO 3166;\n",
        "* remote_ratio — Общий объём работы, выполняемой удалённо. Возможные значения:\n",
        "    - 0 - (удалённой работы нет (менее 20 %)),\n",
        "    - 50 - (частично удалённая работа),\n",
        "    - 100 - (полностью удалённая работа (более 80 %));\n",
        "* company_location — Страна главного офиса работодателя или филиала по контракту в виде кода страны ISO 3166.\n",
        "* company_size — Среднее количество людей, работавших в компании в течение года:\n",
        "    - S - (менее 50 сотрудников (небольшая компания)),\n",
        "    - M - (от 50 до 250 сотрудников (средняя компания)),\n",
        "    - L - (более 250 сотрудников (крупная компания)).\n",
        "\n",
        "Оригинальный датасет: [\"Data Science Job Salaries” (kaggle.com)\"](https://www.kaggle.com/datasets/ruchi798/data-science-job-salaries)   \n"
      ]
    },
    {
      "cell_type": "markdown",
      "metadata": {
        "id": "_XMyOg3cgcN1"
      },
      "source": [
        "## Загрузка данных"
      ]
    },
    {
      "cell_type": "code",
      "execution_count": 3,
      "metadata": {
        "id": "2JjaPf35gyCK"
      },
      "outputs": [],
      "source": [
        "# загружаем необходимые библиотеки\n",
        "import pandas as pd\n",
        "import numpy as np\n",
        "\n",
        "from scipy import stats\n",
        "import statsmodels.api as sm\n",
        "from statsmodels import stats as sms\n",
        "\n",
        "import matplotlib.pyplot as plt\n",
        "import seaborn as sns\n",
        "\n",
        "# делаем визуальную настройку графиков\n",
        "sns.set_theme(\"notebook\") \n",
        "sns.set_palette(\"Set2\") "
      ]
    },
    {
      "cell_type": "markdown",
      "metadata": {
        "id": "OxICgu53sO5Q"
      },
      "source": [
        "Данные были скачены по [ссылке](https://lms.skillfactory.ru/asset-v1:SkillFactory+DST-3.0+28FEB2021+type@asset+block@ds_salaries.zip)."
      ]
    },
    {
      "cell_type": "code",
      "execution_count": 4,
      "metadata": {
        "colab": {
          "base_uri": "https://localhost:8080/",
          "height": 206
        },
        "id": "ZPiI902dv11F",
        "outputId": "eccef1b9-a3cc-4144-a9df-a2a020abf30c"
      },
      "outputs": [
        {
          "data": {
            "text/html": [
              "<div>\n",
              "<style scoped>\n",
              "    .dataframe tbody tr th:only-of-type {\n",
              "        vertical-align: middle;\n",
              "    }\n",
              "\n",
              "    .dataframe tbody tr th {\n",
              "        vertical-align: top;\n",
              "    }\n",
              "\n",
              "    .dataframe thead th {\n",
              "        text-align: right;\n",
              "    }\n",
              "</style>\n",
              "<table border=\"1\" class=\"dataframe\">\n",
              "  <thead>\n",
              "    <tr style=\"text-align: right;\">\n",
              "      <th></th>\n",
              "      <th>Unnamed: 0</th>\n",
              "      <th>work_year</th>\n",
              "      <th>experience_level</th>\n",
              "      <th>employment_type</th>\n",
              "      <th>job_title</th>\n",
              "      <th>salary</th>\n",
              "      <th>salary_currency</th>\n",
              "      <th>salary_in_usd</th>\n",
              "      <th>employee_residence</th>\n",
              "      <th>remote_ratio</th>\n",
              "      <th>company_location</th>\n",
              "      <th>company_size</th>\n",
              "    </tr>\n",
              "  </thead>\n",
              "  <tbody>\n",
              "    <tr>\n",
              "      <th>0</th>\n",
              "      <td>0</td>\n",
              "      <td>2020</td>\n",
              "      <td>MI</td>\n",
              "      <td>FT</td>\n",
              "      <td>Data Scientist</td>\n",
              "      <td>70000</td>\n",
              "      <td>EUR</td>\n",
              "      <td>79833</td>\n",
              "      <td>DE</td>\n",
              "      <td>0</td>\n",
              "      <td>DE</td>\n",
              "      <td>L</td>\n",
              "    </tr>\n",
              "    <tr>\n",
              "      <th>1</th>\n",
              "      <td>1</td>\n",
              "      <td>2020</td>\n",
              "      <td>SE</td>\n",
              "      <td>FT</td>\n",
              "      <td>Machine Learning Scientist</td>\n",
              "      <td>260000</td>\n",
              "      <td>USD</td>\n",
              "      <td>260000</td>\n",
              "      <td>JP</td>\n",
              "      <td>0</td>\n",
              "      <td>JP</td>\n",
              "      <td>S</td>\n",
              "    </tr>\n",
              "    <tr>\n",
              "      <th>2</th>\n",
              "      <td>2</td>\n",
              "      <td>2020</td>\n",
              "      <td>SE</td>\n",
              "      <td>FT</td>\n",
              "      <td>Big Data Engineer</td>\n",
              "      <td>85000</td>\n",
              "      <td>GBP</td>\n",
              "      <td>109024</td>\n",
              "      <td>GB</td>\n",
              "      <td>50</td>\n",
              "      <td>GB</td>\n",
              "      <td>M</td>\n",
              "    </tr>\n",
              "    <tr>\n",
              "      <th>3</th>\n",
              "      <td>3</td>\n",
              "      <td>2020</td>\n",
              "      <td>MI</td>\n",
              "      <td>FT</td>\n",
              "      <td>Product Data Analyst</td>\n",
              "      <td>20000</td>\n",
              "      <td>USD</td>\n",
              "      <td>20000</td>\n",
              "      <td>HN</td>\n",
              "      <td>0</td>\n",
              "      <td>HN</td>\n",
              "      <td>S</td>\n",
              "    </tr>\n",
              "    <tr>\n",
              "      <th>4</th>\n",
              "      <td>4</td>\n",
              "      <td>2020</td>\n",
              "      <td>SE</td>\n",
              "      <td>FT</td>\n",
              "      <td>Machine Learning Engineer</td>\n",
              "      <td>150000</td>\n",
              "      <td>USD</td>\n",
              "      <td>150000</td>\n",
              "      <td>US</td>\n",
              "      <td>50</td>\n",
              "      <td>US</td>\n",
              "      <td>L</td>\n",
              "    </tr>\n",
              "  </tbody>\n",
              "</table>\n",
              "</div>"
            ],
            "text/plain": [
              "   Unnamed: 0  work_year experience_level employment_type  \\\n",
              "0           0       2020               MI              FT   \n",
              "1           1       2020               SE              FT   \n",
              "2           2       2020               SE              FT   \n",
              "3           3       2020               MI              FT   \n",
              "4           4       2020               SE              FT   \n",
              "\n",
              "                    job_title  salary salary_currency  salary_in_usd  \\\n",
              "0              Data Scientist   70000             EUR          79833   \n",
              "1  Machine Learning Scientist  260000             USD         260000   \n",
              "2           Big Data Engineer   85000             GBP         109024   \n",
              "3        Product Data Analyst   20000             USD          20000   \n",
              "4   Machine Learning Engineer  150000             USD         150000   \n",
              "\n",
              "  employee_residence  remote_ratio company_location company_size  \n",
              "0                 DE             0               DE            L  \n",
              "1                 JP             0               JP            S  \n",
              "2                 GB            50               GB            M  \n",
              "3                 HN             0               HN            S  \n",
              "4                 US            50               US            L  "
            ]
          },
          "execution_count": 4,
          "metadata": {},
          "output_type": "execute_result"
        }
      ],
      "source": [
        "# загружаем датасет\n",
        "data = pd.read_csv('data/ds_salaries.csv')\n",
        "data.head()"
      ]
    },
    {
      "cell_type": "code",
      "execution_count": 5,
      "metadata": {},
      "outputs": [
        {
          "data": {
            "text/plain": [
              "job_title\n",
              "Data Scientist                              143\n",
              "Data Engineer                               132\n",
              "Data Analyst                                 97\n",
              "Machine Learning Engineer                    41\n",
              "Research Scientist                           16\n",
              "Data Science Manager                         12\n",
              "Data Architect                               11\n",
              "Big Data Engineer                             8\n",
              "Machine Learning Scientist                    8\n",
              "Director of Data Science                      7\n",
              "AI Scientist                                  7\n",
              "Principal Data Scientist                      7\n",
              "Data Science Consultant                       7\n",
              "Data Analytics Manager                        7\n",
              "Computer Vision Engineer                      6\n",
              "BI Data Analyst                               6\n",
              "ML Engineer                                   6\n",
              "Lead Data Engineer                            6\n",
              "Data Engineering Manager                      5\n",
              "Business Data Analyst                         5\n",
              "Applied Data Scientist                        5\n",
              "Head of Data                                  5\n",
              "Head of Data Science                          4\n",
              "Data Analytics Engineer                       4\n",
              "Applied Machine Learning Scientist            4\n",
              "Analytics Engineer                            4\n",
              "Machine Learning Developer                    3\n",
              "Machine Learning Infrastructure Engineer      3\n",
              "Lead Data Scientist                           3\n",
              "Lead Data Analyst                             3\n",
              "Data Science Engineer                         3\n",
              "Principal Data Engineer                       3\n",
              "Computer Vision Software Engineer             3\n",
              "Principal Data Analyst                        2\n",
              "Financial Data Analyst                        2\n",
              "ETL Developer                                 2\n",
              "Director of Data Engineering                  2\n",
              "Product Data Analyst                          2\n",
              "Cloud Data Engineer                           2\n",
              "NLP Engineer                                  1\n",
              "Marketing Data Analyst                        1\n",
              "3D Computer Vision Researcher                 1\n",
              "Machine Learning Manager                      1\n",
              "Lead Machine Learning Engineer                1\n",
              "Head of Machine Learning                      1\n",
              "Finance Data Analyst                          1\n",
              "Data Specialist                               1\n",
              "Data Analytics Lead                           1\n",
              "Big Data Architect                            1\n",
              "Staff Data Scientist                          1\n",
              "Name: count, dtype: int64"
            ]
          },
          "metadata": {},
          "output_type": "display_data"
        }
      ],
      "source": [
        "display(data.value_counts('job_title'))"
      ]
    },
    {
      "cell_type": "code",
      "execution_count": 6,
      "metadata": {
        "colab": {
          "base_uri": "https://localhost:8080/"
        },
        "id": "uLEEV6aLomOU",
        "outputId": "23314b21-aa3f-4537-94cb-be776d9427ae"
      },
      "outputs": [
        {
          "name": "stdout",
          "output_type": "stream",
          "text": [
            "Уровень значимости alpha = 0.05\n"
          ]
        }
      ],
      "source": [
        "# задаём уровень значимости\n",
        "alpha = 0.05 \n",
        "print(\"Уровень значимости alpha = {:.2f}\".format(alpha))"
      ]
    },
    {
      "cell_type": "markdown",
      "metadata": {
        "id": "c9QRWWOVfV13"
      },
      "source": [
        "## Описательный анализ данных"
      ]
    },
    {
      "cell_type": "code",
      "execution_count": 7,
      "metadata": {
        "colab": {
          "base_uri": "https://localhost:8080/"
        },
        "id": "zkiOmlAy2XQU",
        "outputId": "88adbac3-0fd7-460c-a368-c40baff97200"
      },
      "outputs": [
        {
          "name": "stdout",
          "output_type": "stream",
          "text": [
            "<class 'pandas.core.frame.DataFrame'>\n",
            "RangeIndex: 607 entries, 0 to 606\n",
            "Data columns (total 12 columns):\n",
            " #   Column              Non-Null Count  Dtype \n",
            "---  ------              --------------  ----- \n",
            " 0   Unnamed: 0          607 non-null    int64 \n",
            " 1   work_year           607 non-null    int64 \n",
            " 2   experience_level    607 non-null    object\n",
            " 3   employment_type     607 non-null    object\n",
            " 4   job_title           607 non-null    object\n",
            " 5   salary              607 non-null    int64 \n",
            " 6   salary_currency     607 non-null    object\n",
            " 7   salary_in_usd       607 non-null    int64 \n",
            " 8   employee_residence  607 non-null    object\n",
            " 9   remote_ratio        607 non-null    int64 \n",
            " 10  company_location    607 non-null    object\n",
            " 11  company_size        607 non-null    object\n",
            "dtypes: int64(5), object(7)\n",
            "memory usage: 57.0+ KB\n"
          ]
        }
      ],
      "source": [
        "data.info()"
      ]
    },
    {
      "cell_type": "markdown",
      "metadata": {
        "id": "2DSvnZuul7Za"
      },
      "source": [
        "В датасете 607 записей (без пропущенных значений)."
      ]
    },
    {
      "cell_type": "markdown",
      "metadata": {
        "id": "Xug87trzl7Za"
      },
      "source": [
        "Проверим данные на наличие полных дубликатов:"
      ]
    },
    {
      "cell_type": "code",
      "execution_count": 8,
      "metadata": {
        "colab": {
          "base_uri": "https://localhost:8080/"
        },
        "id": "As_X7I6jl7Za",
        "outputId": "3d3795b3-ab7c-4cc6-ab3d-23a4796a7b5c"
      },
      "outputs": [
        {
          "name": "stdout",
          "output_type": "stream",
          "text": [
            "Количество дубликатов: 0\n",
            "Размер таблицы после удаления дубликатов: (607, 12)\n"
          ]
        }
      ],
      "source": [
        "print('Количество дубликатов: {}'.format(data[data.duplicated()].shape[0]))\n",
        "\n",
        "# Удаляем дубликаты:\n",
        "data = data.drop_duplicates()\n",
        "print('Размер таблицы после удаления дубликатов: {}'.format(data.shape))"
      ]
    },
    {
      "cell_type": "markdown",
      "metadata": {},
      "source": [
        "Удалим признаки 'salary' и 'salary_currency', так как есть универсальный признак salary_in_usd, который поддаётся статестической оработке.\n",
        "\n",
        "Так же можно удалить признак 'Unnamed: 0', который не представляет важности для статистического анализа."
      ]
    },
    {
      "cell_type": "code",
      "execution_count": 9,
      "metadata": {},
      "outputs": [
        {
          "name": "stdout",
          "output_type": "stream",
          "text": [
            "<class 'pandas.core.frame.DataFrame'>\n",
            "RangeIndex: 607 entries, 0 to 606\n",
            "Data columns (total 9 columns):\n",
            " #   Column              Non-Null Count  Dtype \n",
            "---  ------              --------------  ----- \n",
            " 0   work_year           607 non-null    int64 \n",
            " 1   experience_level    607 non-null    object\n",
            " 2   employment_type     607 non-null    object\n",
            " 3   job_title           607 non-null    object\n",
            " 4   salary_in_usd       607 non-null    int64 \n",
            " 5   employee_residence  607 non-null    object\n",
            " 6   remote_ratio        607 non-null    int64 \n",
            " 7   company_location    607 non-null    object\n",
            " 8   company_size        607 non-null    object\n",
            "dtypes: int64(3), object(6)\n",
            "memory usage: 42.8+ KB\n"
          ]
        }
      ],
      "source": [
        "# Удаляем столбцы \"salary\" и \"salary_currency\" из DataFrame\n",
        "data = data.drop(columns=['salary', 'salary_currency', 'Unnamed: 0'])\n",
        "data.info()"
      ]
    },
    {
      "cell_type": "markdown",
      "metadata": {},
      "source": [
        "Проведём корреляционный анализ датасета"
      ]
    },
    {
      "cell_type": "code",
      "execution_count": 10,
      "metadata": {},
      "outputs": [
        {
          "data": {
            "text/plain": [
              "<Axes: >"
            ]
          },
          "execution_count": 10,
          "metadata": {},
          "output_type": "execute_result"
        },
        {
          "data": {
            "image/png": "[encoded data removed]",
            "text/plain": [
              "<Figure size 640x480 with 2 Axes>"
            ]
          },
          "metadata": {},
          "output_type": "display_data"
        }
      ],
      "source": [
        "# отсеиваем числовые признаки и включаем отображение коэффициентов\n",
        "sns.heatmap(data.corr(numeric_only=True), annot=True)"
      ]
    },
    {
      "cell_type": "markdown",
      "metadata": {},
      "source": [
        "В датасете нет сильно скоррелированных признаков, которые подлежали бы исключению."
      ]
    },
    {
      "cell_type": "markdown",
      "metadata": {},
      "source": [
        "#### Классификация признаков датасета на числовые и категориальные\n",
        "\n",
        "Категориальные признаки:\n",
        "\n",
        "- work_year;\n",
        "- experience_level;\n",
        "- employment_type;\n",
        "- job_title;\n",
        "- employee_residence;\n",
        "- remote_ratio;\n",
        "- company_location.\n",
        "- company_size.\n",
        "\n",
        "Численные признаки:\n",
        "\n",
        "- salary_in_usd."
      ]
    },
    {
      "cell_type": "markdown",
      "metadata": {},
      "source": [
        "### Основные статистические характеристики для каждого из признаков\n",
        "\n",
        "Построим отчет с использованием библиотеки sweetviz для определения основных статестических характеристик прзнаков."
      ]
    },
    {
      "cell_type": "code",
      "execution_count": 11,
      "metadata": {},
      "outputs": [
        {
          "data": {
            "application/vnd.jupyter.widget-view+json": {
              "model_id": "68babd7640d9441c8ca7f1e225e927b7",
              "version_major": 2,
              "version_minor": 0
            },
            "text/plain": [
              "                                             |          | [  0%]   00:00 -> (? left)"
            ]
          },
          "metadata": {},
          "output_type": "display_data"
        },
        {
          "name": "stdout",
          "output_type": "stream",
          "text": [
            "Report SWEETVIZ_REPORT.html was generated! NOTEBOOK/COLAB USERS: the web browser MAY not pop up, regardless, the report IS saved in your notebook/colab files.\n"
          ]
        }
      ],
      "source": [
        "import sweetviz as sv\n",
        "report = sv.analyze(data)\n",
        "report.show_html()"
      ]
    },
    {
      "cell_type": "markdown",
      "metadata": {
        "id": "6uAbyderTaNx"
      },
      "source": [
        "### Визуальный анализ данных"
      ]
    },
    {
      "cell_type": "markdown",
      "metadata": {},
      "source": [
        "#### Распределение оплаты труда по всем соискателям по профессии Data Scientist за 2020-2022 годы"
      ]
    },
    {
      "cell_type": "code",
      "execution_count": 12,
      "metadata": {
        "colab": {
          "base_uri": "https://localhost:8080/",
          "height": 496
        },
        "id": "KX6k6B2NWJ8t",
        "outputId": "523d571d-679e-4926-fe74-dc130c6a1b53"
      },
      "outputs": [
        {
          "data": {
            "image/png": "[encoded data removed]",
            "text/plain": [
              "<Figure size 1500x500 with 2 Axes>"
            ]
          },
          "metadata": {},
          "output_type": "display_data"
        }
      ],
      "source": [
        "scientist_data = data[data['job_title'] == 'Data Scientist']\n",
        "\n",
        "fig, axes = plt.subplots(1, 2, figsize=(15, 5))\n",
        "\n",
        "sns.histplot(scientist_data['salary_in_usd'], kde=True, ax=axes[0])\n",
        "axes[0].set(xlabel='Размер оплаты труда', ylabel='Частота')\n",
        "axes[0].set_title('Распределение оплаты труда в сфере Data Science')\n",
        "axes[0].axvline(scientist_data['salary_in_usd'].mean(), color='red', linestyle='--', linewidth=1.2)\n",
        "\n",
        "sns.boxplot(scientist_data['salary_in_usd'], ax=axes[1], orient='h', medianprops={\"color\": \"red\", \"linestyle\": '--'})\n",
        "axes[1].set(ylabel='Размер оплаты труда')\n",
        "axes[1].set_title('Распределение оплаты труда в сфере Data Science')\n",
        "\n",
        "plt.show()"
      ]
    },
    {
      "cell_type": "code",
      "execution_count": 13,
      "metadata": {
        "colab": {
          "base_uri": "https://localhost:8080/",
          "height": 300
        },
        "id": "h4rqfECm4umv",
        "outputId": "3edbc181-1016-488d-ef8c-6dfc5dbbfee1"
      },
      "outputs": [
        {
          "data": {
            "text/html": [
              "<div>\n",
              "<style scoped>\n",
              "    .dataframe tbody tr th:only-of-type {\n",
              "        vertical-align: middle;\n",
              "    }\n",
              "\n",
              "    .dataframe tbody tr th {\n",
              "        vertical-align: top;\n",
              "    }\n",
              "\n",
              "    .dataframe thead th {\n",
              "        text-align: right;\n",
              "    }\n",
              "</style>\n",
              "<table border=\"1\" class=\"dataframe\">\n",
              "  <thead>\n",
              "    <tr style=\"text-align: right;\">\n",
              "      <th></th>\n",
              "      <th>Размер оплаты труда</th>\n",
              "    </tr>\n",
              "  </thead>\n",
              "  <tbody>\n",
              "    <tr>\n",
              "      <th>count</th>\n",
              "      <td>143.00</td>\n",
              "    </tr>\n",
              "    <tr>\n",
              "      <th>mean</th>\n",
              "      <td>108187.83</td>\n",
              "    </tr>\n",
              "    <tr>\n",
              "      <th>std</th>\n",
              "      <td>64112.84</td>\n",
              "    </tr>\n",
              "    <tr>\n",
              "      <th>min</th>\n",
              "      <td>2859.00</td>\n",
              "    </tr>\n",
              "    <tr>\n",
              "      <th>25%</th>\n",
              "      <td>54724.00</td>\n",
              "    </tr>\n",
              "    <tr>\n",
              "      <th>50%</th>\n",
              "      <td>103691.00</td>\n",
              "    </tr>\n",
              "    <tr>\n",
              "      <th>75%</th>\n",
              "      <td>140850.00</td>\n",
              "    </tr>\n",
              "    <tr>\n",
              "      <th>max</th>\n",
              "      <td>412000.00</td>\n",
              "    </tr>\n",
              "  </tbody>\n",
              "</table>\n",
              "</div>"
            ],
            "text/plain": [
              "       Размер оплаты труда\n",
              "count               143.00\n",
              "mean             108187.83\n",
              "std               64112.84\n",
              "min                2859.00\n",
              "25%               54724.00\n",
              "50%              103691.00\n",
              "75%              140850.00\n",
              "max              412000.00"
            ]
          },
          "execution_count": 13,
          "metadata": {},
          "output_type": "execute_result"
        }
      ],
      "source": [
        "data_agg = scientist_data['salary_in_usd'].describe().round(2).to_frame()\n",
        "data_agg.columns = ['Размер оплаты труда']\n",
        "data_agg"
      ]
    },
    {
      "cell_type": "markdown",
      "metadata": {
        "id": "fHrGH7w56m5c"
      },
      "source": [
        "Распределение оплаты труда отлично от нормального, имеются выбросы."
      ]
    },
    {
      "cell_type": "markdown",
      "metadata": {},
      "source": [
        "#### Распределение оплаты труда по всем соискателям по профессии Data Engineer за 2020-2022 годы"
      ]
    },
    {
      "cell_type": "code",
      "execution_count": 14,
      "metadata": {},
      "outputs": [
        {
          "data": {
            "image/png": "[encoded data removed]",
            "text/plain": [
              "<Figure size 1500x500 with 2 Axes>"
            ]
          },
          "metadata": {},
          "output_type": "display_data"
        }
      ],
      "source": [
        "engineer_data = data[data['job_title'] == 'Data Engineer']\n",
        "\n",
        "fig, axes = plt.subplots(1, 2, figsize=(15, 5))\n",
        "\n",
        "sns.histplot(engineer_data['salary_in_usd'], kde=True, ax=axes[0])\n",
        "axes[0].set(xlabel='Размер оплаты труда', ylabel='Частота')\n",
        "axes[0].set_title('Распределение оплаты труда в сфере Data Engineer')\n",
        "axes[0].axvline(engineer_data['salary_in_usd'].mean(), color='red', linestyle='--', linewidth=1.2)\n",
        "\n",
        "# Удаляем столбцы \"work_year\" и \"remote_ratio\" из DataFrame\n",
        "engineer_data_df = engineer_data.drop(columns=['work_year', 'remote_ratio'])\n",
        "\n",
        "sns.boxplot(engineer_data_df, ax=axes[1], orient='h', medianprops={\"color\": \"red\", \"linestyle\": '--'})\n",
        "axes[1].set(ylabel='Размер оплаты труда')\n",
        "axes[1].set_title('Распределение оплаты труда в сфере Data Engineer')\n",
        "\n",
        "plt.show()"
      ]
    },
    {
      "cell_type": "code",
      "execution_count": 15,
      "metadata": {},
      "outputs": [
        {
          "data": {
            "text/html": [
              "<div>\n",
              "<style scoped>\n",
              "    .dataframe tbody tr th:only-of-type {\n",
              "        vertical-align: middle;\n",
              "    }\n",
              "\n",
              "    .dataframe tbody tr th {\n",
              "        vertical-align: top;\n",
              "    }\n",
              "\n",
              "    .dataframe thead th {\n",
              "        text-align: right;\n",
              "    }\n",
              "</style>\n",
              "<table border=\"1\" class=\"dataframe\">\n",
              "  <thead>\n",
              "    <tr style=\"text-align: right;\">\n",
              "      <th></th>\n",
              "      <th>Размер оплаты труда</th>\n",
              "    </tr>\n",
              "  </thead>\n",
              "  <tbody>\n",
              "    <tr>\n",
              "      <th>count</th>\n",
              "      <td>132.00</td>\n",
              "    </tr>\n",
              "    <tr>\n",
              "      <th>mean</th>\n",
              "      <td>112725.00</td>\n",
              "    </tr>\n",
              "    <tr>\n",
              "      <th>std</th>\n",
              "      <td>57629.08</td>\n",
              "    </tr>\n",
              "    <tr>\n",
              "      <th>min</th>\n",
              "      <td>4000.00</td>\n",
              "    </tr>\n",
              "    <tr>\n",
              "      <th>25%</th>\n",
              "      <td>70039.50</td>\n",
              "    </tr>\n",
              "    <tr>\n",
              "      <th>50%</th>\n",
              "      <td>105500.00</td>\n",
              "    </tr>\n",
              "    <tr>\n",
              "      <th>75%</th>\n",
              "      <td>154600.00</td>\n",
              "    </tr>\n",
              "    <tr>\n",
              "      <th>max</th>\n",
              "      <td>324000.00</td>\n",
              "    </tr>\n",
              "  </tbody>\n",
              "</table>\n",
              "</div>"
            ],
            "text/plain": [
              "       Размер оплаты труда\n",
              "count               132.00\n",
              "mean             112725.00\n",
              "std               57629.08\n",
              "min                4000.00\n",
              "25%               70039.50\n",
              "50%              105500.00\n",
              "75%              154600.00\n",
              "max              324000.00"
            ]
          },
          "execution_count": 15,
          "metadata": {},
          "output_type": "execute_result"
        }
      ],
      "source": [
        "data_agg = engineer_data['salary_in_usd'].describe().round(2).to_frame()\n",
        "data_agg.columns = ['Размер оплаты труда']\n",
        "data_agg"
      ]
    },
    {
      "cell_type": "markdown",
      "metadata": {},
      "source": [
        "Распределение оплаты труда отлично от нормального, имеются выбросы."
      ]
    },
    {
      "cell_type": "markdown",
      "metadata": {
        "id": "cFABAmBjTkCo"
      },
      "source": [
        "### Оплата труда профессии Data Scientist от года, в котором была выплачена зарплата."
      ]
    },
    {
      "cell_type": "code",
      "execution_count": 16,
      "metadata": {
        "colab": {
          "base_uri": "https://localhost:8080/",
          "height": 480
        },
        "id": "a06HKS1bwzsS",
        "outputId": "e4aa3e1a-71d3-4df3-8857-3f9f4342fa18"
      },
      "outputs": [
        {
          "data": {
            "image/png": "[encoded data removed]",
            "text/plain": [
              "<Figure size 640x480 with 1 Axes>"
            ]
          },
          "metadata": {},
          "output_type": "display_data"
        }
      ],
      "source": [
        "ax = sns.boxplot(scientist_data, x='salary_in_usd', y='work_year', orient='h', medianprops={\"color\": \"red\", \"linestyle\": '--'})\n",
        "ax.set(xlabel='Размер оплаты труда', ylabel='Год')\n",
        "plt.title('Оплата труда профессии Data Scientist от года, в котором была выплачена зарплата')\n",
        "plt.show()"
      ]
    },
    {
      "cell_type": "code",
      "execution_count": 17,
      "metadata": {
        "colab": {
          "base_uri": "https://localhost:8080/",
          "height": 161
        },
        "id": "yXC_rLMn_fFV",
        "outputId": "f54838b2-b0db-4562-b281-fab9ee61eb59"
      },
      "outputs": [
        {
          "name": "stdout",
          "output_type": "stream",
          "text": [
            "Оплата труда профессии Data Scientist от года, в котором была выплачена зарплата\n"
          ]
        },
        {
          "data": {
            "text/html": [
              "<div>\n",
              "<style scoped>\n",
              "    .dataframe tbody tr th:only-of-type {\n",
              "        vertical-align: middle;\n",
              "    }\n",
              "\n",
              "    .dataframe tbody tr th {\n",
              "        vertical-align: top;\n",
              "    }\n",
              "\n",
              "    .dataframe thead th {\n",
              "        text-align: right;\n",
              "    }\n",
              "</style>\n",
              "<table border=\"1\" class=\"dataframe\">\n",
              "  <thead>\n",
              "    <tr style=\"text-align: right;\">\n",
              "      <th></th>\n",
              "      <th>count</th>\n",
              "      <th>mean</th>\n",
              "      <th>std</th>\n",
              "      <th>min</th>\n",
              "      <th>25%</th>\n",
              "      <th>50%</th>\n",
              "      <th>75%</th>\n",
              "      <th>max</th>\n",
              "    </tr>\n",
              "    <tr>\n",
              "      <th>work_year</th>\n",
              "      <th></th>\n",
              "      <th></th>\n",
              "      <th></th>\n",
              "      <th></th>\n",
              "      <th></th>\n",
              "      <th></th>\n",
              "      <th></th>\n",
              "      <th></th>\n",
              "    </tr>\n",
              "  </thead>\n",
              "  <tbody>\n",
              "    <tr>\n",
              "      <th>2020</th>\n",
              "      <td>21.0</td>\n",
              "      <td>85970.52</td>\n",
              "      <td>81436.65</td>\n",
              "      <td>21669.0</td>\n",
              "      <td>42197.0</td>\n",
              "      <td>62726.0</td>\n",
              "      <td>105000.0</td>\n",
              "      <td>412000.0</td>\n",
              "    </tr>\n",
              "    <tr>\n",
              "      <th>2021</th>\n",
              "      <td>45.0</td>\n",
              "      <td>70671.73</td>\n",
              "      <td>45422.97</td>\n",
              "      <td>2859.0</td>\n",
              "      <td>33808.0</td>\n",
              "      <td>73000.0</td>\n",
              "      <td>100000.0</td>\n",
              "      <td>165000.0</td>\n",
              "    </tr>\n",
              "    <tr>\n",
              "      <th>2022</th>\n",
              "      <td>77.0</td>\n",
              "      <td>136172.09</td>\n",
              "      <td>54563.08</td>\n",
              "      <td>18442.0</td>\n",
              "      <td>100000.0</td>\n",
              "      <td>140000.0</td>\n",
              "      <td>176000.0</td>\n",
              "      <td>260000.0</td>\n",
              "    </tr>\n",
              "  </tbody>\n",
              "</table>\n",
              "</div>"
            ],
            "text/plain": [
              "           count       mean       std      min       25%       50%       75%  \\\n",
              "work_year                                                                      \n",
              "2020        21.0   85970.52  81436.65  21669.0   42197.0   62726.0  105000.0   \n",
              "2021        45.0   70671.73  45422.97   2859.0   33808.0   73000.0  100000.0   \n",
              "2022        77.0  136172.09  54563.08  18442.0  100000.0  140000.0  176000.0   \n",
              "\n",
              "                max  \n",
              "work_year            \n",
              "2020       412000.0  \n",
              "2021       165000.0  \n",
              "2022       260000.0  "
            ]
          },
          "execution_count": 17,
          "metadata": {},
          "output_type": "execute_result"
        }
      ],
      "source": [
        "data_agg = scientist_data.groupby('work_year')['salary_in_usd'].describe().round(2)\n",
        "print('Оплата труда профессии Data Scientist от года, в котором была выплачена зарплата')\n",
        "data_agg"
      ]
    },
    {
      "cell_type": "code",
      "execution_count": 18,
      "metadata": {},
      "outputs": [
        {
          "name": "stdout",
          "output_type": "stream",
          "text": [
            "Оплата труда медианная профессии Data Scientist от года, в котором была выплачена зарплата\n"
          ]
        },
        {
          "data": {
            "text/plain": [
              "work_year\n",
              "2020     62726.0\n",
              "2021     73000.0\n",
              "2022    140000.0\n",
              "Name: salary_in_usd, dtype: float64"
            ]
          },
          "execution_count": 18,
          "metadata": {},
          "output_type": "execute_result"
        }
      ],
      "source": [
        "data_agg = scientist_data.groupby('work_year')['salary_in_usd'].median().round(2)\n",
        "print('Оплата труда медианная профессии Data Scientist от года, в котором была выплачена зарплата')\n",
        "data_agg"
      ]
    },
    {
      "cell_type": "markdown",
      "metadata": {
        "id": "QnoG6XTK_fOH"
      },
      "source": [
        "Распределение оплаты труда по году, в котором была выплачена зарплата, имеет тенденцию к увеличению медианных значений, но различны средние значения.\n",
        "\n",
        "Чтобы определить, являются ли эти различия статистически значимыми, в следующем разделе мы проведём статистические тесты."
      ]
    },
    {
      "cell_type": "markdown",
      "metadata": {
        "id": "crI7PFP0TpDI"
      },
      "source": [
        "### Оплата труда профессии Data Scientist от опыта работы соискателя."
      ]
    },
    {
      "cell_type": "code",
      "execution_count": 19,
      "metadata": {
        "colab": {
          "base_uri": "https://localhost:8080/",
          "height": 480
        },
        "id": "SkPmlfj7S9BL",
        "outputId": "00283144-aa01-43c9-9ee4-b0a38efc3f84"
      },
      "outputs": [
        {
          "data": {
            "image/png": "[encoded data removed]",
            "text/plain": [
              "<Figure size 640x480 with 1 Axes>"
            ]
          },
          "metadata": {},
          "output_type": "display_data"
        }
      ],
      "source": [
        "ax = sns.boxplot(scientist_data, x='salary_in_usd', y='experience_level', orient='h', medianprops={\"color\": \"red\", \"linestyle\": '--'})\n",
        "ax.set(xlabel='Размер оплаты труда', ylabel='Опыт работы')\n",
        "plt.title('Оплата труда профессии Data Scientist от опыта работы соискателя')\n",
        "plt.show()"
      ]
    },
    {
      "cell_type": "code",
      "execution_count": 20,
      "metadata": {
        "colab": {
          "base_uri": "https://localhost:8080/",
          "height": 161
        },
        "id": "yeXQdZzQS9BL",
        "outputId": "452b6af6-f003-4332-8d79-cffcaa4f8fb8"
      },
      "outputs": [
        {
          "name": "stdout",
          "output_type": "stream",
          "text": [
            "Оплата труда профессии Data Scientist от опыта работы соискателя\n"
          ]
        },
        {
          "data": {
            "text/html": [
              "<div>\n",
              "<style scoped>\n",
              "    .dataframe tbody tr th:only-of-type {\n",
              "        vertical-align: middle;\n",
              "    }\n",
              "\n",
              "    .dataframe tbody tr th {\n",
              "        vertical-align: top;\n",
              "    }\n",
              "\n",
              "    .dataframe thead th {\n",
              "        text-align: right;\n",
              "    }\n",
              "</style>\n",
              "<table border=\"1\" class=\"dataframe\">\n",
              "  <thead>\n",
              "    <tr style=\"text-align: right;\">\n",
              "      <th></th>\n",
              "      <th>count</th>\n",
              "      <th>mean</th>\n",
              "      <th>std</th>\n",
              "      <th>min</th>\n",
              "      <th>25%</th>\n",
              "      <th>50%</th>\n",
              "      <th>75%</th>\n",
              "      <th>max</th>\n",
              "    </tr>\n",
              "    <tr>\n",
              "      <th>experience_level</th>\n",
              "      <th></th>\n",
              "      <th></th>\n",
              "      <th></th>\n",
              "      <th></th>\n",
              "      <th></th>\n",
              "      <th></th>\n",
              "      <th></th>\n",
              "      <th></th>\n",
              "    </tr>\n",
              "  </thead>\n",
              "  <tbody>\n",
              "    <tr>\n",
              "      <th>EN</th>\n",
              "      <td>22.0</td>\n",
              "      <td>55330.91</td>\n",
              "      <td>31237.82</td>\n",
              "      <td>4000.0</td>\n",
              "      <td>31474.0</td>\n",
              "      <td>50483.5</td>\n",
              "      <td>85027.25</td>\n",
              "      <td>105000.0</td>\n",
              "    </tr>\n",
              "    <tr>\n",
              "      <th>MI</th>\n",
              "      <td>60.0</td>\n",
              "      <td>82039.13</td>\n",
              "      <td>46869.58</td>\n",
              "      <td>2859.0</td>\n",
              "      <td>41768.0</td>\n",
              "      <td>77479.0</td>\n",
              "      <td>118264.75</td>\n",
              "      <td>200000.0</td>\n",
              "    </tr>\n",
              "    <tr>\n",
              "      <th>SE</th>\n",
              "      <td>61.0</td>\n",
              "      <td>152971.02</td>\n",
              "      <td>58985.40</td>\n",
              "      <td>20171.0</td>\n",
              "      <td>120000.0</td>\n",
              "      <td>140400.0</td>\n",
              "      <td>180000.00</td>\n",
              "      <td>412000.0</td>\n",
              "    </tr>\n",
              "  </tbody>\n",
              "</table>\n",
              "</div>"
            ],
            "text/plain": [
              "                  count       mean       std      min       25%       50%  \\\n",
              "experience_level                                                            \n",
              "EN                 22.0   55330.91  31237.82   4000.0   31474.0   50483.5   \n",
              "MI                 60.0   82039.13  46869.58   2859.0   41768.0   77479.0   \n",
              "SE                 61.0  152971.02  58985.40  20171.0  120000.0  140400.0   \n",
              "\n",
              "                        75%       max  \n",
              "experience_level                       \n",
              "EN                 85027.25  105000.0  \n",
              "MI                118264.75  200000.0  \n",
              "SE                180000.00  412000.0  "
            ]
          },
          "execution_count": 20,
          "metadata": {},
          "output_type": "execute_result"
        }
      ],
      "source": [
        "data_agg = scientist_data.groupby('experience_level')['salary_in_usd'].describe().round(2)\n",
        "print('Оплата труда профессии Data Scientist от опыта работы соискателя')\n",
        "data_agg"
      ]
    },
    {
      "cell_type": "markdown",
      "metadata": {
        "id": "zK_jL2gjS9BL"
      },
      "source": [
        "Среднее значение оплаты труда увеличивается с опытом работы соискателя.\n",
        "\n",
        "Чтобы определить, являются ли эти различия статистически значимыми, в следующем разделе мы проведём статистические тесты."
      ]
    },
    {
      "cell_type": "markdown",
      "metadata": {
        "id": "y5MHyfPTTshb"
      },
      "source": [
        "### Оплата труда профессии Data Scientist от типа трудоустройства."
      ]
    },
    {
      "cell_type": "code",
      "execution_count": 21,
      "metadata": {
        "colab": {
          "base_uri": "https://localhost:8080/",
          "height": 480
        },
        "id": "denXZIElwzvO",
        "outputId": "5101be0d-2e82-4126-ab69-ffc179b1626b"
      },
      "outputs": [
        {
          "data": {
            "image/png": "[encoded data removed]",
            "text/plain": [
              "<Figure size 640x480 with 1 Axes>"
            ]
          },
          "metadata": {},
          "output_type": "display_data"
        }
      ],
      "source": [
        "ax = sns.boxplot(scientist_data, x='salary_in_usd', y='employment_type', orient='h', medianprops={\"color\": \"red\", \"linestyle\": '--'})\n",
        "ax.set(xlabel='Размер оплаты труда', ylabel='Тип трудаустройства')\n",
        "plt.title('Оплата труда профессии Data Scientist от типа трудоустройства')\n",
        "plt.show()"
      ]
    },
    {
      "cell_type": "code",
      "execution_count": 22,
      "metadata": {
        "colab": {
          "base_uri": "https://localhost:8080/",
          "height": 223
        },
        "id": "xfI208tHwz6T",
        "outputId": "af1e6d3f-7417-4633-814a-353507e9104f"
      },
      "outputs": [
        {
          "name": "stdout",
          "output_type": "stream",
          "text": [
            "Оплата труда профессии Data Scientist от типа трудоустройства\n"
          ]
        },
        {
          "data": {
            "text/html": [
              "<div>\n",
              "<style scoped>\n",
              "    .dataframe tbody tr th:only-of-type {\n",
              "        vertical-align: middle;\n",
              "    }\n",
              "\n",
              "    .dataframe tbody tr th {\n",
              "        vertical-align: top;\n",
              "    }\n",
              "\n",
              "    .dataframe thead th {\n",
              "        text-align: right;\n",
              "    }\n",
              "</style>\n",
              "<table border=\"1\" class=\"dataframe\">\n",
              "  <thead>\n",
              "    <tr style=\"text-align: right;\">\n",
              "      <th></th>\n",
              "      <th>count</th>\n",
              "      <th>mean</th>\n",
              "      <th>std</th>\n",
              "      <th>min</th>\n",
              "      <th>25%</th>\n",
              "      <th>50%</th>\n",
              "      <th>75%</th>\n",
              "      <th>max</th>\n",
              "    </tr>\n",
              "    <tr>\n",
              "      <th>employment_type</th>\n",
              "      <th></th>\n",
              "      <th></th>\n",
              "      <th></th>\n",
              "      <th></th>\n",
              "      <th></th>\n",
              "      <th></th>\n",
              "      <th></th>\n",
              "      <th></th>\n",
              "    </tr>\n",
              "  </thead>\n",
              "  <tbody>\n",
              "    <tr>\n",
              "      <th>FL</th>\n",
              "      <td>1.0</td>\n",
              "      <td>100000.00</td>\n",
              "      <td>NaN</td>\n",
              "      <td>100000.0</td>\n",
              "      <td>100000.00</td>\n",
              "      <td>100000.0</td>\n",
              "      <td>100000.00</td>\n",
              "      <td>100000.0</td>\n",
              "    </tr>\n",
              "    <tr>\n",
              "      <th>FT</th>\n",
              "      <td>140.0</td>\n",
              "      <td>108922.79</td>\n",
              "      <td>64372.43</td>\n",
              "      <td>2859.0</td>\n",
              "      <td>55490.00</td>\n",
              "      <td>104796.0</td>\n",
              "      <td>141975.00</td>\n",
              "      <td>412000.0</td>\n",
              "    </tr>\n",
              "    <tr>\n",
              "      <th>PT</th>\n",
              "      <td>2.0</td>\n",
              "      <td>60834.50</td>\n",
              "      <td>55388.38</td>\n",
              "      <td>21669.0</td>\n",
              "      <td>41251.75</td>\n",
              "      <td>60834.5</td>\n",
              "      <td>80417.25</td>\n",
              "      <td>100000.0</td>\n",
              "    </tr>\n",
              "  </tbody>\n",
              "</table>\n",
              "</div>"
            ],
            "text/plain": [
              "                 count       mean       std       min        25%       50%  \\\n",
              "employment_type                                                              \n",
              "FL                 1.0  100000.00       NaN  100000.0  100000.00  100000.0   \n",
              "FT               140.0  108922.79  64372.43    2859.0   55490.00  104796.0   \n",
              "PT                 2.0   60834.50  55388.38   21669.0   41251.75   60834.5   \n",
              "\n",
              "                       75%       max  \n",
              "employment_type                       \n",
              "FL               100000.00  100000.0  \n",
              "FT               141975.00  412000.0  \n",
              "PT                80417.25  100000.0  "
            ]
          },
          "execution_count": 22,
          "metadata": {},
          "output_type": "execute_result"
        }
      ],
      "source": [
        "data_agg = scientist_data.groupby('employment_type')['salary_in_usd'].describe().round(2)\n",
        "print('Оплата труда профессии Data Scientist от типа трудоустройства')\n",
        "data_agg"
      ]
    },
    {
      "cell_type": "markdown",
      "metadata": {
        "id": "y_SC_018yS76"
      },
      "source": [
        "Оплаты труда различна для разных типов трудоустройства.\n",
        "\n",
        "Но выборки для PT (неполный рабочий день) и FL (фриланс) менее 3х, поэтому проверить на нормальность тестами будет не возможно, следовательно статистические тесты проводить нет смысла."
      ]
    },
    {
      "cell_type": "markdown",
      "metadata": {
        "id": "GlJ2fclcl7Zd"
      },
      "source": [
        "### Оплата труда профессии Data Scientist от страны проживания."
      ]
    },
    {
      "cell_type": "code",
      "execution_count": 23,
      "metadata": {
        "id": "Uk8459-8l7Zd",
        "outputId": "ec251979-47d0-4b80-8c0a-d4416583b95c"
      },
      "outputs": [
        {
          "data": {
            "image/png": "[encoded data removed]",
            "text/plain": [
              "<Figure size 640x480 with 1 Axes>"
            ]
          },
          "metadata": {},
          "output_type": "display_data"
        }
      ],
      "source": [
        "ax = sns.boxplot(scientist_data, x='salary_in_usd', y='employee_residence', orient='h', medianprops={\"color\": \"red\", \"linestyle\": '--'})\n",
        "ax.set(xlabel='Размер оплаты труда', ylabel='Страна')\n",
        "plt.title('Оплата труда профессии Data Scientist от страны проживания')\n",
        "plt.show()"
      ]
    },
    {
      "cell_type": "code",
      "execution_count": 24,
      "metadata": {},
      "outputs": [
        {
          "name": "stdout",
          "output_type": "stream",
          "text": [
            "Оплата труда профессии Data Scientist от страны проживания\n"
          ]
        },
        {
          "data": {
            "text/html": [
              "<div>\n",
              "<style scoped>\n",
              "    .dataframe tbody tr th:only-of-type {\n",
              "        vertical-align: middle;\n",
              "    }\n",
              "\n",
              "    .dataframe tbody tr th {\n",
              "        vertical-align: top;\n",
              "    }\n",
              "\n",
              "    .dataframe thead th {\n",
              "        text-align: right;\n",
              "    }\n",
              "</style>\n",
              "<table border=\"1\" class=\"dataframe\">\n",
              "  <thead>\n",
              "    <tr style=\"text-align: right;\">\n",
              "      <th></th>\n",
              "      <th>count</th>\n",
              "      <th>mean</th>\n",
              "      <th>std</th>\n",
              "      <th>min</th>\n",
              "      <th>25%</th>\n",
              "      <th>50%</th>\n",
              "      <th>75%</th>\n",
              "      <th>max</th>\n",
              "    </tr>\n",
              "    <tr>\n",
              "      <th>employee_residence</th>\n",
              "      <th></th>\n",
              "      <th></th>\n",
              "      <th></th>\n",
              "      <th></th>\n",
              "      <th></th>\n",
              "      <th></th>\n",
              "      <th></th>\n",
              "      <th></th>\n",
              "    </tr>\n",
              "  </thead>\n",
              "  <tbody>\n",
              "    <tr>\n",
              "      <th>US</th>\n",
              "      <td>78.0</td>\n",
              "      <td>149408.33</td>\n",
              "      <td>52576.02</td>\n",
              "      <td>58000.0</td>\n",
              "      <td>120000.00</td>\n",
              "      <td>140000.0</td>\n",
              "      <td>174500.00</td>\n",
              "      <td>412000.0</td>\n",
              "    </tr>\n",
              "    <tr>\n",
              "      <th>GB</th>\n",
              "      <td>11.0</td>\n",
              "      <td>88177.36</td>\n",
              "      <td>41393.50</td>\n",
              "      <td>39263.0</td>\n",
              "      <td>60847.00</td>\n",
              "      <td>76958.0</td>\n",
              "      <td>110808.00</td>\n",
              "      <td>183228.0</td>\n",
              "    </tr>\n",
              "    <tr>\n",
              "      <th>IN</th>\n",
              "      <td>9.0</td>\n",
              "      <td>23838.33</td>\n",
              "      <td>11758.72</td>\n",
              "      <td>5679.0</td>\n",
              "      <td>16904.00</td>\n",
              "      <td>28399.0</td>\n",
              "      <td>31615.00</td>\n",
              "      <td>40481.0</td>\n",
              "    </tr>\n",
              "    <tr>\n",
              "      <th>FR</th>\n",
              "      <td>8.0</td>\n",
              "      <td>51665.62</td>\n",
              "      <td>13412.16</td>\n",
              "      <td>36643.0</td>\n",
              "      <td>41626.75</td>\n",
              "      <td>50483.5</td>\n",
              "      <td>55575.50</td>\n",
              "      <td>77684.0</td>\n",
              "    </tr>\n",
              "    <tr>\n",
              "      <th>DE</th>\n",
              "      <td>7.0</td>\n",
              "      <td>74773.71</td>\n",
              "      <td>16834.87</td>\n",
              "      <td>49268.0</td>\n",
              "      <td>62096.50</td>\n",
              "      <td>79833.0</td>\n",
              "      <td>89694.00</td>\n",
              "      <td>90734.0</td>\n",
              "    </tr>\n",
              "    <tr>\n",
              "      <th>CA</th>\n",
              "      <td>6.0</td>\n",
              "      <td>81489.17</td>\n",
              "      <td>19500.74</td>\n",
              "      <td>52396.0</td>\n",
              "      <td>70945.50</td>\n",
              "      <td>81756.0</td>\n",
              "      <td>96934.50</td>\n",
              "      <td>103691.0</td>\n",
              "    </tr>\n",
              "    <tr>\n",
              "      <th>ES</th>\n",
              "      <td>3.0</td>\n",
              "      <td>41136.67</td>\n",
              "      <td>4935.34</td>\n",
              "      <td>37825.0</td>\n",
              "      <td>38300.50</td>\n",
              "      <td>38776.0</td>\n",
              "      <td>42792.50</td>\n",
              "      <td>46809.0</td>\n",
              "    </tr>\n",
              "    <tr>\n",
              "      <th>BR</th>\n",
              "      <td>2.0</td>\n",
              "      <td>56450.50</td>\n",
              "      <td>61588.29</td>\n",
              "      <td>12901.0</td>\n",
              "      <td>34675.75</td>\n",
              "      <td>56450.5</td>\n",
              "      <td>78225.25</td>\n",
              "      <td>100000.0</td>\n",
              "    </tr>\n",
              "    <tr>\n",
              "      <th>NG</th>\n",
              "      <td>1.0</td>\n",
              "      <td>50000.00</td>\n",
              "      <td>NaN</td>\n",
              "      <td>50000.0</td>\n",
              "      <td>50000.00</td>\n",
              "      <td>50000.0</td>\n",
              "      <td>50000.00</td>\n",
              "      <td>50000.0</td>\n",
              "    </tr>\n",
              "    <tr>\n",
              "      <th>UA</th>\n",
              "      <td>1.0</td>\n",
              "      <td>13400.00</td>\n",
              "      <td>NaN</td>\n",
              "      <td>13400.0</td>\n",
              "      <td>13400.00</td>\n",
              "      <td>13400.0</td>\n",
              "      <td>13400.00</td>\n",
              "      <td>13400.0</td>\n",
              "    </tr>\n",
              "    <tr>\n",
              "      <th>TR</th>\n",
              "      <td>1.0</td>\n",
              "      <td>20171.00</td>\n",
              "      <td>NaN</td>\n",
              "      <td>20171.0</td>\n",
              "      <td>20171.00</td>\n",
              "      <td>20171.0</td>\n",
              "      <td>20171.00</td>\n",
              "      <td>20171.0</td>\n",
              "    </tr>\n",
              "    <tr>\n",
              "      <th>SG</th>\n",
              "      <td>1.0</td>\n",
              "      <td>119059.00</td>\n",
              "      <td>NaN</td>\n",
              "      <td>119059.0</td>\n",
              "      <td>119059.00</td>\n",
              "      <td>119059.0</td>\n",
              "      <td>119059.00</td>\n",
              "      <td>119059.0</td>\n",
              "    </tr>\n",
              "    <tr>\n",
              "      <th>RU</th>\n",
              "      <td>1.0</td>\n",
              "      <td>48000.00</td>\n",
              "      <td>NaN</td>\n",
              "      <td>48000.0</td>\n",
              "      <td>48000.00</td>\n",
              "      <td>48000.0</td>\n",
              "      <td>48000.00</td>\n",
              "      <td>48000.0</td>\n",
              "    </tr>\n",
              "    <tr>\n",
              "      <th>RS</th>\n",
              "      <td>1.0</td>\n",
              "      <td>25532.00</td>\n",
              "      <td>NaN</td>\n",
              "      <td>25532.0</td>\n",
              "      <td>25532.00</td>\n",
              "      <td>25532.0</td>\n",
              "      <td>25532.00</td>\n",
              "      <td>25532.0</td>\n",
              "    </tr>\n",
              "    <tr>\n",
              "      <th>PL</th>\n",
              "      <td>1.0</td>\n",
              "      <td>35590.00</td>\n",
              "      <td>NaN</td>\n",
              "      <td>35590.0</td>\n",
              "      <td>35590.00</td>\n",
              "      <td>35590.0</td>\n",
              "      <td>35590.00</td>\n",
              "      <td>35590.0</td>\n",
              "    </tr>\n",
              "    <tr>\n",
              "      <th>PH</th>\n",
              "      <td>1.0</td>\n",
              "      <td>45760.00</td>\n",
              "      <td>NaN</td>\n",
              "      <td>45760.0</td>\n",
              "      <td>45760.00</td>\n",
              "      <td>45760.0</td>\n",
              "      <td>45760.00</td>\n",
              "      <td>45760.0</td>\n",
              "    </tr>\n",
              "    <tr>\n",
              "      <th>AT</th>\n",
              "      <td>1.0</td>\n",
              "      <td>91237.00</td>\n",
              "      <td>NaN</td>\n",
              "      <td>91237.0</td>\n",
              "      <td>91237.00</td>\n",
              "      <td>91237.0</td>\n",
              "      <td>91237.00</td>\n",
              "      <td>91237.0</td>\n",
              "    </tr>\n",
              "    <tr>\n",
              "      <th>MX</th>\n",
              "      <td>1.0</td>\n",
              "      <td>2859.00</td>\n",
              "      <td>NaN</td>\n",
              "      <td>2859.0</td>\n",
              "      <td>2859.00</td>\n",
              "      <td>2859.0</td>\n",
              "      <td>2859.00</td>\n",
              "      <td>2859.0</td>\n",
              "    </tr>\n",
              "    <tr>\n",
              "      <th>JP</th>\n",
              "      <td>1.0</td>\n",
              "      <td>40000.00</td>\n",
              "      <td>NaN</td>\n",
              "      <td>40000.0</td>\n",
              "      <td>40000.00</td>\n",
              "      <td>40000.0</td>\n",
              "      <td>40000.00</td>\n",
              "      <td>40000.0</td>\n",
              "    </tr>\n",
              "    <tr>\n",
              "      <th>IT</th>\n",
              "      <td>1.0</td>\n",
              "      <td>21669.00</td>\n",
              "      <td>NaN</td>\n",
              "      <td>21669.0</td>\n",
              "      <td>21669.00</td>\n",
              "      <td>21669.0</td>\n",
              "      <td>21669.00</td>\n",
              "      <td>21669.0</td>\n",
              "    </tr>\n",
              "    <tr>\n",
              "      <th>AU</th>\n",
              "      <td>1.0</td>\n",
              "      <td>86703.00</td>\n",
              "      <td>NaN</td>\n",
              "      <td>86703.0</td>\n",
              "      <td>86703.00</td>\n",
              "      <td>86703.0</td>\n",
              "      <td>86703.00</td>\n",
              "      <td>86703.0</td>\n",
              "    </tr>\n",
              "    <tr>\n",
              "      <th>HU</th>\n",
              "      <td>1.0</td>\n",
              "      <td>35735.00</td>\n",
              "      <td>NaN</td>\n",
              "      <td>35735.0</td>\n",
              "      <td>35735.00</td>\n",
              "      <td>35735.0</td>\n",
              "      <td>35735.00</td>\n",
              "      <td>35735.0</td>\n",
              "    </tr>\n",
              "    <tr>\n",
              "      <th>GR</th>\n",
              "      <td>1.0</td>\n",
              "      <td>68428.00</td>\n",
              "      <td>NaN</td>\n",
              "      <td>68428.0</td>\n",
              "      <td>68428.00</td>\n",
              "      <td>68428.0</td>\n",
              "      <td>68428.00</td>\n",
              "      <td>68428.0</td>\n",
              "    </tr>\n",
              "    <tr>\n",
              "      <th>DZ</th>\n",
              "      <td>1.0</td>\n",
              "      <td>100000.00</td>\n",
              "      <td>NaN</td>\n",
              "      <td>100000.0</td>\n",
              "      <td>100000.00</td>\n",
              "      <td>100000.0</td>\n",
              "      <td>100000.00</td>\n",
              "      <td>100000.0</td>\n",
              "    </tr>\n",
              "    <tr>\n",
              "      <th>CL</th>\n",
              "      <td>1.0</td>\n",
              "      <td>40038.00</td>\n",
              "      <td>NaN</td>\n",
              "      <td>40038.0</td>\n",
              "      <td>40038.00</td>\n",
              "      <td>40038.0</td>\n",
              "      <td>40038.00</td>\n",
              "      <td>40038.0</td>\n",
              "    </tr>\n",
              "    <tr>\n",
              "      <th>CH</th>\n",
              "      <td>1.0</td>\n",
              "      <td>122346.00</td>\n",
              "      <td>NaN</td>\n",
              "      <td>122346.0</td>\n",
              "      <td>122346.00</td>\n",
              "      <td>122346.0</td>\n",
              "      <td>122346.00</td>\n",
              "      <td>122346.0</td>\n",
              "    </tr>\n",
              "    <tr>\n",
              "      <th>VN</th>\n",
              "      <td>1.0</td>\n",
              "      <td>4000.00</td>\n",
              "      <td>NaN</td>\n",
              "      <td>4000.0</td>\n",
              "      <td>4000.00</td>\n",
              "      <td>4000.0</td>\n",
              "      <td>4000.00</td>\n",
              "      <td>4000.0</td>\n",
              "    </tr>\n",
              "  </tbody>\n",
              "</table>\n",
              "</div>"
            ],
            "text/plain": [
              "                    count       mean       std       min        25%       50%  \\\n",
              "employee_residence                                                              \n",
              "US                   78.0  149408.33  52576.02   58000.0  120000.00  140000.0   \n",
              "GB                   11.0   88177.36  41393.50   39263.0   60847.00   76958.0   \n",
              "IN                    9.0   23838.33  11758.72    5679.0   16904.00   28399.0   \n",
              "FR                    8.0   51665.62  13412.16   36643.0   41626.75   50483.5   \n",
              "DE                    7.0   74773.71  16834.87   49268.0   62096.50   79833.0   \n",
              "CA                    6.0   81489.17  19500.74   52396.0   70945.50   81756.0   \n",
              "ES                    3.0   41136.67   4935.34   37825.0   38300.50   38776.0   \n",
              "BR                    2.0   56450.50  61588.29   12901.0   34675.75   56450.5   \n",
              "NG                    1.0   50000.00       NaN   50000.0   50000.00   50000.0   \n",
              "UA                    1.0   13400.00       NaN   13400.0   13400.00   13400.0   \n",
              "TR                    1.0   20171.00       NaN   20171.0   20171.00   20171.0   \n",
              "SG                    1.0  119059.00       NaN  119059.0  119059.00  119059.0   \n",
              "RU                    1.0   48000.00       NaN   48000.0   48000.00   48000.0   \n",
              "RS                    1.0   25532.00       NaN   25532.0   25532.00   25532.0   \n",
              "PL                    1.0   35590.00       NaN   35590.0   35590.00   35590.0   \n",
              "PH                    1.0   45760.00       NaN   45760.0   45760.00   45760.0   \n",
              "AT                    1.0   91237.00       NaN   91237.0   91237.00   91237.0   \n",
              "MX                    1.0    2859.00       NaN    2859.0    2859.00    2859.0   \n",
              "JP                    1.0   40000.00       NaN   40000.0   40000.00   40000.0   \n",
              "IT                    1.0   21669.00       NaN   21669.0   21669.00   21669.0   \n",
              "AU                    1.0   86703.00       NaN   86703.0   86703.00   86703.0   \n",
              "HU                    1.0   35735.00       NaN   35735.0   35735.00   35735.0   \n",
              "GR                    1.0   68428.00       NaN   68428.0   68428.00   68428.0   \n",
              "DZ                    1.0  100000.00       NaN  100000.0  100000.00  100000.0   \n",
              "CL                    1.0   40038.00       NaN   40038.0   40038.00   40038.0   \n",
              "CH                    1.0  122346.00       NaN  122346.0  122346.00  122346.0   \n",
              "VN                    1.0    4000.00       NaN    4000.0    4000.00    4000.0   \n",
              "\n",
              "                          75%       max  \n",
              "employee_residence                       \n",
              "US                  174500.00  412000.0  \n",
              "GB                  110808.00  183228.0  \n",
              "IN                   31615.00   40481.0  \n",
              "FR                   55575.50   77684.0  \n",
              "DE                   89694.00   90734.0  \n",
              "CA                   96934.50  103691.0  \n",
              "ES                   42792.50   46809.0  \n",
              "BR                   78225.25  100000.0  \n",
              "NG                   50000.00   50000.0  \n",
              "UA                   13400.00   13400.0  \n",
              "TR                   20171.00   20171.0  \n",
              "SG                  119059.00  119059.0  \n",
              "RU                   48000.00   48000.0  \n",
              "RS                   25532.00   25532.0  \n",
              "PL                   35590.00   35590.0  \n",
              "PH                   45760.00   45760.0  \n",
              "AT                   91237.00   91237.0  \n",
              "MX                    2859.00    2859.0  \n",
              "JP                   40000.00   40000.0  \n",
              "IT                   21669.00   21669.0  \n",
              "AU                   86703.00   86703.0  \n",
              "HU                   35735.00   35735.0  \n",
              "GR                   68428.00   68428.0  \n",
              "DZ                  100000.00  100000.0  \n",
              "CL                   40038.00   40038.0  \n",
              "CH                  122346.00  122346.0  \n",
              "VN                    4000.00    4000.0  "
            ]
          },
          "execution_count": 24,
          "metadata": {},
          "output_type": "execute_result"
        }
      ],
      "source": [
        "data_agg = scientist_data.groupby('employee_residence')['salary_in_usd'].describe().round(2)\n",
        "print('Оплата труда профессии Data Scientist от страны проживания')\n",
        "data_agg.sort_values('count', ascending=False)"
      ]
    },
    {
      "cell_type": "code",
      "execution_count": 25,
      "metadata": {},
      "outputs": [
        {
          "name": "stdout",
          "output_type": "stream",
          "text": [
            "employee_residence\n",
            "US    78\n",
            "GB    11\n",
            "IN     9\n",
            "FR     8\n",
            "DE     7\n",
            "CA     6\n",
            "ES     3\n",
            "Name: count, dtype: int64\n"
          ]
        },
        {
          "data": {
            "text/html": [
              "<div>\n",
              "<style scoped>\n",
              "    .dataframe tbody tr th:only-of-type {\n",
              "        vertical-align: middle;\n",
              "    }\n",
              "\n",
              "    .dataframe tbody tr th {\n",
              "        vertical-align: top;\n",
              "    }\n",
              "\n",
              "    .dataframe thead th {\n",
              "        text-align: right;\n",
              "    }\n",
              "</style>\n",
              "<table border=\"1\" class=\"dataframe\">\n",
              "  <thead>\n",
              "    <tr style=\"text-align: right;\">\n",
              "      <th></th>\n",
              "      <th>work_year</th>\n",
              "      <th>experience_level</th>\n",
              "      <th>employment_type</th>\n",
              "      <th>job_title</th>\n",
              "      <th>salary_in_usd</th>\n",
              "      <th>employee_residence</th>\n",
              "      <th>remote_ratio</th>\n",
              "      <th>company_location</th>\n",
              "      <th>company_size</th>\n",
              "    </tr>\n",
              "  </thead>\n",
              "  <tbody>\n",
              "    <tr>\n",
              "      <th>0</th>\n",
              "      <td>2020</td>\n",
              "      <td>MI</td>\n",
              "      <td>FT</td>\n",
              "      <td>Data Scientist</td>\n",
              "      <td>79833</td>\n",
              "      <td>DE</td>\n",
              "      <td>0</td>\n",
              "      <td>DE</td>\n",
              "      <td>L</td>\n",
              "    </tr>\n",
              "    <tr>\n",
              "      <th>10</th>\n",
              "      <td>2020</td>\n",
              "      <td>EN</td>\n",
              "      <td>FT</td>\n",
              "      <td>Data Scientist</td>\n",
              "      <td>51321</td>\n",
              "      <td>FR</td>\n",
              "      <td>0</td>\n",
              "      <td>FR</td>\n",
              "      <td>S</td>\n",
              "    </tr>\n",
              "    <tr>\n",
              "      <th>11</th>\n",
              "      <td>2020</td>\n",
              "      <td>MI</td>\n",
              "      <td>FT</td>\n",
              "      <td>Data Scientist</td>\n",
              "      <td>40481</td>\n",
              "      <td>IN</td>\n",
              "      <td>0</td>\n",
              "      <td>IN</td>\n",
              "      <td>L</td>\n",
              "    </tr>\n",
              "    <tr>\n",
              "      <th>12</th>\n",
              "      <td>2020</td>\n",
              "      <td>EN</td>\n",
              "      <td>FT</td>\n",
              "      <td>Data Scientist</td>\n",
              "      <td>39916</td>\n",
              "      <td>FR</td>\n",
              "      <td>0</td>\n",
              "      <td>FR</td>\n",
              "      <td>M</td>\n",
              "    </tr>\n",
              "    <tr>\n",
              "      <th>46</th>\n",
              "      <td>2020</td>\n",
              "      <td>MI</td>\n",
              "      <td>FT</td>\n",
              "      <td>Data Scientist</td>\n",
              "      <td>76958</td>\n",
              "      <td>GB</td>\n",
              "      <td>100</td>\n",
              "      <td>GB</td>\n",
              "      <td>S</td>\n",
              "    </tr>\n",
              "    <tr>\n",
              "      <th>...</th>\n",
              "      <td>...</td>\n",
              "      <td>...</td>\n",
              "      <td>...</td>\n",
              "      <td>...</td>\n",
              "      <td>...</td>\n",
              "      <td>...</td>\n",
              "      <td>...</td>\n",
              "      <td>...</td>\n",
              "      <td>...</td>\n",
              "    </tr>\n",
              "    <tr>\n",
              "      <th>592</th>\n",
              "      <td>2022</td>\n",
              "      <td>SE</td>\n",
              "      <td>FT</td>\n",
              "      <td>Data Scientist</td>\n",
              "      <td>230000</td>\n",
              "      <td>US</td>\n",
              "      <td>100</td>\n",
              "      <td>US</td>\n",
              "      <td>M</td>\n",
              "    </tr>\n",
              "    <tr>\n",
              "      <th>593</th>\n",
              "      <td>2022</td>\n",
              "      <td>SE</td>\n",
              "      <td>FT</td>\n",
              "      <td>Data Scientist</td>\n",
              "      <td>150000</td>\n",
              "      <td>US</td>\n",
              "      <td>100</td>\n",
              "      <td>US</td>\n",
              "      <td>M</td>\n",
              "    </tr>\n",
              "    <tr>\n",
              "      <th>596</th>\n",
              "      <td>2022</td>\n",
              "      <td>SE</td>\n",
              "      <td>FT</td>\n",
              "      <td>Data Scientist</td>\n",
              "      <td>210000</td>\n",
              "      <td>US</td>\n",
              "      <td>100</td>\n",
              "      <td>US</td>\n",
              "      <td>M</td>\n",
              "    </tr>\n",
              "    <tr>\n",
              "      <th>598</th>\n",
              "      <td>2022</td>\n",
              "      <td>MI</td>\n",
              "      <td>FT</td>\n",
              "      <td>Data Scientist</td>\n",
              "      <td>160000</td>\n",
              "      <td>US</td>\n",
              "      <td>100</td>\n",
              "      <td>US</td>\n",
              "      <td>M</td>\n",
              "    </tr>\n",
              "    <tr>\n",
              "      <th>599</th>\n",
              "      <td>2022</td>\n",
              "      <td>MI</td>\n",
              "      <td>FT</td>\n",
              "      <td>Data Scientist</td>\n",
              "      <td>130000</td>\n",
              "      <td>US</td>\n",
              "      <td>100</td>\n",
              "      <td>US</td>\n",
              "      <td>M</td>\n",
              "    </tr>\n",
              "  </tbody>\n",
              "</table>\n",
              "<p>122 rows × 9 columns</p>\n",
              "</div>"
            ],
            "text/plain": [
              "     work_year experience_level employment_type       job_title  \\\n",
              "0         2020               MI              FT  Data Scientist   \n",
              "10        2020               EN              FT  Data Scientist   \n",
              "11        2020               MI              FT  Data Scientist   \n",
              "12        2020               EN              FT  Data Scientist   \n",
              "46        2020               MI              FT  Data Scientist   \n",
              "..         ...              ...             ...             ...   \n",
              "592       2022               SE              FT  Data Scientist   \n",
              "593       2022               SE              FT  Data Scientist   \n",
              "596       2022               SE              FT  Data Scientist   \n",
              "598       2022               MI              FT  Data Scientist   \n",
              "599       2022               MI              FT  Data Scientist   \n",
              "\n",
              "     salary_in_usd employee_residence  remote_ratio company_location  \\\n",
              "0            79833                 DE             0               DE   \n",
              "10           51321                 FR             0               FR   \n",
              "11           40481                 IN             0               IN   \n",
              "12           39916                 FR             0               FR   \n",
              "46           76958                 GB           100               GB   \n",
              "..             ...                ...           ...              ...   \n",
              "592         230000                 US           100               US   \n",
              "593         150000                 US           100               US   \n",
              "596         210000                 US           100               US   \n",
              "598         160000                 US           100               US   \n",
              "599         130000                 US           100               US   \n",
              "\n",
              "    company_size  \n",
              "0              L  \n",
              "10             S  \n",
              "11             L  \n",
              "12             M  \n",
              "46             S  \n",
              "..           ...  \n",
              "592            M  \n",
              "593            M  \n",
              "596            M  \n",
              "598            M  \n",
              "599            M  \n",
              "\n",
              "[122 rows x 9 columns]"
            ]
          },
          "metadata": {},
          "output_type": "display_data"
        }
      ],
      "source": [
        "# Сформируем список с выборкой больше 2х\n",
        "popular_employee_residence =scientist_data['employee_residence'].value_counts().loc[lambda x : x > 2]\n",
        "print(popular_employee_residence)\n",
        "# Оставим страны с выборкой более 2х\n",
        "scientist_data_per = scientist_data.copy()\n",
        "scientist_data_per['employee_residence'] = scientist_data_per['employee_residence'].apply(lambda x: x if x in popular_employee_residence else 'other')\n",
        "scientist_data_per = scientist_data_per[scientist_data_per['employee_residence'] != 'other']\n",
        "display(scientist_data_per)"
      ]
    },
    {
      "cell_type": "code",
      "execution_count": 26,
      "metadata": {},
      "outputs": [
        {
          "name": "stdout",
          "output_type": "stream",
          "text": [
            "Оплата труда профессии Data Scientist от страны проживания\n"
          ]
        },
        {
          "data": {
            "text/html": [
              "<div>\n",
              "<style scoped>\n",
              "    .dataframe tbody tr th:only-of-type {\n",
              "        vertical-align: middle;\n",
              "    }\n",
              "\n",
              "    .dataframe tbody tr th {\n",
              "        vertical-align: top;\n",
              "    }\n",
              "\n",
              "    .dataframe thead th {\n",
              "        text-align: right;\n",
              "    }\n",
              "</style>\n",
              "<table border=\"1\" class=\"dataframe\">\n",
              "  <thead>\n",
              "    <tr style=\"text-align: right;\">\n",
              "      <th></th>\n",
              "      <th>count</th>\n",
              "      <th>mean</th>\n",
              "      <th>std</th>\n",
              "      <th>min</th>\n",
              "      <th>25%</th>\n",
              "      <th>50%</th>\n",
              "      <th>75%</th>\n",
              "      <th>max</th>\n",
              "    </tr>\n",
              "    <tr>\n",
              "      <th>employee_residence</th>\n",
              "      <th></th>\n",
              "      <th></th>\n",
              "      <th></th>\n",
              "      <th></th>\n",
              "      <th></th>\n",
              "      <th></th>\n",
              "      <th></th>\n",
              "      <th></th>\n",
              "    </tr>\n",
              "  </thead>\n",
              "  <tbody>\n",
              "    <tr>\n",
              "      <th>US</th>\n",
              "      <td>78.0</td>\n",
              "      <td>149408.33</td>\n",
              "      <td>52576.02</td>\n",
              "      <td>58000.0</td>\n",
              "      <td>120000.00</td>\n",
              "      <td>140000.0</td>\n",
              "      <td>174500.0</td>\n",
              "      <td>412000.0</td>\n",
              "    </tr>\n",
              "    <tr>\n",
              "      <th>GB</th>\n",
              "      <td>11.0</td>\n",
              "      <td>88177.36</td>\n",
              "      <td>41393.50</td>\n",
              "      <td>39263.0</td>\n",
              "      <td>60847.00</td>\n",
              "      <td>76958.0</td>\n",
              "      <td>110808.0</td>\n",
              "      <td>183228.0</td>\n",
              "    </tr>\n",
              "    <tr>\n",
              "      <th>IN</th>\n",
              "      <td>9.0</td>\n",
              "      <td>23838.33</td>\n",
              "      <td>11758.72</td>\n",
              "      <td>5679.0</td>\n",
              "      <td>16904.00</td>\n",
              "      <td>28399.0</td>\n",
              "      <td>31615.0</td>\n",
              "      <td>40481.0</td>\n",
              "    </tr>\n",
              "    <tr>\n",
              "      <th>FR</th>\n",
              "      <td>8.0</td>\n",
              "      <td>51665.62</td>\n",
              "      <td>13412.16</td>\n",
              "      <td>36643.0</td>\n",
              "      <td>41626.75</td>\n",
              "      <td>50483.5</td>\n",
              "      <td>55575.5</td>\n",
              "      <td>77684.0</td>\n",
              "    </tr>\n",
              "    <tr>\n",
              "      <th>DE</th>\n",
              "      <td>7.0</td>\n",
              "      <td>74773.71</td>\n",
              "      <td>16834.87</td>\n",
              "      <td>49268.0</td>\n",
              "      <td>62096.50</td>\n",
              "      <td>79833.0</td>\n",
              "      <td>89694.0</td>\n",
              "      <td>90734.0</td>\n",
              "    </tr>\n",
              "    <tr>\n",
              "      <th>CA</th>\n",
              "      <td>6.0</td>\n",
              "      <td>81489.17</td>\n",
              "      <td>19500.74</td>\n",
              "      <td>52396.0</td>\n",
              "      <td>70945.50</td>\n",
              "      <td>81756.0</td>\n",
              "      <td>96934.5</td>\n",
              "      <td>103691.0</td>\n",
              "    </tr>\n",
              "    <tr>\n",
              "      <th>ES</th>\n",
              "      <td>3.0</td>\n",
              "      <td>41136.67</td>\n",
              "      <td>4935.34</td>\n",
              "      <td>37825.0</td>\n",
              "      <td>38300.50</td>\n",
              "      <td>38776.0</td>\n",
              "      <td>42792.5</td>\n",
              "      <td>46809.0</td>\n",
              "    </tr>\n",
              "  </tbody>\n",
              "</table>\n",
              "</div>"
            ],
            "text/plain": [
              "                    count       mean       std      min        25%       50%  \\\n",
              "employee_residence                                                             \n",
              "US                   78.0  149408.33  52576.02  58000.0  120000.00  140000.0   \n",
              "GB                   11.0   88177.36  41393.50  39263.0   60847.00   76958.0   \n",
              "IN                    9.0   23838.33  11758.72   5679.0   16904.00   28399.0   \n",
              "FR                    8.0   51665.62  13412.16  36643.0   41626.75   50483.5   \n",
              "DE                    7.0   74773.71  16834.87  49268.0   62096.50   79833.0   \n",
              "CA                    6.0   81489.17  19500.74  52396.0   70945.50   81756.0   \n",
              "ES                    3.0   41136.67   4935.34  37825.0   38300.50   38776.0   \n",
              "\n",
              "                         75%       max  \n",
              "employee_residence                      \n",
              "US                  174500.0  412000.0  \n",
              "GB                  110808.0  183228.0  \n",
              "IN                   31615.0   40481.0  \n",
              "FR                   55575.5   77684.0  \n",
              "DE                   89694.0   90734.0  \n",
              "CA                   96934.5  103691.0  \n",
              "ES                   42792.5   46809.0  "
            ]
          },
          "execution_count": 26,
          "metadata": {},
          "output_type": "execute_result"
        }
      ],
      "source": [
        "data_agg = scientist_data_per.groupby('employee_residence')['salary_in_usd'].describe().round(2)\n",
        "print('Оплата труда профессии Data Scientist от страны проживания')\n",
        "data_agg.sort_values('count', ascending=False)"
      ]
    },
    {
      "cell_type": "markdown",
      "metadata": {},
      "source": [
        "Оплаты труда различна для разных стран.\n",
        "\n",
        "Чтобы определить, являются ли эти различия статистически значимыми, необходимы статистические тесты."
      ]
    },
    {
      "cell_type": "markdown",
      "metadata": {},
      "source": [
        "### Оплата труда профессии Data Scientist от доли работы, выполняемой удаленно."
      ]
    },
    {
      "cell_type": "code",
      "execution_count": 27,
      "metadata": {},
      "outputs": [
        {
          "data": {
            "image/png": "[encoded data removed]",
            "text/plain": [
              "<Figure size 640x480 with 1 Axes>"
            ]
          },
          "metadata": {},
          "output_type": "display_data"
        }
      ],
      "source": [
        "ax = sns.boxplot(scientist_data, x='salary_in_usd', y='remote_ratio', orient='h', medianprops={\"color\": \"red\", \"linestyle\": '--'})\n",
        "ax.set(xlabel='Размер оплаты труда', ylabel='Доля удаленной работы')\n",
        "plt.title('Оплата труда профессии Data Scientist от доли работы, выполняемой удаленно')\n",
        "plt.show()"
      ]
    },
    {
      "cell_type": "code",
      "execution_count": 28,
      "metadata": {},
      "outputs": [
        {
          "name": "stdout",
          "output_type": "stream",
          "text": [
            "Оплата труда профессии Data Scientist от доли работы, выполняемой удаленно\n"
          ]
        },
        {
          "data": {
            "text/html": [
              "<div>\n",
              "<style scoped>\n",
              "    .dataframe tbody tr th:only-of-type {\n",
              "        vertical-align: middle;\n",
              "    }\n",
              "\n",
              "    .dataframe tbody tr th {\n",
              "        vertical-align: top;\n",
              "    }\n",
              "\n",
              "    .dataframe thead th {\n",
              "        text-align: right;\n",
              "    }\n",
              "</style>\n",
              "<table border=\"1\" class=\"dataframe\">\n",
              "  <thead>\n",
              "    <tr style=\"text-align: right;\">\n",
              "      <th></th>\n",
              "      <th>count</th>\n",
              "      <th>mean</th>\n",
              "      <th>std</th>\n",
              "      <th>min</th>\n",
              "      <th>25%</th>\n",
              "      <th>50%</th>\n",
              "      <th>75%</th>\n",
              "      <th>max</th>\n",
              "    </tr>\n",
              "    <tr>\n",
              "      <th>remote_ratio</th>\n",
              "      <th></th>\n",
              "      <th></th>\n",
              "      <th></th>\n",
              "      <th></th>\n",
              "      <th></th>\n",
              "      <th></th>\n",
              "      <th></th>\n",
              "      <th></th>\n",
              "    </tr>\n",
              "  </thead>\n",
              "  <tbody>\n",
              "    <tr>\n",
              "      <th>0</th>\n",
              "      <td>39.0</td>\n",
              "      <td>99520.74</td>\n",
              "      <td>58259.42</td>\n",
              "      <td>2859.0</td>\n",
              "      <td>50294.5</td>\n",
              "      <td>95550.0</td>\n",
              "      <td>140400.0</td>\n",
              "      <td>215300.0</td>\n",
              "    </tr>\n",
              "    <tr>\n",
              "      <th>50</th>\n",
              "      <td>25.0</td>\n",
              "      <td>74504.08</td>\n",
              "      <td>35602.82</td>\n",
              "      <td>20171.0</td>\n",
              "      <td>49646.0</td>\n",
              "      <td>62726.0</td>\n",
              "      <td>100000.0</td>\n",
              "      <td>147000.0</td>\n",
              "    </tr>\n",
              "    <tr>\n",
              "      <th>100</th>\n",
              "      <td>79.0</td>\n",
              "      <td>123125.94</td>\n",
              "      <td>69370.99</td>\n",
              "      <td>5679.0</td>\n",
              "      <td>76366.0</td>\n",
              "      <td>123000.0</td>\n",
              "      <td>162500.0</td>\n",
              "      <td>412000.0</td>\n",
              "    </tr>\n",
              "  </tbody>\n",
              "</table>\n",
              "</div>"
            ],
            "text/plain": [
              "              count       mean       std      min      25%       50%  \\\n",
              "remote_ratio                                                           \n",
              "0              39.0   99520.74  58259.42   2859.0  50294.5   95550.0   \n",
              "50             25.0   74504.08  35602.82  20171.0  49646.0   62726.0   \n",
              "100            79.0  123125.94  69370.99   5679.0  76366.0  123000.0   \n",
              "\n",
              "                   75%       max  \n",
              "remote_ratio                      \n",
              "0             140400.0  215300.0  \n",
              "50            100000.0  147000.0  \n",
              "100           162500.0  412000.0  "
            ]
          },
          "execution_count": 28,
          "metadata": {},
          "output_type": "execute_result"
        }
      ],
      "source": [
        "data_agg = scientist_data.groupby('remote_ratio')['salary_in_usd'].describe().round(2)\n",
        "print('Оплата труда профессии Data Scientist от доли работы, выполняемой удаленно')\n",
        "data_agg"
      ]
    },
    {
      "cell_type": "code",
      "execution_count": 29,
      "metadata": {},
      "outputs": [
        {
          "name": "stdout",
          "output_type": "stream",
          "text": [
            "Оплата труда профессии Data Scientist от доли работы, выполняемой удаленно\n"
          ]
        },
        {
          "data": {
            "text/plain": [
              "remote_ratio\n",
              "0       95550.0\n",
              "50      62726.0\n",
              "100    123000.0\n",
              "Name: salary_in_usd, dtype: float64"
            ]
          },
          "execution_count": 29,
          "metadata": {},
          "output_type": "execute_result"
        }
      ],
      "source": [
        "data_agg = scientist_data.groupby('remote_ratio')['salary_in_usd'].median().round(2)\n",
        "print('Оплата труда профессии Data Scientist от доли работы, выполняемой удаленно')\n",
        "data_agg"
      ]
    },
    {
      "cell_type": "markdown",
      "metadata": {},
      "source": [
        "Среднее значение оплаты труда отличается в зависимости от доли работы, выполняемой удаленно.\n",
        "\n",
        "Чтобы определить, являются ли эти различия статистически значимыми, необходимы статистические тесты."
      ]
    },
    {
      "cell_type": "markdown",
      "metadata": {},
      "source": [
        "### Оплата труда профессии Data Scientist от страны, где размещен главный офис компании."
      ]
    },
    {
      "cell_type": "code",
      "execution_count": 30,
      "metadata": {},
      "outputs": [
        {
          "data": {
            "image/png": "[encoded data removed]",
            "text/plain": [
              "<Figure size 640x480 with 1 Axes>"
            ]
          },
          "metadata": {},
          "output_type": "display_data"
        }
      ],
      "source": [
        "ax = sns.boxplot(scientist_data, x='salary_in_usd', y='company_location', orient='h', medianprops={\"color\": \"red\", \"linestyle\": '--'})\n",
        "ax.set(xlabel='Размер оплаты труда', ylabel='Страна')\n",
        "plt.title('Оплата труда профессии Data Scientist от страны, где размещен главный офис компании')\n",
        "plt.show()"
      ]
    },
    {
      "cell_type": "code",
      "execution_count": 31,
      "metadata": {},
      "outputs": [
        {
          "name": "stdout",
          "output_type": "stream",
          "text": [
            "Оплата труда профессии Data Scientist от страны, где размещен главный офис компании\n"
          ]
        },
        {
          "data": {
            "text/html": [
              "<div>\n",
              "<style scoped>\n",
              "    .dataframe tbody tr th:only-of-type {\n",
              "        vertical-align: middle;\n",
              "    }\n",
              "\n",
              "    .dataframe tbody tr th {\n",
              "        vertical-align: top;\n",
              "    }\n",
              "\n",
              "    .dataframe thead th {\n",
              "        text-align: right;\n",
              "    }\n",
              "</style>\n",
              "<table border=\"1\" class=\"dataframe\">\n",
              "  <thead>\n",
              "    <tr style=\"text-align: right;\">\n",
              "      <th></th>\n",
              "      <th>count</th>\n",
              "      <th>mean</th>\n",
              "      <th>std</th>\n",
              "      <th>min</th>\n",
              "      <th>25%</th>\n",
              "      <th>50%</th>\n",
              "      <th>75%</th>\n",
              "      <th>max</th>\n",
              "    </tr>\n",
              "    <tr>\n",
              "      <th>company_location</th>\n",
              "      <th></th>\n",
              "      <th></th>\n",
              "      <th></th>\n",
              "      <th></th>\n",
              "      <th></th>\n",
              "      <th></th>\n",
              "      <th></th>\n",
              "      <th></th>\n",
              "    </tr>\n",
              "  </thead>\n",
              "  <tbody>\n",
              "    <tr>\n",
              "      <th>US</th>\n",
              "      <td>84.0</td>\n",
              "      <td>143115.68</td>\n",
              "      <td>56252.98</td>\n",
              "      <td>5679.0</td>\n",
              "      <td>105000.0</td>\n",
              "      <td>140000.0</td>\n",
              "      <td>167750.00</td>\n",
              "      <td>412000.0</td>\n",
              "    </tr>\n",
              "    <tr>\n",
              "      <th>GB</th>\n",
              "      <td>11.0</td>\n",
              "      <td>88177.36</td>\n",
              "      <td>41393.50</td>\n",
              "      <td>39263.0</td>\n",
              "      <td>60847.0</td>\n",
              "      <td>76958.0</td>\n",
              "      <td>110808.00</td>\n",
              "      <td>183228.0</td>\n",
              "    </tr>\n",
              "    <tr>\n",
              "      <th>IN</th>\n",
              "      <td>8.0</td>\n",
              "      <td>26108.25</td>\n",
              "      <td>10248.05</td>\n",
              "      <td>9466.0</td>\n",
              "      <td>18057.5</td>\n",
              "      <td>29075.0</td>\n",
              "      <td>32163.25</td>\n",
              "      <td>40481.0</td>\n",
              "    </tr>\n",
              "    <tr>\n",
              "      <th>DE</th>\n",
              "      <td>7.0</td>\n",
              "      <td>69640.14</td>\n",
              "      <td>25045.56</td>\n",
              "      <td>25532.0</td>\n",
              "      <td>55997.0</td>\n",
              "      <td>79833.0</td>\n",
              "      <td>89694.00</td>\n",
              "      <td>90734.0</td>\n",
              "    </tr>\n",
              "    <tr>\n",
              "      <th>FR</th>\n",
              "      <td>7.0</td>\n",
              "      <td>50085.57</td>\n",
              "      <td>13658.91</td>\n",
              "      <td>36643.0</td>\n",
              "      <td>41056.5</td>\n",
              "      <td>49646.0</td>\n",
              "      <td>52256.50</td>\n",
              "      <td>77684.0</td>\n",
              "    </tr>\n",
              "    <tr>\n",
              "      <th>CA</th>\n",
              "      <td>5.0</td>\n",
              "      <td>77787.00</td>\n",
              "      <td>19301.65</td>\n",
              "      <td>52396.0</td>\n",
              "      <td>69336.0</td>\n",
              "      <td>75774.0</td>\n",
              "      <td>87738.00</td>\n",
              "      <td>103691.0</td>\n",
              "    </tr>\n",
              "    <tr>\n",
              "      <th>ES</th>\n",
              "      <td>3.0</td>\n",
              "      <td>41136.67</td>\n",
              "      <td>4935.34</td>\n",
              "      <td>37825.0</td>\n",
              "      <td>38300.5</td>\n",
              "      <td>38776.0</td>\n",
              "      <td>42792.50</td>\n",
              "      <td>46809.0</td>\n",
              "    </tr>\n",
              "    <tr>\n",
              "      <th>AT</th>\n",
              "      <td>2.0</td>\n",
              "      <td>76352.00</td>\n",
              "      <td>21050.57</td>\n",
              "      <td>61467.0</td>\n",
              "      <td>68909.5</td>\n",
              "      <td>76352.0</td>\n",
              "      <td>83794.50</td>\n",
              "      <td>91237.0</td>\n",
              "    </tr>\n",
              "    <tr>\n",
              "      <th>LU</th>\n",
              "      <td>1.0</td>\n",
              "      <td>62726.00</td>\n",
              "      <td>NaN</td>\n",
              "      <td>62726.0</td>\n",
              "      <td>62726.0</td>\n",
              "      <td>62726.0</td>\n",
              "      <td>62726.00</td>\n",
              "      <td>62726.0</td>\n",
              "    </tr>\n",
              "    <tr>\n",
              "      <th>UA</th>\n",
              "      <td>1.0</td>\n",
              "      <td>13400.00</td>\n",
              "      <td>NaN</td>\n",
              "      <td>13400.0</td>\n",
              "      <td>13400.0</td>\n",
              "      <td>13400.0</td>\n",
              "      <td>13400.00</td>\n",
              "      <td>13400.0</td>\n",
              "    </tr>\n",
              "    <tr>\n",
              "      <th>TR</th>\n",
              "      <td>1.0</td>\n",
              "      <td>20171.00</td>\n",
              "      <td>NaN</td>\n",
              "      <td>20171.0</td>\n",
              "      <td>20171.0</td>\n",
              "      <td>20171.0</td>\n",
              "      <td>20171.00</td>\n",
              "      <td>20171.0</td>\n",
              "    </tr>\n",
              "    <tr>\n",
              "      <th>PL</th>\n",
              "      <td>1.0</td>\n",
              "      <td>35590.00</td>\n",
              "      <td>NaN</td>\n",
              "      <td>35590.0</td>\n",
              "      <td>35590.0</td>\n",
              "      <td>35590.0</td>\n",
              "      <td>35590.00</td>\n",
              "      <td>35590.0</td>\n",
              "    </tr>\n",
              "    <tr>\n",
              "      <th>NG</th>\n",
              "      <td>1.0</td>\n",
              "      <td>50000.00</td>\n",
              "      <td>NaN</td>\n",
              "      <td>50000.0</td>\n",
              "      <td>50000.0</td>\n",
              "      <td>50000.0</td>\n",
              "      <td>50000.00</td>\n",
              "      <td>50000.0</td>\n",
              "    </tr>\n",
              "    <tr>\n",
              "      <th>MY</th>\n",
              "      <td>1.0</td>\n",
              "      <td>40000.00</td>\n",
              "      <td>NaN</td>\n",
              "      <td>40000.0</td>\n",
              "      <td>40000.0</td>\n",
              "      <td>40000.0</td>\n",
              "      <td>40000.00</td>\n",
              "      <td>40000.0</td>\n",
              "    </tr>\n",
              "    <tr>\n",
              "      <th>MX</th>\n",
              "      <td>1.0</td>\n",
              "      <td>2859.00</td>\n",
              "      <td>NaN</td>\n",
              "      <td>2859.0</td>\n",
              "      <td>2859.0</td>\n",
              "      <td>2859.0</td>\n",
              "      <td>2859.00</td>\n",
              "      <td>2859.0</td>\n",
              "    </tr>\n",
              "    <tr>\n",
              "      <th>IL</th>\n",
              "      <td>1.0</td>\n",
              "      <td>119059.00</td>\n",
              "      <td>NaN</td>\n",
              "      <td>119059.0</td>\n",
              "      <td>119059.0</td>\n",
              "      <td>119059.0</td>\n",
              "      <td>119059.00</td>\n",
              "      <td>119059.0</td>\n",
              "    </tr>\n",
              "    <tr>\n",
              "      <th>IT</th>\n",
              "      <td>1.0</td>\n",
              "      <td>21669.00</td>\n",
              "      <td>NaN</td>\n",
              "      <td>21669.0</td>\n",
              "      <td>21669.0</td>\n",
              "      <td>21669.0</td>\n",
              "      <td>21669.00</td>\n",
              "      <td>21669.0</td>\n",
              "    </tr>\n",
              "    <tr>\n",
              "      <th>AU</th>\n",
              "      <td>1.0</td>\n",
              "      <td>86703.00</td>\n",
              "      <td>NaN</td>\n",
              "      <td>86703.0</td>\n",
              "      <td>86703.0</td>\n",
              "      <td>86703.0</td>\n",
              "      <td>86703.00</td>\n",
              "      <td>86703.0</td>\n",
              "    </tr>\n",
              "    <tr>\n",
              "      <th>HU</th>\n",
              "      <td>1.0</td>\n",
              "      <td>35735.00</td>\n",
              "      <td>NaN</td>\n",
              "      <td>35735.0</td>\n",
              "      <td>35735.0</td>\n",
              "      <td>35735.0</td>\n",
              "      <td>35735.00</td>\n",
              "      <td>35735.0</td>\n",
              "    </tr>\n",
              "    <tr>\n",
              "      <th>DZ</th>\n",
              "      <td>1.0</td>\n",
              "      <td>100000.00</td>\n",
              "      <td>NaN</td>\n",
              "      <td>100000.0</td>\n",
              "      <td>100000.0</td>\n",
              "      <td>100000.0</td>\n",
              "      <td>100000.00</td>\n",
              "      <td>100000.0</td>\n",
              "    </tr>\n",
              "    <tr>\n",
              "      <th>CL</th>\n",
              "      <td>1.0</td>\n",
              "      <td>40038.00</td>\n",
              "      <td>NaN</td>\n",
              "      <td>40038.0</td>\n",
              "      <td>40038.0</td>\n",
              "      <td>40038.0</td>\n",
              "      <td>40038.00</td>\n",
              "      <td>40038.0</td>\n",
              "    </tr>\n",
              "    <tr>\n",
              "      <th>CH</th>\n",
              "      <td>1.0</td>\n",
              "      <td>122346.00</td>\n",
              "      <td>NaN</td>\n",
              "      <td>122346.0</td>\n",
              "      <td>122346.0</td>\n",
              "      <td>122346.0</td>\n",
              "      <td>122346.00</td>\n",
              "      <td>122346.0</td>\n",
              "    </tr>\n",
              "    <tr>\n",
              "      <th>BR</th>\n",
              "      <td>1.0</td>\n",
              "      <td>12901.00</td>\n",
              "      <td>NaN</td>\n",
              "      <td>12901.0</td>\n",
              "      <td>12901.0</td>\n",
              "      <td>12901.0</td>\n",
              "      <td>12901.00</td>\n",
              "      <td>12901.0</td>\n",
              "    </tr>\n",
              "    <tr>\n",
              "      <th>VN</th>\n",
              "      <td>1.0</td>\n",
              "      <td>4000.00</td>\n",
              "      <td>NaN</td>\n",
              "      <td>4000.0</td>\n",
              "      <td>4000.0</td>\n",
              "      <td>4000.0</td>\n",
              "      <td>4000.00</td>\n",
              "      <td>4000.0</td>\n",
              "    </tr>\n",
              "  </tbody>\n",
              "</table>\n",
              "</div>"
            ],
            "text/plain": [
              "                  count       mean       std       min       25%       50%  \\\n",
              "company_location                                                             \n",
              "US                 84.0  143115.68  56252.98    5679.0  105000.0  140000.0   \n",
              "GB                 11.0   88177.36  41393.50   39263.0   60847.0   76958.0   \n",
              "IN                  8.0   26108.25  10248.05    9466.0   18057.5   29075.0   \n",
              "DE                  7.0   69640.14  25045.56   25532.0   55997.0   79833.0   \n",
              "FR                  7.0   50085.57  13658.91   36643.0   41056.5   49646.0   \n",
              "CA                  5.0   77787.00  19301.65   52396.0   69336.0   75774.0   \n",
              "ES                  3.0   41136.67   4935.34   37825.0   38300.5   38776.0   \n",
              "AT                  2.0   76352.00  21050.57   61467.0   68909.5   76352.0   \n",
              "LU                  1.0   62726.00       NaN   62726.0   62726.0   62726.0   \n",
              "UA                  1.0   13400.00       NaN   13400.0   13400.0   13400.0   \n",
              "TR                  1.0   20171.00       NaN   20171.0   20171.0   20171.0   \n",
              "PL                  1.0   35590.00       NaN   35590.0   35590.0   35590.0   \n",
              "NG                  1.0   50000.00       NaN   50000.0   50000.0   50000.0   \n",
              "MY                  1.0   40000.00       NaN   40000.0   40000.0   40000.0   \n",
              "MX                  1.0    2859.00       NaN    2859.0    2859.0    2859.0   \n",
              "IL                  1.0  119059.00       NaN  119059.0  119059.0  119059.0   \n",
              "IT                  1.0   21669.00       NaN   21669.0   21669.0   21669.0   \n",
              "AU                  1.0   86703.00       NaN   86703.0   86703.0   86703.0   \n",
              "HU                  1.0   35735.00       NaN   35735.0   35735.0   35735.0   \n",
              "DZ                  1.0  100000.00       NaN  100000.0  100000.0  100000.0   \n",
              "CL                  1.0   40038.00       NaN   40038.0   40038.0   40038.0   \n",
              "CH                  1.0  122346.00       NaN  122346.0  122346.0  122346.0   \n",
              "BR                  1.0   12901.00       NaN   12901.0   12901.0   12901.0   \n",
              "VN                  1.0    4000.00       NaN    4000.0    4000.0    4000.0   \n",
              "\n",
              "                        75%       max  \n",
              "company_location                       \n",
              "US                167750.00  412000.0  \n",
              "GB                110808.00  183228.0  \n",
              "IN                 32163.25   40481.0  \n",
              "DE                 89694.00   90734.0  \n",
              "FR                 52256.50   77684.0  \n",
              "CA                 87738.00  103691.0  \n",
              "ES                 42792.50   46809.0  \n",
              "AT                 83794.50   91237.0  \n",
              "LU                 62726.00   62726.0  \n",
              "UA                 13400.00   13400.0  \n",
              "TR                 20171.00   20171.0  \n",
              "PL                 35590.00   35590.0  \n",
              "NG                 50000.00   50000.0  \n",
              "MY                 40000.00   40000.0  \n",
              "MX                  2859.00    2859.0  \n",
              "IL                119059.00  119059.0  \n",
              "IT                 21669.00   21669.0  \n",
              "AU                 86703.00   86703.0  \n",
              "HU                 35735.00   35735.0  \n",
              "DZ                100000.00  100000.0  \n",
              "CL                 40038.00   40038.0  \n",
              "CH                122346.00  122346.0  \n",
              "BR                 12901.00   12901.0  \n",
              "VN                  4000.00    4000.0  "
            ]
          },
          "execution_count": 31,
          "metadata": {},
          "output_type": "execute_result"
        }
      ],
      "source": [
        "data_agg = scientist_data.groupby('company_location')['salary_in_usd'].describe().round(2)\n",
        "print('Оплата труда профессии Data Scientist от страны, где размещен главный офис компании')\n",
        "data_agg.sort_values('count', ascending=False)"
      ]
    },
    {
      "cell_type": "code",
      "execution_count": 32,
      "metadata": {},
      "outputs": [
        {
          "name": "stdout",
          "output_type": "stream",
          "text": [
            "company_location\n",
            "US    84\n",
            "GB    11\n",
            "IN     8\n",
            "DE     7\n",
            "FR     7\n",
            "CA     5\n",
            "ES     3\n",
            "Name: count, dtype: int64\n"
          ]
        },
        {
          "data": {
            "text/html": [
              "<div>\n",
              "<style scoped>\n",
              "    .dataframe tbody tr th:only-of-type {\n",
              "        vertical-align: middle;\n",
              "    }\n",
              "\n",
              "    .dataframe tbody tr th {\n",
              "        vertical-align: top;\n",
              "    }\n",
              "\n",
              "    .dataframe thead th {\n",
              "        text-align: right;\n",
              "    }\n",
              "</style>\n",
              "<table border=\"1\" class=\"dataframe\">\n",
              "  <thead>\n",
              "    <tr style=\"text-align: right;\">\n",
              "      <th></th>\n",
              "      <th>work_year</th>\n",
              "      <th>experience_level</th>\n",
              "      <th>employment_type</th>\n",
              "      <th>job_title</th>\n",
              "      <th>salary_in_usd</th>\n",
              "      <th>employee_residence</th>\n",
              "      <th>remote_ratio</th>\n",
              "      <th>company_location</th>\n",
              "      <th>company_size</th>\n",
              "    </tr>\n",
              "  </thead>\n",
              "  <tbody>\n",
              "    <tr>\n",
              "      <th>0</th>\n",
              "      <td>2020</td>\n",
              "      <td>MI</td>\n",
              "      <td>FT</td>\n",
              "      <td>Data Scientist</td>\n",
              "      <td>79833</td>\n",
              "      <td>DE</td>\n",
              "      <td>0</td>\n",
              "      <td>DE</td>\n",
              "      <td>L</td>\n",
              "    </tr>\n",
              "    <tr>\n",
              "      <th>10</th>\n",
              "      <td>2020</td>\n",
              "      <td>EN</td>\n",
              "      <td>FT</td>\n",
              "      <td>Data Scientist</td>\n",
              "      <td>51321</td>\n",
              "      <td>FR</td>\n",
              "      <td>0</td>\n",
              "      <td>FR</td>\n",
              "      <td>S</td>\n",
              "    </tr>\n",
              "    <tr>\n",
              "      <th>11</th>\n",
              "      <td>2020</td>\n",
              "      <td>MI</td>\n",
              "      <td>FT</td>\n",
              "      <td>Data Scientist</td>\n",
              "      <td>40481</td>\n",
              "      <td>IN</td>\n",
              "      <td>0</td>\n",
              "      <td>IN</td>\n",
              "      <td>L</td>\n",
              "    </tr>\n",
              "    <tr>\n",
              "      <th>12</th>\n",
              "      <td>2020</td>\n",
              "      <td>EN</td>\n",
              "      <td>FT</td>\n",
              "      <td>Data Scientist</td>\n",
              "      <td>39916</td>\n",
              "      <td>FR</td>\n",
              "      <td>0</td>\n",
              "      <td>FR</td>\n",
              "      <td>M</td>\n",
              "    </tr>\n",
              "    <tr>\n",
              "      <th>32</th>\n",
              "      <td>2020</td>\n",
              "      <td>SE</td>\n",
              "      <td>FT</td>\n",
              "      <td>Data Scientist</td>\n",
              "      <td>68428</td>\n",
              "      <td>GR</td>\n",
              "      <td>100</td>\n",
              "      <td>US</td>\n",
              "      <td>L</td>\n",
              "    </tr>\n",
              "    <tr>\n",
              "      <th>...</th>\n",
              "      <td>...</td>\n",
              "      <td>...</td>\n",
              "      <td>...</td>\n",
              "      <td>...</td>\n",
              "      <td>...</td>\n",
              "      <td>...</td>\n",
              "      <td>...</td>\n",
              "      <td>...</td>\n",
              "      <td>...</td>\n",
              "    </tr>\n",
              "    <tr>\n",
              "      <th>592</th>\n",
              "      <td>2022</td>\n",
              "      <td>SE</td>\n",
              "      <td>FT</td>\n",
              "      <td>Data Scientist</td>\n",
              "      <td>230000</td>\n",
              "      <td>US</td>\n",
              "      <td>100</td>\n",
              "      <td>US</td>\n",
              "      <td>M</td>\n",
              "    </tr>\n",
              "    <tr>\n",
              "      <th>593</th>\n",
              "      <td>2022</td>\n",
              "      <td>SE</td>\n",
              "      <td>FT</td>\n",
              "      <td>Data Scientist</td>\n",
              "      <td>150000</td>\n",
              "      <td>US</td>\n",
              "      <td>100</td>\n",
              "      <td>US</td>\n",
              "      <td>M</td>\n",
              "    </tr>\n",
              "    <tr>\n",
              "      <th>596</th>\n",
              "      <td>2022</td>\n",
              "      <td>SE</td>\n",
              "      <td>FT</td>\n",
              "      <td>Data Scientist</td>\n",
              "      <td>210000</td>\n",
              "      <td>US</td>\n",
              "      <td>100</td>\n",
              "      <td>US</td>\n",
              "      <td>M</td>\n",
              "    </tr>\n",
              "    <tr>\n",
              "      <th>598</th>\n",
              "      <td>2022</td>\n",
              "      <td>MI</td>\n",
              "      <td>FT</td>\n",
              "      <td>Data Scientist</td>\n",
              "      <td>160000</td>\n",
              "      <td>US</td>\n",
              "      <td>100</td>\n",
              "      <td>US</td>\n",
              "      <td>M</td>\n",
              "    </tr>\n",
              "    <tr>\n",
              "      <th>599</th>\n",
              "      <td>2022</td>\n",
              "      <td>MI</td>\n",
              "      <td>FT</td>\n",
              "      <td>Data Scientist</td>\n",
              "      <td>130000</td>\n",
              "      <td>US</td>\n",
              "      <td>100</td>\n",
              "      <td>US</td>\n",
              "      <td>M</td>\n",
              "    </tr>\n",
              "  </tbody>\n",
              "</table>\n",
              "<p>125 rows × 9 columns</p>\n",
              "</div>"
            ],
            "text/plain": [
              "     work_year experience_level employment_type       job_title  \\\n",
              "0         2020               MI              FT  Data Scientist   \n",
              "10        2020               EN              FT  Data Scientist   \n",
              "11        2020               MI              FT  Data Scientist   \n",
              "12        2020               EN              FT  Data Scientist   \n",
              "32        2020               SE              FT  Data Scientist   \n",
              "..         ...              ...             ...             ...   \n",
              "592       2022               SE              FT  Data Scientist   \n",
              "593       2022               SE              FT  Data Scientist   \n",
              "596       2022               SE              FT  Data Scientist   \n",
              "598       2022               MI              FT  Data Scientist   \n",
              "599       2022               MI              FT  Data Scientist   \n",
              "\n",
              "     salary_in_usd employee_residence  remote_ratio company_location  \\\n",
              "0            79833                 DE             0               DE   \n",
              "10           51321                 FR             0               FR   \n",
              "11           40481                 IN             0               IN   \n",
              "12           39916                 FR             0               FR   \n",
              "32           68428                 GR           100               US   \n",
              "..             ...                ...           ...              ...   \n",
              "592         230000                 US           100               US   \n",
              "593         150000                 US           100               US   \n",
              "596         210000                 US           100               US   \n",
              "598         160000                 US           100               US   \n",
              "599         130000                 US           100               US   \n",
              "\n",
              "    company_size  \n",
              "0              L  \n",
              "10             S  \n",
              "11             L  \n",
              "12             M  \n",
              "32             L  \n",
              "..           ...  \n",
              "592            M  \n",
              "593            M  \n",
              "596            M  \n",
              "598            M  \n",
              "599            M  \n",
              "\n",
              "[125 rows x 9 columns]"
            ]
          },
          "metadata": {},
          "output_type": "display_data"
        }
      ],
      "source": [
        "# Сформируем список с выборкой больше 2х\n",
        "popular_company_location =scientist_data['company_location'].value_counts().loc[lambda x : x > 2]\n",
        "print(popular_company_location)\n",
        "# Оставим страны с выборкой более 2х\n",
        "scientist_data_permain = scientist_data.copy()\n",
        "scientist_data_permain['company_location'] = scientist_data_permain['company_location'].apply(lambda x: x if x in popular_company_location else 'other')\n",
        "scientist_data_permain = scientist_data_permain[scientist_data_permain['company_location'] != 'other']\n",
        "display(scientist_data_permain)"
      ]
    },
    {
      "cell_type": "code",
      "execution_count": 33,
      "metadata": {},
      "outputs": [
        {
          "name": "stdout",
          "output_type": "stream",
          "text": [
            "Оплата труда профессии Data Scientist от страны, где размещен главный офис компании\n"
          ]
        },
        {
          "data": {
            "text/html": [
              "<div>\n",
              "<style scoped>\n",
              "    .dataframe tbody tr th:only-of-type {\n",
              "        vertical-align: middle;\n",
              "    }\n",
              "\n",
              "    .dataframe tbody tr th {\n",
              "        vertical-align: top;\n",
              "    }\n",
              "\n",
              "    .dataframe thead th {\n",
              "        text-align: right;\n",
              "    }\n",
              "</style>\n",
              "<table border=\"1\" class=\"dataframe\">\n",
              "  <thead>\n",
              "    <tr style=\"text-align: right;\">\n",
              "      <th></th>\n",
              "      <th>count</th>\n",
              "      <th>mean</th>\n",
              "      <th>std</th>\n",
              "      <th>min</th>\n",
              "      <th>25%</th>\n",
              "      <th>50%</th>\n",
              "      <th>75%</th>\n",
              "      <th>max</th>\n",
              "    </tr>\n",
              "    <tr>\n",
              "      <th>company_location</th>\n",
              "      <th></th>\n",
              "      <th></th>\n",
              "      <th></th>\n",
              "      <th></th>\n",
              "      <th></th>\n",
              "      <th></th>\n",
              "      <th></th>\n",
              "      <th></th>\n",
              "    </tr>\n",
              "  </thead>\n",
              "  <tbody>\n",
              "    <tr>\n",
              "      <th>US</th>\n",
              "      <td>84.0</td>\n",
              "      <td>143115.68</td>\n",
              "      <td>56252.98</td>\n",
              "      <td>5679.0</td>\n",
              "      <td>105000.0</td>\n",
              "      <td>140000.0</td>\n",
              "      <td>167750.00</td>\n",
              "      <td>412000.0</td>\n",
              "    </tr>\n",
              "    <tr>\n",
              "      <th>GB</th>\n",
              "      <td>11.0</td>\n",
              "      <td>88177.36</td>\n",
              "      <td>41393.50</td>\n",
              "      <td>39263.0</td>\n",
              "      <td>60847.0</td>\n",
              "      <td>76958.0</td>\n",
              "      <td>110808.00</td>\n",
              "      <td>183228.0</td>\n",
              "    </tr>\n",
              "    <tr>\n",
              "      <th>IN</th>\n",
              "      <td>8.0</td>\n",
              "      <td>26108.25</td>\n",
              "      <td>10248.05</td>\n",
              "      <td>9466.0</td>\n",
              "      <td>18057.5</td>\n",
              "      <td>29075.0</td>\n",
              "      <td>32163.25</td>\n",
              "      <td>40481.0</td>\n",
              "    </tr>\n",
              "    <tr>\n",
              "      <th>DE</th>\n",
              "      <td>7.0</td>\n",
              "      <td>69640.14</td>\n",
              "      <td>25045.56</td>\n",
              "      <td>25532.0</td>\n",
              "      <td>55997.0</td>\n",
              "      <td>79833.0</td>\n",
              "      <td>89694.00</td>\n",
              "      <td>90734.0</td>\n",
              "    </tr>\n",
              "    <tr>\n",
              "      <th>FR</th>\n",
              "      <td>7.0</td>\n",
              "      <td>50085.57</td>\n",
              "      <td>13658.91</td>\n",
              "      <td>36643.0</td>\n",
              "      <td>41056.5</td>\n",
              "      <td>49646.0</td>\n",
              "      <td>52256.50</td>\n",
              "      <td>77684.0</td>\n",
              "    </tr>\n",
              "    <tr>\n",
              "      <th>CA</th>\n",
              "      <td>5.0</td>\n",
              "      <td>77787.00</td>\n",
              "      <td>19301.65</td>\n",
              "      <td>52396.0</td>\n",
              "      <td>69336.0</td>\n",
              "      <td>75774.0</td>\n",
              "      <td>87738.00</td>\n",
              "      <td>103691.0</td>\n",
              "    </tr>\n",
              "    <tr>\n",
              "      <th>ES</th>\n",
              "      <td>3.0</td>\n",
              "      <td>41136.67</td>\n",
              "      <td>4935.34</td>\n",
              "      <td>37825.0</td>\n",
              "      <td>38300.5</td>\n",
              "      <td>38776.0</td>\n",
              "      <td>42792.50</td>\n",
              "      <td>46809.0</td>\n",
              "    </tr>\n",
              "  </tbody>\n",
              "</table>\n",
              "</div>"
            ],
            "text/plain": [
              "                  count       mean       std      min       25%       50%  \\\n",
              "company_location                                                            \n",
              "US                 84.0  143115.68  56252.98   5679.0  105000.0  140000.0   \n",
              "GB                 11.0   88177.36  41393.50  39263.0   60847.0   76958.0   \n",
              "IN                  8.0   26108.25  10248.05   9466.0   18057.5   29075.0   \n",
              "DE                  7.0   69640.14  25045.56  25532.0   55997.0   79833.0   \n",
              "FR                  7.0   50085.57  13658.91  36643.0   41056.5   49646.0   \n",
              "CA                  5.0   77787.00  19301.65  52396.0   69336.0   75774.0   \n",
              "ES                  3.0   41136.67   4935.34  37825.0   38300.5   38776.0   \n",
              "\n",
              "                        75%       max  \n",
              "company_location                       \n",
              "US                167750.00  412000.0  \n",
              "GB                110808.00  183228.0  \n",
              "IN                 32163.25   40481.0  \n",
              "DE                 89694.00   90734.0  \n",
              "FR                 52256.50   77684.0  \n",
              "CA                 87738.00  103691.0  \n",
              "ES                 42792.50   46809.0  "
            ]
          },
          "execution_count": 33,
          "metadata": {},
          "output_type": "execute_result"
        }
      ],
      "source": [
        "data_agg = scientist_data_permain.groupby('company_location')['salary_in_usd'].describe().round(2)\n",
        "print('Оплата труда профессии Data Scientist от страны, где размещен главный офис компании')\n",
        "data_agg.sort_values('count', ascending=False)"
      ]
    },
    {
      "cell_type": "markdown",
      "metadata": {},
      "source": [
        "Оплаты труда различна для разных стран, где размещен главный офис компании.\n",
        "\n",
        "Чтобы определить, являются ли эти различия статистически значимыми, необходимы статистические тесты."
      ]
    },
    {
      "cell_type": "markdown",
      "metadata": {},
      "source": [
        "### Оплата труда профессии Data Scientist от размера компании."
      ]
    },
    {
      "cell_type": "code",
      "execution_count": 34,
      "metadata": {},
      "outputs": [
        {
          "data": {
            "image/png": "[encoded data removed]",
            "text/plain": [
              "<Figure size 640x480 with 1 Axes>"
            ]
          },
          "metadata": {},
          "output_type": "display_data"
        }
      ],
      "source": [
        "ax = sns.boxplot(scientist_data, x='salary_in_usd', y='company_size', orient='h', medianprops={\"color\": \"red\", \"linestyle\": '--'})\n",
        "ax.set(xlabel='Размер оплаты труда', ylabel='Размер компании')\n",
        "plt.title('Оплата труда профессии Data Scientist от размера компании')\n",
        "plt.show()"
      ]
    },
    {
      "cell_type": "code",
      "execution_count": 35,
      "metadata": {},
      "outputs": [
        {
          "name": "stdout",
          "output_type": "stream",
          "text": [
            "Оплата труда профессии Data Scientist от размера компании\n"
          ]
        },
        {
          "data": {
            "text/html": [
              "<div>\n",
              "<style scoped>\n",
              "    .dataframe tbody tr th:only-of-type {\n",
              "        vertical-align: middle;\n",
              "    }\n",
              "\n",
              "    .dataframe tbody tr th {\n",
              "        vertical-align: top;\n",
              "    }\n",
              "\n",
              "    .dataframe thead th {\n",
              "        text-align: right;\n",
              "    }\n",
              "</style>\n",
              "<table border=\"1\" class=\"dataframe\">\n",
              "  <thead>\n",
              "    <tr style=\"text-align: right;\">\n",
              "      <th></th>\n",
              "      <th>count</th>\n",
              "      <th>mean</th>\n",
              "      <th>std</th>\n",
              "      <th>min</th>\n",
              "      <th>25%</th>\n",
              "      <th>50%</th>\n",
              "      <th>75%</th>\n",
              "      <th>max</th>\n",
              "    </tr>\n",
              "    <tr>\n",
              "      <th>company_size</th>\n",
              "      <th></th>\n",
              "      <th></th>\n",
              "      <th></th>\n",
              "      <th></th>\n",
              "      <th></th>\n",
              "      <th></th>\n",
              "      <th></th>\n",
              "      <th></th>\n",
              "    </tr>\n",
              "  </thead>\n",
              "  <tbody>\n",
              "    <tr>\n",
              "      <th>L</th>\n",
              "      <td>45.0</td>\n",
              "      <td>103313.36</td>\n",
              "      <td>71815.18</td>\n",
              "      <td>13400.0</td>\n",
              "      <td>50000.0</td>\n",
              "      <td>90734.0</td>\n",
              "      <td>135000.0</td>\n",
              "      <td>412000.0</td>\n",
              "    </tr>\n",
              "    <tr>\n",
              "      <th>M</th>\n",
              "      <td>77.0</td>\n",
              "      <td>126380.75</td>\n",
              "      <td>56389.53</td>\n",
              "      <td>4000.0</td>\n",
              "      <td>90000.0</td>\n",
              "      <td>130000.0</td>\n",
              "      <td>165000.0</td>\n",
              "      <td>260000.0</td>\n",
              "    </tr>\n",
              "    <tr>\n",
              "      <th>S</th>\n",
              "      <td>21.0</td>\n",
              "      <td>51925.76</td>\n",
              "      <td>33216.29</td>\n",
              "      <td>2859.0</td>\n",
              "      <td>21669.0</td>\n",
              "      <td>49268.0</td>\n",
              "      <td>82500.0</td>\n",
              "      <td>105000.0</td>\n",
              "    </tr>\n",
              "  </tbody>\n",
              "</table>\n",
              "</div>"
            ],
            "text/plain": [
              "              count       mean       std      min      25%       50%  \\\n",
              "company_size                                                           \n",
              "L              45.0  103313.36  71815.18  13400.0  50000.0   90734.0   \n",
              "M              77.0  126380.75  56389.53   4000.0  90000.0  130000.0   \n",
              "S              21.0   51925.76  33216.29   2859.0  21669.0   49268.0   \n",
              "\n",
              "                   75%       max  \n",
              "company_size                      \n",
              "L             135000.0  412000.0  \n",
              "M             165000.0  260000.0  \n",
              "S              82500.0  105000.0  "
            ]
          },
          "execution_count": 35,
          "metadata": {},
          "output_type": "execute_result"
        }
      ],
      "source": [
        "data_agg = scientist_data.groupby('company_size')['salary_in_usd'].describe().round(2)\n",
        "print('Оплата труда профессии Data Scientist от размера компании')\n",
        "data_agg"
      ]
    },
    {
      "cell_type": "code",
      "execution_count": 36,
      "metadata": {},
      "outputs": [
        {
          "name": "stdout",
          "output_type": "stream",
          "text": [
            "Оплата труда профессии Data Scientist от размера компании\n"
          ]
        },
        {
          "data": {
            "text/plain": [
              "company_size\n",
              "L     90734.0\n",
              "M    130000.0\n",
              "S     49268.0\n",
              "Name: salary_in_usd, dtype: float64"
            ]
          },
          "execution_count": 36,
          "metadata": {},
          "output_type": "execute_result"
        }
      ],
      "source": [
        "data_agg = scientist_data.groupby('company_size')['salary_in_usd'].median().round(2)\n",
        "print('Оплата труда профессии Data Scientist от размера компании')\n",
        "data_agg"
      ]
    },
    {
      "cell_type": "markdown",
      "metadata": {},
      "source": [
        "Оплаты труда различна для разных размеров компаний.\n",
        "\n",
        "Чтобы определить, являются ли эти различия статистически значимыми, необходимы статистические тесты."
      ]
    },
    {
      "cell_type": "markdown",
      "metadata": {},
      "source": [
        "#### Распределение оплаты труда по всем соискателям профессий Data Scientist и Data Engineer за 2020-2022 годы"
      ]
    },
    {
      "cell_type": "code",
      "execution_count": 37,
      "metadata": {},
      "outputs": [
        {
          "data": {
            "image/png": "[encoded data removed]",
            "text/plain": [
              "<Figure size 1500x500 with 2 Axes>"
            ]
          },
          "metadata": {},
          "output_type": "display_data"
        }
      ],
      "source": [
        "scientist_engineer_data = data[(data['job_title'] == 'Data Scientist') | (data['job_title'] == 'Data Engineer')]\n",
        "\n",
        "fig, axes = plt.subplots(1, 2, figsize=(15, 5))\n",
        "\n",
        "sns.histplot(scientist_engineer_data['salary_in_usd'], kde=True, ax=axes[0])\n",
        "axes[0].set(xlabel='Размер оплаты труда', ylabel='Частота')\n",
        "axes[0].set_title('Распределение оплаты труда в сфере Data Science и Data Engineer')\n",
        "axes[0].axvline(scientist_engineer_data['salary_in_usd'].mean(), color='red', linestyle='--', linewidth=1.2)\n",
        "\n",
        "sns.boxplot(scientist_engineer_data['salary_in_usd'], ax=axes[1], orient='h', medianprops={\"color\": \"red\", \"linestyle\": '--'})\n",
        "axes[1].set(ylabel='Размер оплаты труда')\n",
        "axes[1].set_title('Распределение оплаты труда в сфере Data Science и Data Engineer')\n",
        "\n",
        "plt.show()"
      ]
    },
    {
      "cell_type": "code",
      "execution_count": 38,
      "metadata": {},
      "outputs": [
        {
          "data": {
            "text/html": [
              "<div>\n",
              "<style scoped>\n",
              "    .dataframe tbody tr th:only-of-type {\n",
              "        vertical-align: middle;\n",
              "    }\n",
              "\n",
              "    .dataframe tbody tr th {\n",
              "        vertical-align: top;\n",
              "    }\n",
              "\n",
              "    .dataframe thead th {\n",
              "        text-align: right;\n",
              "    }\n",
              "</style>\n",
              "<table border=\"1\" class=\"dataframe\">\n",
              "  <thead>\n",
              "    <tr style=\"text-align: right;\">\n",
              "      <th></th>\n",
              "      <th>Размер оплаты труда</th>\n",
              "    </tr>\n",
              "  </thead>\n",
              "  <tbody>\n",
              "    <tr>\n",
              "      <th>count</th>\n",
              "      <td>132.00</td>\n",
              "    </tr>\n",
              "    <tr>\n",
              "      <th>mean</th>\n",
              "      <td>112725.00</td>\n",
              "    </tr>\n",
              "    <tr>\n",
              "      <th>std</th>\n",
              "      <td>57629.08</td>\n",
              "    </tr>\n",
              "    <tr>\n",
              "      <th>min</th>\n",
              "      <td>4000.00</td>\n",
              "    </tr>\n",
              "    <tr>\n",
              "      <th>25%</th>\n",
              "      <td>70039.50</td>\n",
              "    </tr>\n",
              "    <tr>\n",
              "      <th>50%</th>\n",
              "      <td>105500.00</td>\n",
              "    </tr>\n",
              "    <tr>\n",
              "      <th>75%</th>\n",
              "      <td>154600.00</td>\n",
              "    </tr>\n",
              "    <tr>\n",
              "      <th>max</th>\n",
              "      <td>324000.00</td>\n",
              "    </tr>\n",
              "  </tbody>\n",
              "</table>\n",
              "</div>"
            ],
            "text/plain": [
              "       Размер оплаты труда\n",
              "count               132.00\n",
              "mean             112725.00\n",
              "std               57629.08\n",
              "min                4000.00\n",
              "25%               70039.50\n",
              "50%              105500.00\n",
              "75%              154600.00\n",
              "max              324000.00"
            ]
          },
          "execution_count": 38,
          "metadata": {},
          "output_type": "execute_result"
        }
      ],
      "source": [
        "data_agg = engineer_data['salary_in_usd'].describe().round(2).to_frame()\n",
        "data_agg.columns = ['Размер оплаты труда']\n",
        "data_agg"
      ]
    },
    {
      "cell_type": "markdown",
      "metadata": {},
      "source": [
        "Распределение оплаты труда отлично от нормального, имеются выбросы."
      ]
    },
    {
      "cell_type": "markdown",
      "metadata": {},
      "source": [
        "### Оплата труда профессии Data Scientist и Data Engineer по году, в котором была выплачена зарплата."
      ]
    },
    {
      "cell_type": "code",
      "execution_count": 39,
      "metadata": {},
      "outputs": [
        {
          "data": {
            "image/png": "[encoded data removed]",
            "text/plain": [
              "<Figure size 640x480 with 1 Axes>"
            ]
          },
          "metadata": {},
          "output_type": "display_data"
        }
      ],
      "source": [
        "ax = sns.boxplot(scientist_engineer_data, x='salary_in_usd', y='work_year', orient='h', medianprops={\"color\": \"red\", \"linestyle\": '--'}, hue='job_title')\n",
        "ax.set(xlabel='Размер оплаты труда', ylabel='Год')\n",
        "plt.title('Оплата труда профессии Data Scientist и Data Engineer по году, в котором была выплачена зарплата')\n",
        "plt.show()"
      ]
    },
    {
      "cell_type": "code",
      "execution_count": 40,
      "metadata": {},
      "outputs": [
        {
          "name": "stdout",
          "output_type": "stream",
          "text": [
            "Оплата труда профессии Data Scientist и Data Engineer от года, в котором была выплачена зарплата\n"
          ]
        },
        {
          "data": {
            "text/html": [
              "<div>\n",
              "<style scoped>\n",
              "    .dataframe tbody tr th:only-of-type {\n",
              "        vertical-align: middle;\n",
              "    }\n",
              "\n",
              "    .dataframe tbody tr th {\n",
              "        vertical-align: top;\n",
              "    }\n",
              "\n",
              "    .dataframe thead th {\n",
              "        text-align: right;\n",
              "    }\n",
              "</style>\n",
              "<table border=\"1\" class=\"dataframe\">\n",
              "  <thead>\n",
              "    <tr style=\"text-align: right;\">\n",
              "      <th></th>\n",
              "      <th></th>\n",
              "      <th>count</th>\n",
              "      <th>mean</th>\n",
              "      <th>std</th>\n",
              "      <th>min</th>\n",
              "      <th>25%</th>\n",
              "      <th>50%</th>\n",
              "      <th>75%</th>\n",
              "      <th>max</th>\n",
              "    </tr>\n",
              "    <tr>\n",
              "      <th>work_year</th>\n",
              "      <th>job_title</th>\n",
              "      <th></th>\n",
              "      <th></th>\n",
              "      <th></th>\n",
              "      <th></th>\n",
              "      <th></th>\n",
              "      <th></th>\n",
              "      <th></th>\n",
              "      <th></th>\n",
              "    </tr>\n",
              "  </thead>\n",
              "  <tbody>\n",
              "    <tr>\n",
              "      <th rowspan=\"2\" valign=\"top\">2020</th>\n",
              "      <th>Data Engineer</th>\n",
              "      <td>11.0</td>\n",
              "      <td>88162.00</td>\n",
              "      <td>46473.12</td>\n",
              "      <td>33511.0</td>\n",
              "      <td>51320.5</td>\n",
              "      <td>74130.0</td>\n",
              "      <td>111436.00</td>\n",
              "      <td>188000.0</td>\n",
              "    </tr>\n",
              "    <tr>\n",
              "      <th>Data Scientist</th>\n",
              "      <td>21.0</td>\n",
              "      <td>85970.52</td>\n",
              "      <td>81436.65</td>\n",
              "      <td>21669.0</td>\n",
              "      <td>42197.0</td>\n",
              "      <td>62726.0</td>\n",
              "      <td>105000.00</td>\n",
              "      <td>412000.0</td>\n",
              "    </tr>\n",
              "    <tr>\n",
              "      <th rowspan=\"2\" valign=\"top\">2021</th>\n",
              "      <th>Data Engineer</th>\n",
              "      <td>32.0</td>\n",
              "      <td>83202.53</td>\n",
              "      <td>52926.53</td>\n",
              "      <td>4000.0</td>\n",
              "      <td>29940.0</td>\n",
              "      <td>78416.5</td>\n",
              "      <td>111831.25</td>\n",
              "      <td>200000.0</td>\n",
              "    </tr>\n",
              "    <tr>\n",
              "      <th>Data Scientist</th>\n",
              "      <td>45.0</td>\n",
              "      <td>70671.73</td>\n",
              "      <td>45422.97</td>\n",
              "      <td>2859.0</td>\n",
              "      <td>33808.0</td>\n",
              "      <td>73000.0</td>\n",
              "      <td>100000.00</td>\n",
              "      <td>165000.0</td>\n",
              "    </tr>\n",
              "    <tr>\n",
              "      <th rowspan=\"2\" valign=\"top\">2022</th>\n",
              "      <th>Data Engineer</th>\n",
              "      <td>89.0</td>\n",
              "      <td>126375.70</td>\n",
              "      <td>55954.40</td>\n",
              "      <td>25000.0</td>\n",
              "      <td>78526.0</td>\n",
              "      <td>120000.0</td>\n",
              "      <td>160000.00</td>\n",
              "      <td>324000.0</td>\n",
              "    </tr>\n",
              "    <tr>\n",
              "      <th>Data Scientist</th>\n",
              "      <td>77.0</td>\n",
              "      <td>136172.09</td>\n",
              "      <td>54563.08</td>\n",
              "      <td>18442.0</td>\n",
              "      <td>100000.0</td>\n",
              "      <td>140000.0</td>\n",
              "      <td>176000.00</td>\n",
              "      <td>260000.0</td>\n",
              "    </tr>\n",
              "  </tbody>\n",
              "</table>\n",
              "</div>"
            ],
            "text/plain": [
              "                          count       mean       std      min       25%  \\\n",
              "work_year job_title                                                       \n",
              "2020      Data Engineer    11.0   88162.00  46473.12  33511.0   51320.5   \n",
              "          Data Scientist   21.0   85970.52  81436.65  21669.0   42197.0   \n",
              "2021      Data Engineer    32.0   83202.53  52926.53   4000.0   29940.0   \n",
              "          Data Scientist   45.0   70671.73  45422.97   2859.0   33808.0   \n",
              "2022      Data Engineer    89.0  126375.70  55954.40  25000.0   78526.0   \n",
              "          Data Scientist   77.0  136172.09  54563.08  18442.0  100000.0   \n",
              "\n",
              "                               50%        75%       max  \n",
              "work_year job_title                                      \n",
              "2020      Data Engineer    74130.0  111436.00  188000.0  \n",
              "          Data Scientist   62726.0  105000.00  412000.0  \n",
              "2021      Data Engineer    78416.5  111831.25  200000.0  \n",
              "          Data Scientist   73000.0  100000.00  165000.0  \n",
              "2022      Data Engineer   120000.0  160000.00  324000.0  \n",
              "          Data Scientist  140000.0  176000.00  260000.0  "
            ]
          },
          "execution_count": 40,
          "metadata": {},
          "output_type": "execute_result"
        }
      ],
      "source": [
        "data_agg = scientist_engineer_data.groupby(['work_year', 'job_title'])['salary_in_usd'].describe().round(2)\n",
        "print('Оплата труда профессии Data Scientist и Data Engineer от года, в котором была выплачена зарплата')\n",
        "data_agg"
      ]
    },
    {
      "cell_type": "code",
      "execution_count": 41,
      "metadata": {},
      "outputs": [
        {
          "name": "stdout",
          "output_type": "stream",
          "text": [
            "Оплата труда медианная профессии Data Scientist и Data Engineer от года, в котором была выплачена зарплата\n"
          ]
        },
        {
          "data": {
            "text/plain": [
              "work_year  job_title     \n",
              "2020       Data Engineer      74130.0\n",
              "           Data Scientist     62726.0\n",
              "2021       Data Engineer      78416.5\n",
              "           Data Scientist     73000.0\n",
              "2022       Data Engineer     120000.0\n",
              "           Data Scientist    140000.0\n",
              "Name: salary_in_usd, dtype: float64"
            ]
          },
          "execution_count": 41,
          "metadata": {},
          "output_type": "execute_result"
        }
      ],
      "source": [
        "data_agg = scientist_engineer_data.groupby(['work_year', 'job_title'])['salary_in_usd'].median().round(2)\n",
        "print('Оплата труда медианная профессии Data Scientist и Data Engineer от года, в котором была выплачена зарплата')\n",
        "data_agg"
      ]
    },
    {
      "cell_type": "markdown",
      "metadata": {},
      "source": [
        "Распределение оплаты труда по году, в котором была выплачена зарплата, имеет тенденцию к увеличению медианных значений, но различны средние значения.\n",
        "\n",
        "Чтобы определить, являются ли эти различия статистически значимыми, в следующем разделе мы проведём статистические тесты."
      ]
    },
    {
      "cell_type": "markdown",
      "metadata": {},
      "source": [
        "### Оплата труда профессии Data Scientist и Data Engineer от размера компании."
      ]
    },
    {
      "cell_type": "code",
      "execution_count": 42,
      "metadata": {},
      "outputs": [
        {
          "data": {
            "image/png": "[encoded data removed]",
            "text/plain": [
              "<Figure size 640x480 with 1 Axes>"
            ]
          },
          "metadata": {},
          "output_type": "display_data"
        }
      ],
      "source": [
        "ax = sns.boxplot(scientist_engineer_data, x='salary_in_usd', y='company_size', orient='h', medianprops={\"color\": \"red\", \"linestyle\": '--'}, hue='job_title')\n",
        "ax.set(xlabel='Размер оплаты труда', ylabel='Размер компании')\n",
        "plt.title('Оплата труда профессии Data Scientist и Data Engineer от размера компании')\n",
        "plt.show()"
      ]
    },
    {
      "cell_type": "code",
      "execution_count": 43,
      "metadata": {},
      "outputs": [
        {
          "name": "stdout",
          "output_type": "stream",
          "text": [
            "Оплата труда профессии Data Scientist и Data Engineer от размера компании\n"
          ]
        },
        {
          "data": {
            "text/html": [
              "<div>\n",
              "<style scoped>\n",
              "    .dataframe tbody tr th:only-of-type {\n",
              "        vertical-align: middle;\n",
              "    }\n",
              "\n",
              "    .dataframe tbody tr th {\n",
              "        vertical-align: top;\n",
              "    }\n",
              "\n",
              "    .dataframe thead th {\n",
              "        text-align: right;\n",
              "    }\n",
              "</style>\n",
              "<table border=\"1\" class=\"dataframe\">\n",
              "  <thead>\n",
              "    <tr style=\"text-align: right;\">\n",
              "      <th></th>\n",
              "      <th></th>\n",
              "      <th>count</th>\n",
              "      <th>mean</th>\n",
              "      <th>std</th>\n",
              "      <th>min</th>\n",
              "      <th>25%</th>\n",
              "      <th>50%</th>\n",
              "      <th>75%</th>\n",
              "      <th>max</th>\n",
              "    </tr>\n",
              "    <tr>\n",
              "      <th>company_size</th>\n",
              "      <th>job_title</th>\n",
              "      <th></th>\n",
              "      <th></th>\n",
              "      <th></th>\n",
              "      <th></th>\n",
              "      <th></th>\n",
              "      <th></th>\n",
              "      <th></th>\n",
              "      <th></th>\n",
              "    </tr>\n",
              "  </thead>\n",
              "  <tbody>\n",
              "    <tr>\n",
              "      <th rowspan=\"2\" valign=\"top\">L</th>\n",
              "      <th>Data Engineer</th>\n",
              "      <td>37.0</td>\n",
              "      <td>104255.97</td>\n",
              "      <td>56225.27</td>\n",
              "      <td>20000.0</td>\n",
              "      <td>69741.00</td>\n",
              "      <td>100000.0</td>\n",
              "      <td>150000.00</td>\n",
              "      <td>209100.0</td>\n",
              "    </tr>\n",
              "    <tr>\n",
              "      <th>Data Scientist</th>\n",
              "      <td>45.0</td>\n",
              "      <td>103313.36</td>\n",
              "      <td>71815.18</td>\n",
              "      <td>13400.0</td>\n",
              "      <td>50000.00</td>\n",
              "      <td>90734.0</td>\n",
              "      <td>135000.00</td>\n",
              "      <td>412000.0</td>\n",
              "    </tr>\n",
              "    <tr>\n",
              "      <th rowspan=\"2\" valign=\"top\">M</th>\n",
              "      <th>Data Engineer</th>\n",
              "      <td>89.0</td>\n",
              "      <td>119372.74</td>\n",
              "      <td>58153.33</td>\n",
              "      <td>4000.0</td>\n",
              "      <td>78526.00</td>\n",
              "      <td>115000.0</td>\n",
              "      <td>156600.00</td>\n",
              "      <td>324000.0</td>\n",
              "    </tr>\n",
              "    <tr>\n",
              "      <th>Data Scientist</th>\n",
              "      <td>77.0</td>\n",
              "      <td>126380.75</td>\n",
              "      <td>56389.53</td>\n",
              "      <td>4000.0</td>\n",
              "      <td>90000.00</td>\n",
              "      <td>130000.0</td>\n",
              "      <td>165000.00</td>\n",
              "      <td>260000.0</td>\n",
              "    </tr>\n",
              "    <tr>\n",
              "      <th rowspan=\"2\" valign=\"top\">S</th>\n",
              "      <th>Data Engineer</th>\n",
              "      <td>6.0</td>\n",
              "      <td>66342.50</td>\n",
              "      <td>28862.47</td>\n",
              "      <td>33511.0</td>\n",
              "      <td>47516.75</td>\n",
              "      <td>65511.0</td>\n",
              "      <td>74130.25</td>\n",
              "      <td>115000.0</td>\n",
              "    </tr>\n",
              "    <tr>\n",
              "      <th>Data Scientist</th>\n",
              "      <td>21.0</td>\n",
              "      <td>51925.76</td>\n",
              "      <td>33216.29</td>\n",
              "      <td>2859.0</td>\n",
              "      <td>21669.00</td>\n",
              "      <td>49268.0</td>\n",
              "      <td>82500.00</td>\n",
              "      <td>105000.0</td>\n",
              "    </tr>\n",
              "  </tbody>\n",
              "</table>\n",
              "</div>"
            ],
            "text/plain": [
              "                             count       mean       std      min       25%  \\\n",
              "company_size job_title                                                       \n",
              "L            Data Engineer    37.0  104255.97  56225.27  20000.0  69741.00   \n",
              "             Data Scientist   45.0  103313.36  71815.18  13400.0  50000.00   \n",
              "M            Data Engineer    89.0  119372.74  58153.33   4000.0  78526.00   \n",
              "             Data Scientist   77.0  126380.75  56389.53   4000.0  90000.00   \n",
              "S            Data Engineer     6.0   66342.50  28862.47  33511.0  47516.75   \n",
              "             Data Scientist   21.0   51925.76  33216.29   2859.0  21669.00   \n",
              "\n",
              "                                  50%        75%       max  \n",
              "company_size job_title                                      \n",
              "L            Data Engineer   100000.0  150000.00  209100.0  \n",
              "             Data Scientist   90734.0  135000.00  412000.0  \n",
              "M            Data Engineer   115000.0  156600.00  324000.0  \n",
              "             Data Scientist  130000.0  165000.00  260000.0  \n",
              "S            Data Engineer    65511.0   74130.25  115000.0  \n",
              "             Data Scientist   49268.0   82500.00  105000.0  "
            ]
          },
          "execution_count": 43,
          "metadata": {},
          "output_type": "execute_result"
        }
      ],
      "source": [
        "data_agg = scientist_engineer_data.groupby(['company_size', 'job_title'])['salary_in_usd'].describe().round(2)\n",
        "print('Оплата труда профессии Data Scientist и Data Engineer от размера компании')\n",
        "data_agg"
      ]
    },
    {
      "cell_type": "code",
      "execution_count": 44,
      "metadata": {},
      "outputs": [
        {
          "name": "stdout",
          "output_type": "stream",
          "text": [
            "Оплата труда профессии Data Scientist и Data Engineer от размера компании\n"
          ]
        },
        {
          "data": {
            "text/plain": [
              "company_size  job_title     \n",
              "L             Data Engineer     100000.0\n",
              "              Data Scientist     90734.0\n",
              "M             Data Engineer     115000.0\n",
              "              Data Scientist    130000.0\n",
              "S             Data Engineer      65511.0\n",
              "              Data Scientist     49268.0\n",
              "Name: salary_in_usd, dtype: float64"
            ]
          },
          "execution_count": 44,
          "metadata": {},
          "output_type": "execute_result"
        }
      ],
      "source": [
        "data_agg = scientist_engineer_data.groupby(['company_size', 'job_title'])['salary_in_usd'].median().round(2)\n",
        "print('Оплата труда профессии Data Scientist и Data Engineer от размера компании')\n",
        "data_agg"
      ]
    },
    {
      "cell_type": "markdown",
      "metadata": {},
      "source": [
        "Оплата труда различна для мелких и крупных компаний. В средних компаниях наблюдается самый большой ценник как среднего так и медианного значений оплаты труда.\n",
        "\n",
        "Чтобы определить, являются ли эти различия статистически значимыми, необходимы статистические тесты."
      ]
    },
    {
      "cell_type": "markdown",
      "metadata": {},
      "source": [
        "### Количество должностей профессии Data Scientist и Data Engineer от размера компании."
      ]
    },
    {
      "cell_type": "code",
      "execution_count": 45,
      "metadata": {},
      "outputs": [
        {
          "data": {
            "image/png": "[encoded data removed]",
            "text/plain": [
              "<Figure size 640x480 with 1 Axes>"
            ]
          },
          "metadata": {},
          "output_type": "display_data"
        }
      ],
      "source": [
        "ax = sns.countplot(scientist_engineer_data, y='company_size', hue='job_title')\n",
        "ax.set(xlabel='Количество должностей', ylabel='Размер компании')\n",
        "plt.title('Количество должностей профессии Data Scientist и Data Engineer от размера компании')\n",
        "plt.show()"
      ]
    },
    {
      "cell_type": "code",
      "execution_count": 46,
      "metadata": {},
      "outputs": [
        {
          "name": "stdout",
          "output_type": "stream",
          "text": [
            "Количество должностей профессии Data Scientist и Data Engineer от размера компании\n"
          ]
        },
        {
          "data": {
            "text/plain": [
              "company_size  job_title     \n",
              "L             Data Scientist    45\n",
              "              Data Engineer     37\n",
              "M             Data Engineer     89\n",
              "              Data Scientist    77\n",
              "S             Data Scientist    21\n",
              "              Data Engineer      6\n",
              "Name: count, dtype: int64"
            ]
          },
          "execution_count": 46,
          "metadata": {},
          "output_type": "execute_result"
        }
      ],
      "source": [
        "data_agg = scientist_engineer_data.groupby('company_size')['job_title'].value_counts().round(2)\n",
        "print('Количество должностей профессии Data Scientist и Data Engineer от размера компании')\n",
        "data_agg"
      ]
    },
    {
      "cell_type": "markdown",
      "metadata": {},
      "source": [
        "Для мелких и крупных компаний преобладает профессия Data Scientist. В средних компаниях преобладает профессии Data Engineer.\n",
        "\n",
        "Чтобы определить, являются ли эти различия статистически значимыми, необходимы статистические тесты."
      ]
    },
    {
      "cell_type": "markdown",
      "metadata": {},
      "source": [
        "### Количество должностей профессии Data Scientist и Data Engineer от опыта работы."
      ]
    },
    {
      "cell_type": "code",
      "execution_count": 47,
      "metadata": {},
      "outputs": [
        {
          "data": {
            "image/png": "[encoded data removed]",
            "text/plain": [
              "<Figure size 640x480 with 1 Axes>"
            ]
          },
          "metadata": {},
          "output_type": "display_data"
        }
      ],
      "source": [
        "ax = sns.countplot(scientist_engineer_data, y='experience_level', hue='job_title')\n",
        "ax.set(xlabel='Количество должностей', ylabel='Опыт работы')\n",
        "plt.title('Количество должностей профессии Data Scientist и Data Engineer от опыта работы')\n",
        "plt.show()"
      ]
    },
    {
      "cell_type": "code",
      "execution_count": 48,
      "metadata": {},
      "outputs": [
        {
          "name": "stdout",
          "output_type": "stream",
          "text": [
            "Количество должностей профессии Data Scientist и Data Engineer от опыта работы\n"
          ]
        },
        {
          "data": {
            "text/plain": [
              "experience_level  job_title     \n",
              "EN                Data Scientist    22\n",
              "                  Data Engineer     12\n",
              "EX                Data Engineer      4\n",
              "MI                Data Scientist    60\n",
              "                  Data Engineer     53\n",
              "SE                Data Engineer     63\n",
              "                  Data Scientist    61\n",
              "Name: count, dtype: int64"
            ]
          },
          "execution_count": 48,
          "metadata": {},
          "output_type": "execute_result"
        }
      ],
      "source": [
        "data_agg = scientist_engineer_data.groupby('experience_level')['job_title'].value_counts().round(2)\n",
        "print('Количество должностей профессии Data Scientist и Data Engineer от опыта работы')\n",
        "data_agg"
      ]
    },
    {
      "cell_type": "markdown",
      "metadata": {},
      "source": [
        "Так как опыт работы EX (Executive-level/Director) только у специалистов профессии Data Engineer и слишком маленькая выборка, исключим ее, и после чтобы определить, являются ли эти различия статистически значимыми, проведем статистические тесты."
      ]
    },
    {
      "cell_type": "markdown",
      "metadata": {
        "id": "-UcttLBPfd8-"
      },
      "source": [
        "## Статистический анализ данных\n",
        "\n"
      ]
    },
    {
      "cell_type": "code",
      "execution_count": 49,
      "metadata": {
        "id": "sn3PGE23l7Ze"
      },
      "outputs": [],
      "source": [
        "# функция для принятия решения о нормальности\n",
        "def decision_normality(p):\n",
        "    print('p-value = {:.3f}'.format(p))\n",
        "    if p <= alpha:\n",
        "        print('p-значение меньше, чем заданный уровень значимости {:.2f}. Распределение отлично от нормального'.format(alpha))\n",
        "    else:\n",
        "        print('p-значение больше, чем заданный уровень значимости {:.2f}. Распределение является нормальным'.format(alpha))\n",
        "\n",
        "\n",
        "# функция для принятия решения об отклонении нулевой гипотезы\n",
        "def decision_hypothesis(p):\n",
        "    print('p-value = {:.3f}'.format(p))\n",
        "    if p <= alpha:\n",
        "        print('p-значение меньше, чем заданный уровень значимости {:.2f}. Отвергаем нулевую гипотезу в пользу альтернативной.'.format(alpha))\n",
        "    else:\n",
        "        print('p-значение больше, чем заданный уровень значимости {:.2f}. У нас нет оснований отвергнуть нулевую гипотезу.'.format(alpha))\n",
        "      "
      ]
    },
    {
      "cell_type": "markdown",
      "metadata": {},
      "source": [
        "### Влияет ли год на размер оплаты труда профессии Data Scientist?\n",
        "\n",
        "**Сформулируем нулевую и альтернативные гипотезы**\n",
        "\n",
        "*Нулевая гипотеза*: размер оплаты труда профессии Data Scientist не отличается по годам: 2020 ($μ_1$), 2021 ($μ_2$), 2022 ($μ_3$).\n",
        "\n",
        "$$ H_0 : μ_1 = μ_2 = μ_3$$\n",
        "\n",
        "*Альтернативная гипотеза*: размер оплаты труда профессии Data Scientist отличается по годам: 2020 ($μ_1$), 2021 ($μ_2$), 2022 ($μ_3$).\n",
        "\n",
        "$$ H_1 : μ_1 \\neq μ_2 \\neq μ_3$$\n",
        "\n"
      ]
    },
    {
      "cell_type": "markdown",
      "metadata": {},
      "source": [
        "**Проверка на нормальность**\n",
        "\n",
        "С помощью теста Шапиро-Уилка проверим, распределён ли признак нормально."
      ]
    },
    {
      "cell_type": "code",
      "execution_count": 50,
      "metadata": {},
      "outputs": [
        {
          "name": "stdout",
          "output_type": "stream",
          "text": [
            "Для 2020:\n",
            "p-value = 0.000\n",
            "p-значение меньше, чем заданный уровень значимости 0.05. Распределение отлично от нормального\n",
            "Для 2021:\n",
            "p-value = 0.125\n",
            "p-значение больше, чем заданный уровень значимости 0.05. Распределение является нормальным\n",
            "Для 2022:\n",
            "p-value = 0.327\n",
            "p-значение больше, чем заданный уровень значимости 0.05. Распределение является нормальным\n"
          ]
        }
      ],
      "source": [
        "# значения оплаты труда\n",
        "salary_year2020 = scientist_data.loc[scientist_data['work_year']==2020, 'salary_in_usd']\n",
        "salary_year2021 = scientist_data.loc[scientist_data['work_year']==2021, 'salary_in_usd']\n",
        "salary_year2022 = scientist_data.loc[scientist_data['work_year']==2022, 'salary_in_usd']\n",
        "\n",
        "# проводим тест Шапиро-Уилка\n",
        "print('Для 2020:')\n",
        "result = stats.shapiro(salary_year2020)\n",
        "decision_normality(result[1])\n",
        "\n",
        "print('Для 2021:')\n",
        "result = stats.shapiro(salary_year2021)\n",
        "decision_normality(result[1])\n",
        "\n",
        "print('Для 2022:')\n",
        "result = stats.shapiro(salary_year2022)\n",
        "decision_normality(result[1])"
      ]
    },
    {
      "cell_type": "markdown",
      "metadata": {},
      "source": [
        "**Выберем подходящий статистический тест**\n",
        "\n",
        "Для выбора нужного теста воспользуемся алгоритмом выбора теста. Для этого ответим на следующие вопросы:\n",
        "* Какой тип у признака «salary_in_usd»? — Количественный.\n",
        "* Сколько сравниваемых групп? — Три.\n",
        "* Группы зависимы? — Нет.\n",
        "* Признак распределён по нормальному закону? — Нет. \n",
        "\n",
        "Для проверки нашей гипотезы можно использовать критерий Краскела — Уоллиса.\n",
        "\n",
        "**Проведём тест**"
      ]
    },
    {
      "cell_type": "code",
      "execution_count": 51,
      "metadata": {},
      "outputs": [
        {
          "name": "stdout",
          "output_type": "stream",
          "text": [
            "p-value = 0.000\n",
            "p-значение меньше, чем заданный уровень значимости 0.05. Отвергаем нулевую гипотезу в пользу альтернативной.\n"
          ]
        }
      ],
      "source": [
        "# проводим тест\n",
        "_, p = stats.kruskal(salary_year2020, salary_year2021, salary_year2022)\n",
        "decision_hypothesis(p)"
      ]
    },
    {
      "cell_type": "markdown",
      "metadata": {},
      "source": [
        "**Вывод**\n",
        "\n",
        "Размер оплаты труда профессии Data Scientist отличается по годам."
      ]
    },
    {
      "cell_type": "markdown",
      "metadata": {},
      "source": [
        "### Влияет ли опыт работы на размер оплаты труда профессии Data Scientist?\n",
        "\n",
        "**Сформулируем нулевую и альтернативные гипотезы**\n",
        "\n",
        "*Нулевая гипотеза*: размер оплаты труда профессии Data Scientist не отличается от опыта работы: EN (Entry-level/Junio) ($μ_1$), MI (Mid-level/Intermediate) ($μ_2$), SE (Senior-level/Expert) ($μ_3$).\n",
        "\n",
        "$$ H_0 : μ_1 = μ_2 = μ_3$$\n",
        "\n",
        "*Альтернативная гипотеза*: размер оплаты труда профессии Data Scientist отличается от опыта работы: EN (Entry-level/Junio) ($μ_1$), MI (Mid-level/Intermediate) ($μ_2$), SE (Senior-level/Expert) ($μ_3$).\n",
        "\n",
        "$$ H_1 : μ_1 \\neq μ_2 \\neq μ_3$$\n"
      ]
    },
    {
      "cell_type": "markdown",
      "metadata": {},
      "source": [
        "**Проверка на нормальность**\n",
        "\n",
        "С помощью теста Шапиро-Уилка проверим, распределён ли признак нормально."
      ]
    },
    {
      "cell_type": "code",
      "execution_count": 40,
      "metadata": {},
      "outputs": [
        {
          "name": "stdout",
          "output_type": "stream",
          "text": [
            "Для EN (Entry-level/Junio):\n",
            "p-value = 0.174\n",
            "p-значение больше, чем заданный уровень значимости 0.05. Распределение является нормальным\n",
            "Для MI (Mid-level/Intermediate):\n",
            "p-value = 0.178\n",
            "p-значение больше, чем заданный уровень значимости 0.05. Распределение является нормальным\n",
            "Для SE (Senior-level/Expert):\n",
            "p-value = 0.000\n",
            "p-значение меньше, чем заданный уровень значимости 0.05. Распределение отлично от нормального\n"
          ]
        }
      ],
      "source": [
        "# значения оплаты труда\n",
        "salary_en = scientist_data.loc[scientist_data['experience_level']=='EN', 'salary_in_usd']\n",
        "salary_mi = scientist_data.loc[scientist_data['experience_level']=='MI', 'salary_in_usd']\n",
        "salary_se = scientist_data.loc[scientist_data['experience_level']=='SE', 'salary_in_usd']\n",
        "\n",
        "# проводим тест Шапиро-Уилка\n",
        "print('Для EN (Entry-level/Junio):')\n",
        "result = stats.shapiro(salary_en)\n",
        "decision_normality(result[1])\n",
        "\n",
        "print('Для MI (Mid-level/Intermediate):')\n",
        "result = stats.shapiro(salary_mi)\n",
        "decision_normality(result[1])\n",
        "\n",
        "print('Для SE (Senior-level/Expert):')\n",
        "result = stats.shapiro(salary_se)\n",
        "decision_normality(result[1])"
      ]
    },
    {
      "cell_type": "markdown",
      "metadata": {},
      "source": [
        "**Выберем подходящий статистический тест**\n",
        "\n",
        "Для выбора нужного теста воспользуемся алгоритмом выбора теста. Для этого ответим на следующие вопросы:\n",
        "* Какой тип у признака «salary_in_usd»? — Количественный.\n",
        "* Сколько сравниваемых групп? — Три.\n",
        "* Группы зависимы? — Нет.\n",
        "* Признак распределён по нормальному закону? — Нет. \n",
        "\n",
        "Для проверки нашей гипотезы можно использовать критерий Краскела — Уоллиса.\n",
        "\n",
        "**Проведём тест**"
      ]
    },
    {
      "cell_type": "code",
      "execution_count": null,
      "metadata": {},
      "outputs": [
        {
          "name": "stdout",
          "output_type": "stream",
          "text": [
            "p-value = 0.000\n",
            "p-значение меньше, чем заданный уровень значимости 0.05. Отвергаем нулевую гипотезу в пользу альтернативной.\n"
          ]
        }
      ],
      "source": [
        "# проводим тест\n",
        "_, p = stats.kruskal(salary_en, salary_mi, salary_se)\n",
        "decision_hypothesis(p)"
      ]
    },
    {
      "cell_type": "markdown",
      "metadata": {},
      "source": [
        "**Вывод**\n",
        "\n",
        "Размер оплаты труда профессии Data Scientist отличается от опыта работы специалиста."
      ]
    },
    {
      "cell_type": "markdown",
      "metadata": {},
      "source": [
        "### Влияет ли страна проживания на размер оплаты труда профессии Data Scientist?\n",
        "\n",
        "**Сформулируем нулевую и альтернативные гипотезы**\n",
        "\n",
        "*Нулевая гипотеза*: размер оплаты труда профессии Data Scientist не отличается от страны проживания: ($μ_1$), ($μ_2$), ($μ_N$).\n",
        "\n",
        "$$ H_0 : μ_1 = μ_2 = μ_N$$\n",
        "\n",
        "*Альтернативная гипотеза*: размер оплаты труда профессии Data Scientist отличается от страны проживания: ($μ_1$), ($μ_2$), ($μ_N$).\n",
        "\n",
        "$$ H_1 : μ_1 \\neq μ_2 \\neq μ_N$$\n"
      ]
    },
    {
      "cell_type": "markdown",
      "metadata": {},
      "source": [
        "**Проверка на нормальность**\n",
        "\n",
        "С помощью теста Шапиро-Уилка проверим, распределён ли признак нормально."
      ]
    },
    {
      "cell_type": "code",
      "execution_count": 87,
      "metadata": {},
      "outputs": [
        {
          "name": "stdout",
          "output_type": "stream",
          "text": [
            "Для US:\n",
            "p-value = 0.000\n",
            "p-значение меньше, чем заданный уровень значимости 0.05. Распределение отлично от нормального\n",
            "Для GB:\n",
            "p-value = 0.277\n",
            "p-значение больше, чем заданный уровень значимости 0.05. Распределение является нормальным\n",
            "Для IN:\n",
            "p-value = 0.661\n",
            "p-значение больше, чем заданный уровень значимости 0.05. Распределение является нормальным\n",
            "Для FR:\n",
            "p-value = 0.444\n",
            "p-значение больше, чем заданный уровень значимости 0.05. Распределение является нормальным\n",
            "Для DE:\n",
            "p-value = 0.170\n",
            "p-значение больше, чем заданный уровень значимости 0.05. Распределение является нормальным\n",
            "Для CA:\n",
            "p-value = 0.792\n",
            "p-значение больше, чем заданный уровень значимости 0.05. Распределение является нормальным\n",
            "Для ES:\n",
            "p-value = 0.184\n",
            "p-значение больше, чем заданный уровень значимости 0.05. Распределение является нормальным\n"
          ]
        }
      ],
      "source": [
        "# значения оплаты труда\n",
        "salary_us = scientist_data_per.loc[scientist_data_per['employee_residence']=='US', 'salary_in_usd']\n",
        "salary_gb = scientist_data_per.loc[scientist_data_per['employee_residence']=='GB', 'salary_in_usd']\n",
        "salary_in = scientist_data_per.loc[scientist_data_per['employee_residence']=='IN', 'salary_in_usd']\n",
        "salary_fr = scientist_data_per.loc[scientist_data_per['employee_residence']=='FR', 'salary_in_usd']\n",
        "salary_de = scientist_data_per.loc[scientist_data_per['employee_residence']=='DE', 'salary_in_usd']\n",
        "salary_ca = scientist_data_per.loc[scientist_data_per['employee_residence']=='CA', 'salary_in_usd']\n",
        "salary_es = scientist_data_per.loc[scientist_data_per['employee_residence']=='ES', 'salary_in_usd']\n",
        "\n",
        "# проводим тест Шапиро-Уилка\n",
        "print('Для US:')\n",
        "result = stats.shapiro(salary_us)\n",
        "decision_normality(result[1])\n",
        "\n",
        "print('Для GB:')\n",
        "result = stats.shapiro(salary_gb)\n",
        "decision_normality(result[1])\n",
        "\n",
        "print('Для IN:')\n",
        "result = stats.shapiro(salary_in)\n",
        "decision_normality(result[1])\n",
        "\n",
        "print('Для FR:')\n",
        "result = stats.shapiro(salary_fr)\n",
        "decision_normality(result[1])\n",
        "\n",
        "print('Для DE:')\n",
        "result = stats.shapiro(salary_de)\n",
        "decision_normality(result[1])\n",
        "\n",
        "print('Для CA:')\n",
        "result = stats.shapiro(salary_ca)\n",
        "decision_normality(result[1])\n",
        "\n",
        "print('Для ES:')\n",
        "result = stats.shapiro(salary_es)\n",
        "decision_normality(result[1])"
      ]
    },
    {
      "cell_type": "markdown",
      "metadata": {},
      "source": [
        "**Выберем подходящий статистический тест**\n",
        "\n",
        "Для выбора нужного теста воспользуемся алгоритмом выбора теста. Для этого ответим на следующие вопросы:\n",
        "* Какой тип у признака «salary_in_usd»? — Количественный.\n",
        "* Сколько сравниваемых групп? — Семь.\n",
        "* Группы зависимы? — Нет.\n",
        "* Признак распределён по нормальному закону? — Нет. \n",
        "\n",
        "Для проверки нашей гипотезы можно использовать критерий Краскела — Уоллиса.\n",
        "\n",
        "**Проведём тест**"
      ]
    },
    {
      "cell_type": "code",
      "execution_count": 88,
      "metadata": {},
      "outputs": [
        {
          "name": "stdout",
          "output_type": "stream",
          "text": [
            "p-value = 0.000\n",
            "p-значение меньше, чем заданный уровень значимости 0.05. Отвергаем нулевую гипотезу в пользу альтернативной.\n"
          ]
        }
      ],
      "source": [
        "# проводим тест\n",
        "_, p = stats.kruskal(salary_us, salary_gb, salary_in, salary_fr, salary_de, salary_ca, salary_es )\n",
        "decision_hypothesis(p)"
      ]
    },
    {
      "cell_type": "markdown",
      "metadata": {},
      "source": [
        "**Вывод**\n",
        "\n",
        "Размер оплаты труда профессии Data Scientist отличается от страны проживания."
      ]
    },
    {
      "cell_type": "markdown",
      "metadata": {},
      "source": [
        "### Влияет ли доля удаленной работы и ее количество на размер оплаты труда профессии Data Scientist?\n",
        "\n",
        "**Сформулируем нулевую и альтернативные гипотезы**\n",
        "\n",
        "*Нулевая гипотеза*: размер оплаты труда профессии Data Scientist не отличается от доли удалённой работы: менее 20 % ($μ_1$), частично удалённая ($μ_2$), более 80 % ($μ_3$).\n",
        "\n",
        "$$ H_0 : μ_1 = μ_2 = μ_3$$\n",
        "\n",
        "*Альтернативная гипотеза*: размер оплаты труда профессии Data Scientist отличается от доли удалённой работы: менее 20 % ($μ_1$), частично удалённая ($μ_2$), более 80 % ($μ_3$).\n",
        "\n",
        "$$ H_1 : μ_1 \\neq μ_2 \\neq μ_3$$\n"
      ]
    },
    {
      "cell_type": "markdown",
      "metadata": {},
      "source": [
        "**Проверка на нормальность**\n",
        "\n",
        "С помощью теста Шапиро-Уилка проверим, распределён ли признак нормально."
      ]
    },
    {
      "cell_type": "code",
      "execution_count": 90,
      "metadata": {},
      "outputs": [
        {
          "name": "stdout",
          "output_type": "stream",
          "text": [
            "Для менее 20 %:\n",
            "p-value = 0.363\n",
            "p-значение больше, чем заданный уровень значимости 0.05. Распределение является нормальным\n",
            "Для частично удалённая:\n",
            "p-value = 0.482\n",
            "p-значение больше, чем заданный уровень значимости 0.05. Распределение является нормальным\n",
            "Для более 80 %:\n",
            "p-value = 0.002\n",
            "p-значение меньше, чем заданный уровень значимости 0.05. Распределение отлично от нормального\n"
          ]
        }
      ],
      "source": [
        "# значения оплаты труда\n",
        "salary_20 = scientist_data.loc[scientist_data['remote_ratio']== 0, 'salary_in_usd']\n",
        "salary_50 = scientist_data.loc[scientist_data['remote_ratio']== 50, 'salary_in_usd']\n",
        "salary_80 = scientist_data.loc[scientist_data['remote_ratio']== 100, 'salary_in_usd']\n",
        "\n",
        "# проводим тест Шапиро-Уилка\n",
        "print('Для менее 20 %:')\n",
        "result = stats.shapiro(salary_20)\n",
        "decision_normality(result[1])\n",
        "\n",
        "print('Для частично удалённая:')\n",
        "result = stats.shapiro(salary_50)\n",
        "decision_normality(result[1])\n",
        "\n",
        "print('Для более 80 %:')\n",
        "result = stats.shapiro(salary_80)\n",
        "decision_normality(result[1])"
      ]
    },
    {
      "cell_type": "markdown",
      "metadata": {},
      "source": [
        "**Выберем подходящий статистический тест**\n",
        "\n",
        "Для выбора нужного теста воспользуемся алгоритмом выбора теста. Для этого ответим на следующие вопросы:\n",
        "* Какой тип у признака «salary_in_usd»? — Количественный.\n",
        "* Сколько сравниваемых групп? — Три.\n",
        "* Группы зависимы? — Нет.\n",
        "* Признак распределён по нормальному закону? — Нет. \n",
        "\n",
        "Для проверки нашей гипотезы можно использовать критерий Краскела — Уоллиса.\n",
        "\n",
        "**Проведём тест**"
      ]
    },
    {
      "cell_type": "code",
      "execution_count": 91,
      "metadata": {},
      "outputs": [
        {
          "name": "stdout",
          "output_type": "stream",
          "text": [
            "p-value = 0.002\n",
            "p-значение меньше, чем заданный уровень значимости 0.05. Отвергаем нулевую гипотезу в пользу альтернативной.\n"
          ]
        }
      ],
      "source": [
        "# проводим тест\n",
        "_, p = stats.kruskal(salary_20, salary_50, salary_80)\n",
        "decision_hypothesis(p)"
      ]
    },
    {
      "cell_type": "markdown",
      "metadata": {},
      "source": [
        "**Вывод**\n",
        "\n",
        "Размер оплаты труда профессии Data Scientist отличается от доли удаленной работы."
      ]
    },
    {
      "cell_type": "markdown",
      "metadata": {},
      "source": [
        "### Влияет ли страна, где размещен главный офис на размер оплаты труда профессии Data Scientist?\n",
        "\n",
        "**Сформулируем нулевую и альтернативные гипотезы**\n",
        "\n",
        "*Нулевая гипотеза*: размер оплаты труда профессии Data Scientist не отличается от страны, где размещен главный офис: ($μ_1$), ($μ_2$), ($μ_N$).\n",
        "\n",
        "$$ H_0 : μ_1 = μ_2 = μ_N$$\n",
        "\n",
        "*Альтернативная гипотеза*: размер оплаты труда профессии Data Scientist отличается от страны, где размещен главный офис: ($μ_1$), ($μ_2$), ($μ_N$).\n",
        "\n",
        "$$ H_1 : μ_1 \\neq μ_2 \\neq μ_N$$\n"
      ]
    },
    {
      "cell_type": "markdown",
      "metadata": {},
      "source": [
        "**Проверка на нормальность**\n",
        "\n",
        "С помощью теста Шапиро-Уилка проверим, распределён ли признак нормально."
      ]
    },
    {
      "cell_type": "code",
      "execution_count": 96,
      "metadata": {},
      "outputs": [
        {
          "name": "stdout",
          "output_type": "stream",
          "text": [
            "Для US:\n",
            "p-value = 0.000\n",
            "p-значение меньше, чем заданный уровень значимости 0.05. Распределение отлично от нормального\n",
            "Для GB:\n",
            "p-value = 0.277\n",
            "p-значение больше, чем заданный уровень значимости 0.05. Распределение является нормальным\n",
            "Для IN:\n",
            "p-value = 0.761\n",
            "p-значение больше, чем заданный уровень значимости 0.05. Распределение является нормальным\n",
            "Для FR:\n",
            "p-value = 0.128\n",
            "p-значение больше, чем заданный уровень значимости 0.05. Распределение является нормальным\n",
            "Для DE:\n",
            "p-value = 0.117\n",
            "p-значение больше, чем заданный уровень значимости 0.05. Распределение является нормальным\n",
            "Для CA:\n",
            "p-value = 0.997\n",
            "p-значение больше, чем заданный уровень значимости 0.05. Распределение является нормальным\n",
            "Для ES:\n",
            "p-value = 0.184\n",
            "p-значение больше, чем заданный уровень значимости 0.05. Распределение является нормальным\n"
          ]
        }
      ],
      "source": [
        "# значения оплаты труда\n",
        "salary_us = scientist_data_per.loc[scientist_data_per['company_location']=='US', 'salary_in_usd']\n",
        "salary_gb = scientist_data_per.loc[scientist_data_per['company_location']=='GB', 'salary_in_usd']\n",
        "salary_in = scientist_data_per.loc[scientist_data_per['company_location']=='IN', 'salary_in_usd']\n",
        "salary_fr = scientist_data_per.loc[scientist_data_per['company_location']=='FR', 'salary_in_usd']\n",
        "salary_de = scientist_data_per.loc[scientist_data_per['company_location']=='DE', 'salary_in_usd']\n",
        "salary_ca = scientist_data_per.loc[scientist_data_per['company_location']=='CA', 'salary_in_usd']\n",
        "salary_es = scientist_data_per.loc[scientist_data_per['company_location']=='ES', 'salary_in_usd']\n",
        "\n",
        "# проводим тест Шапиро-Уилка\n",
        "print('Для US:')\n",
        "result = stats.shapiro(salary_us)\n",
        "decision_normality(result[1])\n",
        "\n",
        "print('Для GB:')\n",
        "result = stats.shapiro(salary_gb)\n",
        "decision_normality(result[1])\n",
        "\n",
        "print('Для IN:')\n",
        "result = stats.shapiro(salary_in)\n",
        "decision_normality(result[1])\n",
        "\n",
        "print('Для FR:')\n",
        "result = stats.shapiro(salary_fr)\n",
        "decision_normality(result[1])\n",
        "\n",
        "print('Для DE:')\n",
        "result = stats.shapiro(salary_de)\n",
        "decision_normality(result[1])\n",
        "\n",
        "print('Для CA:')\n",
        "result = stats.shapiro(salary_ca)\n",
        "decision_normality(result[1])\n",
        "\n",
        "print('Для ES:')\n",
        "result = stats.shapiro(salary_es)\n",
        "decision_normality(result[1])"
      ]
    },
    {
      "cell_type": "markdown",
      "metadata": {},
      "source": [
        "**Выберем подходящий статистический тест**\n",
        "\n",
        "Для выбора нужного теста воспользуемся алгоритмом выбора теста. Для этого ответим на следующие вопросы:\n",
        "* Какой тип у признака «salary_in_usd»? — Количественный.\n",
        "* Сколько сравниваемых групп? — Семь.\n",
        "* Группы зависимы? — Нет.\n",
        "* Признак распределён по нормальному закону? — Нет. \n",
        "\n",
        "Для проверки нашей гипотезы можно использовать критерий Краскела — Уоллиса.\n",
        "\n",
        "**Проведём тест**"
      ]
    },
    {
      "cell_type": "code",
      "execution_count": 98,
      "metadata": {},
      "outputs": [
        {
          "name": "stdout",
          "output_type": "stream",
          "text": [
            "p-value = 0.000\n",
            "p-значение меньше, чем заданный уровень значимости 0.05. Отвергаем нулевую гипотезу в пользу альтернативной.\n"
          ]
        }
      ],
      "source": [
        "# проводим тест\n",
        "_, p = stats.kruskal(salary_us, salary_gb, salary_in, salary_fr, salary_de, salary_ca, salary_es )\n",
        "decision_hypothesis(p)"
      ]
    },
    {
      "cell_type": "markdown",
      "metadata": {},
      "source": [
        "**Вывод**\n",
        "\n",
        "Размер оплаты труда профессии Data Scientist отличается от страны, где размещен главный офис."
      ]
    },
    {
      "cell_type": "markdown",
      "metadata": {},
      "source": [
        "### Влияет ли размер компаии на размер оплаты труда профессии Data Scientist?\n",
        "\n",
        "**Сформулируем нулевую и альтернативные гипотезы**\n",
        "\n",
        "*Нулевая гипотеза*: размер оплаты труда профессии Data Scientist не отличается от размера компании: маленькая S ($μ_1$), средняя M ($μ_2$), крупная L ($μ_3$).\n",
        "\n",
        "$$ H_0 : μ_1 = μ_2 = μ_3$$\n",
        "\n",
        "*Альтернативная гипотеза*: размер оплаты труда профессии Data Scientist отличается от размера компании: маленькая S ($μ_1$), средняя M ($μ_2$), крупная L ($μ_3$).\n",
        "\n",
        "$$ H_1 : μ_1 \\neq μ_2 \\neq μ_3$$\n"
      ]
    },
    {
      "cell_type": "markdown",
      "metadata": {},
      "source": [
        "**Проверка на нормальность**\n",
        "\n",
        "С помощью теста Шапиро-Уилка проверим, распределён ли признак нормально."
      ]
    },
    {
      "cell_type": "code",
      "execution_count": 100,
      "metadata": {},
      "outputs": [
        {
          "name": "stdout",
          "output_type": "stream",
          "text": [
            "Для маленькая S:\n",
            "p-value = 0.189\n",
            "p-значение больше, чем заданный уровень значимости 0.05. Распределение является нормальным\n",
            "Для средняя M:\n",
            "p-value = 0.639\n",
            "p-значение больше, чем заданный уровень значимости 0.05. Распределение является нормальным\n",
            "Для крупная L:\n",
            "p-value = 0.000\n",
            "p-значение меньше, чем заданный уровень значимости 0.05. Распределение отлично от нормального\n"
          ]
        }
      ],
      "source": [
        "# значения оплаты труда\n",
        "salary_s = scientist_data.loc[scientist_data['company_size']== 'S', 'salary_in_usd']\n",
        "salary_m = scientist_data.loc[scientist_data['company_size']== 'M', 'salary_in_usd']\n",
        "salary_l = scientist_data.loc[scientist_data['company_size']== 'L', 'salary_in_usd']\n",
        "\n",
        "# проводим тест Шапиро-Уилка\n",
        "print('Для маленькая S:')\n",
        "result = stats.shapiro(salary_s)\n",
        "decision_normality(result[1])\n",
        "\n",
        "print('Для средняя M:')\n",
        "result = stats.shapiro(salary_m)\n",
        "decision_normality(result[1])\n",
        "\n",
        "print('Для крупная L:')\n",
        "result = stats.shapiro(salary_l)\n",
        "decision_normality(result[1])"
      ]
    },
    {
      "cell_type": "markdown",
      "metadata": {},
      "source": [
        "**Выберем подходящий статистический тест**\n",
        "\n",
        "Для выбора нужного теста воспользуемся алгоритмом выбора теста. Для этого ответим на следующие вопросы:\n",
        "* Какой тип у признака «salary_in_usd»? — Количественный.\n",
        "* Сколько сравниваемых групп? — Три.\n",
        "* Группы зависимы? — Нет.\n",
        "* Признак распределён по нормальному закону? — Нет. \n",
        "\n",
        "Для проверки нашей гипотезы можно использовать критерий Краскела — Уоллиса.\n",
        "\n",
        "**Проведём тест**"
      ]
    },
    {
      "cell_type": "code",
      "execution_count": 101,
      "metadata": {},
      "outputs": [
        {
          "name": "stdout",
          "output_type": "stream",
          "text": [
            "p-value = 0.000\n",
            "p-значение меньше, чем заданный уровень значимости 0.05. Отвергаем нулевую гипотезу в пользу альтернативной.\n"
          ]
        }
      ],
      "source": [
        "# проводим тест\n",
        "_, p = stats.kruskal(salary_s, salary_m, salary_l)\n",
        "decision_hypothesis(p)"
      ]
    },
    {
      "cell_type": "markdown",
      "metadata": {},
      "source": [
        "**Вывод**\n",
        "\n",
        "Размер оплаты труда профессии Data Scientist отличается от размера компании."
      ]
    },
    {
      "cell_type": "markdown",
      "metadata": {
        "id": "zxbl3BYLGKIW"
      },
      "source": [
        "### Наблюдается ли ежегодный рост зарплат у специалистов Data Scientist?\n",
        "\n",
        "**Сформулируем нулевую и альтернативные гипотезы для 2020 года и 2021 года**\n",
        "\n",
        "*Нулевая гипотеза* ($H_0$): размер зарплат у специалистов Data Scientist в 2021 г. ($μ_1$) меньше или равен размеру зарплат у специалистов Data Scientist в 2020 г. ($μ_2$).\n",
        "\n",
        "$$ H_0 : μ_1 <= μ_2$$\n",
        "\n",
        "*Альтернативная гипотеза* ($H_1$): размер зарплат у специалистов Data Scientist в 2021 г. ($μ_1$) больше размера зарплат у специалистов Data Scientist в 2020 г. ($μ_2$).\n",
        "\n",
        "$$ H_1 : μ_1 > μ_2$$"
      ]
    },
    {
      "cell_type": "markdown",
      "metadata": {},
      "source": [
        "**Проверка на нормальность**\n",
        "\n",
        "С помощью теста Шапиро-Уилка проверим, распределён ли признак нормально. Напомним гипотезы теста Шапиро-Уилка:\n",
        "\n",
        "*Нулевая гипотеза* ($H_0$): распределение данных является нормальным.\n",
        "\n",
        "*Альтернативная гипотеза* ($H_1$): распределение данных отлично от нормального."
      ]
    },
    {
      "cell_type": "code",
      "execution_count": 75,
      "metadata": {
        "colab": {
          "base_uri": "https://localhost:8080/"
        },
        "id": "bCxAGItPTHRe",
        "outputId": "334716f4-96c7-4a21-ca5f-c7d352adde2b"
      },
      "outputs": [
        {
          "name": "stdout",
          "output_type": "stream",
          "text": [
            "Для 2020:\n",
            "p-value = 0.000\n",
            "p-значение меньше, чем заданный уровень значимости 0.05. Распределение отлично от нормального\n",
            "Для 2021:\n",
            "p-value = 0.125\n",
            "p-значение больше, чем заданный уровень значимости 0.05. Распределение является нормальным\n"
          ]
        }
      ],
      "source": [
        "# значения страховых выплат\n",
        "salary_year2020 = scientist_data.loc[scientist_data['work_year']==2020, 'salary_in_usd']\n",
        "salary_year2021 = scientist_data.loc[scientist_data['work_year']==2021, 'salary_in_usd']\n",
        "\n",
        "# проводим тест Шапиро-Уилка\n",
        "print('Для 2020:')\n",
        "result = stats.shapiro(salary_year2020)\n",
        "decision_normality(result[1])\n",
        "\n",
        "print('Для 2021:')\n",
        "result = stats.shapiro(salary_year2021)\n",
        "decision_normality(result[1])\n"
      ]
    },
    {
      "cell_type": "markdown",
      "metadata": {},
      "source": [
        "**Выберем подходящий статистический тест**\n",
        "\n",
        "Для выбора нужного теста воспользуемся алгоритмом выбора теста. Для этого ответим на следующие вопросы:\n",
        "* Какой тип у признака «salary_in_usd»? — Количественный.\n",
        "* Сколько сравниваемых групп? — Две.\n",
        "* Группы зависимы? — Нет.\n",
        "* Признак распределён по нормальному закону? — Нет.\n",
        "\n",
        "Чтобы проверить нашу гипотезу, можно использовать U-критерий Манна — Уитни для сравнения распределений на основе рангов.\n",
        "\n",
        "**Проведём тест**"
      ]
    },
    {
      "cell_type": "code",
      "execution_count": 78,
      "metadata": {},
      "outputs": [
        {
          "name": "stdout",
          "output_type": "stream",
          "text": [
            "p-value = 0.685\n",
            "p-значение больше, чем заданный уровень значимости 0.05. У нас нет оснований отвергнуть нулевую гипотезу.\n"
          ]
        }
      ],
      "source": [
        "# проводим тест\n",
        "_, p = stats.mannwhitneyu(salary_year2021, salary_year2020, alternative='greater')\n",
        "decision_hypothesis(p)"
      ]
    },
    {
      "cell_type": "markdown",
      "metadata": {
        "id": "aZEt9hu-Q995"
      },
      "source": [
        "**Вывод**\n",
        "\n",
        "Нет оснований утверждать, что размер оплаты труда профессии Data Scientist для 2021 года больше, чем для 2020 года."
      ]
    },
    {
      "cell_type": "markdown",
      "metadata": {},
      "source": [
        "**Сформулируем нулевую и альтернативные гипотезы для 2021 года и 2022 года**\n",
        "\n",
        "*Нулевая гипотеза* ($H_0$): размер зарплат у специалистов Data Scientist в 2022 г. ($μ_1$) меньше или равен размеру зарплат у специалистов Data Scientist в 2021 г. ($μ_2$).\n",
        "\n",
        "$$ H_0 : μ_1 <= μ_2$$\n",
        "\n",
        "*Альтернативная гипотеза* ($H_1$): размер зарплат у специалистов Data Scientist в 2022 г. ($μ_1$) больше размера зарплат у специалистов Data Scientist в 2021 г. ($μ_2$).\n",
        "\n",
        "$$ H_1 : μ_1 > μ_2$$"
      ]
    },
    {
      "cell_type": "markdown",
      "metadata": {
        "id": "Yi8l7ZWSl7Ze"
      },
      "source": [
        "**Проверка на нормальность**\n",
        "\n",
        "С помощью теста Шапиро-Уилка проверим, распределён ли признак нормально. Напомним гипотезы теста Шапиро-Уилка:\n",
        "\n",
        "*Нулевая гипотеза* ($H_0$): распределение данных является нормальным.\n",
        "\n",
        "*Альтернативная гипотеза* ($H_1$): распределение данных отлично от нормального."
      ]
    },
    {
      "cell_type": "code",
      "execution_count": 50,
      "metadata": {},
      "outputs": [
        {
          "name": "stdout",
          "output_type": "stream",
          "text": [
            "Для 2021:\n",
            "p-value = 0.125\n",
            "p-значение больше, чем заданный уровень значимости 0.05. Распределение является нормальным\n",
            "Для 2022:\n",
            "p-value = 0.327\n",
            "p-значение больше, чем заданный уровень значимости 0.05. Распределение является нормальным\n"
          ]
        }
      ],
      "source": [
        "# значения страховых выплат\n",
        "salary_year2021 = scientist_data.loc[scientist_data['work_year']==2021, 'salary_in_usd']\n",
        "salary_year2022 = scientist_data.loc[scientist_data['work_year']==2022, 'salary_in_usd']\n",
        "\n",
        "# проводим тест Шапиро-Уилка\n",
        "print('Для 2021:')\n",
        "result = stats.shapiro(salary_year2021)\n",
        "decision_normality(result[1])\n",
        "\n",
        "print('Для 2022:')\n",
        "result = stats.shapiro(salary_year2022)\n",
        "decision_normality(result[1])\n"
      ]
    },
    {
      "cell_type": "markdown",
      "metadata": {
        "id": "IBOYMwmfTHRu"
      },
      "source": [
        "**Выберем подходящий статистический тест**\n",
        "\n",
        "Для выбора нужного теста воспользуемся алгоритмом выбора теста. Для этого ответим на следующие вопросы:\n",
        "* Какой тип у признака «salary_in_usd»? — Количественный.\n",
        "* Сколько сравниваемых групп? — Две.\n",
        "* Группы зависимы? — Нет.\n",
        "* Признак распределён по нормальному закону? — Да.\n",
        "\n",
        "Чтобы проверить нашу гипотезу, можно использовать двухвыборочный t-критерий.\n",
        "\n",
        "**Проведём тест**"
      ]
    },
    {
      "cell_type": "code",
      "execution_count": 59,
      "metadata": {
        "colab": {
          "base_uri": "https://localhost:8080/"
        },
        "id": "xaQuaMV8THRu",
        "outputId": "0e37fc3b-bd2e-4166-8d52-f373fd82c672"
      },
      "outputs": [
        {
          "name": "stdout",
          "output_type": "stream",
          "text": [
            "Тест на равенство дисперсий\n",
            "p-value = 0.445\n",
            "Дисперсии одинаковы, в stats.ttest_ind нужно использовать параметр equal_var=True.\n",
            "\n",
            "Тест на равенство средних\n",
            "p-value = 0.000\n",
            "p-значение меньше, чем заданный уровень значимости 0.05. Отвергаем нулевую гипотезу.\n"
          ]
        }
      ],
      "source": [
        "\n",
        "# проводим тест Левена на равенство дисперсий\n",
        "print('Тест на равенство дисперсий')\n",
        "result = stats.levene(salary_year2022, salary_year2021)\n",
        "p = result[1]\n",
        "print('p-value = {:.3f}'.format(p))\n",
        "\n",
        "# интерпретируем результат\n",
        "if p <= alpha:\n",
        "    print('Дисперсии не одинаковы, в stats.ttest_ind нужно использовать параметр equal_var=False.')\n",
        "else:\n",
        "    print('Дисперсии одинаковы, в stats.ttest_ind нужно использовать параметр equal_var=True.')\n",
        "\n",
        "# проводим тест на сравнение средних в группах\n",
        "print('\\nТест на равенство средних')\n",
        "_, p = stats.ttest_ind(salary_year2022, salary_year2021, alternative='greater', equal_var=True)\n",
        "\n",
        "print('p-value = {:.3f}'.format(p))\n",
        "\n",
        "# интерпретируем результат\n",
        "if p <= alpha:\n",
        "    print('p-значение меньше, чем заданный уровень значимости {:.2f}. Отвергаем нулевую гипотезу.'.format(alpha))\n",
        "else:\n",
        "    print('p-значение больше, чем заданный уровень значимости {:.2f}. У нас нет оснований отвергнуть нулевую гипотезу.'.format(alpha))"
      ]
    },
    {
      "cell_type": "markdown",
      "metadata": {},
      "source": [
        "**Вывод**\n",
        "\n",
        "Размер оплаты труда профессии Data Scientist для 2022 года больше, чем для 2021 года."
      ]
    },
    {
      "cell_type": "markdown",
      "metadata": {
        "id": "JW47VJo3Q99s"
      },
      "source": [
        "### Оплата труда профессии Data Engineer в 2022 году меньше, чем оплата труда профессии Data Scientist в 2022 году ?\n",
        "\n",
        "\n",
        "**Сформулируем нулевую и альтернативные гипотезы**\n",
        "\n",
        "*Нулевая гипотеза* ($H_0$): размер оплаты труда профессии Data Engineer в 2022 ($μ_1$) статистически больше либо равен размеру оплаты труда профессии Data Scientist в 2022 ($μ_2$).\n",
        "\n",
        "$$ H_0 : μ_1 >= μ_2$$\n",
        "\n",
        "*Альтернативная гипотеза* ($H_1$): размер оплаты труда профессии Data Engineer в 2022 ($μ_1$) статистически меньше, чем размер оплаты труда профессии Data Scientist в 2022 ($μ_2$).\n",
        "$$ H_1 : μ_1 < μ_2$$\n",
        "\n",
        "\n"
      ]
    },
    {
      "cell_type": "markdown",
      "metadata": {
        "id": "kMk6Q5sRl7Zf"
      },
      "source": [
        "**Проверка на нормальность**\n",
        "\n",
        "С помощью теста Шапиро-Уилка проверим, распределён ли признак нормально."
      ]
    },
    {
      "cell_type": "code",
      "execution_count": 114,
      "metadata": {
        "colab": {
          "base_uri": "https://localhost:8080/"
        },
        "id": "JxXzC7-_RNDj",
        "outputId": "6e4c2c71-7d7d-4510-883c-8a52b5f64149"
      },
      "outputs": [
        {
          "name": "stdout",
          "output_type": "stream",
          "text": [
            "Для Data Scientist:\n",
            "p-value = 0.327\n",
            "p-значение больше, чем заданный уровень значимости 0.05. Распределение является нормальным\n",
            "Для Data Engineer:\n",
            "p-value = 0.010\n",
            "p-значение меньше, чем заданный уровень значимости 0.05. Распределение отлично от нормального\n"
          ]
        }
      ],
      "source": [
        "scientist_engineer_data_2022 = scientist_engineer_data[scientist_engineer_data['work_year']==2022]\n",
        "\n",
        "# значения оплаты труда\n",
        "salary_scientist_2022 = scientist_engineer_data_2022.loc[scientist_engineer_data_2022['job_title'] == 'Data Scientist', 'salary_in_usd']\n",
        "salary_engineer_2022 = scientist_engineer_data_2022.loc[scientist_engineer_data_2022['job_title'] == 'Data Engineer', 'salary_in_usd']\n",
        "\n",
        "# проводим тест Шапиро-Уилка\n",
        "print('Для Data Scientist:')\n",
        "result = stats.shapiro(salary_scientist_2022)\n",
        "decision_normality(result[1])\n",
        "\n",
        "print('Для Data Engineer:')\n",
        "result = stats.shapiro(salary_engineer_2022)\n",
        "decision_normality(result[1])\n"
      ]
    },
    {
      "cell_type": "markdown",
      "metadata": {
        "id": "gKIiBvTMRNDk"
      },
      "source": [
        "**Выберем подходящий статистический тест**\n",
        "\n",
        "Для выбора нужного теста воспользуемся алгоритмом выбора теста. Для этого ответим на следующие вопросы:\n",
        "* Какой тип у признака «salary_in_usd»? — Количественный.\n",
        "* Сколько сравниваемых групп? — Две.\n",
        "* Группы зависимы? — Нет.\n",
        "* Признак распределён по нормальному закону? — Нет.\n",
        "\n",
        "Для проверки нашей гипотезы можно использовать U-критерий Манна — Уитни.\n",
        "\n",
        "**Проведём тест**\n"
      ]
    },
    {
      "cell_type": "code",
      "execution_count": 116,
      "metadata": {
        "colab": {
          "base_uri": "https://localhost:8080/"
        },
        "id": "93N51wSsRNDk",
        "outputId": "0df1775e-94ad-41b1-d7fc-4d91335fc590"
      },
      "outputs": [
        {
          "name": "stdout",
          "output_type": "stream",
          "text": [
            "p-value = 0.077\n",
            "p-значение больше, чем заданный уровень значимости 0.05. У нас нет оснований отвергнуть нулевую гипотезу.\n"
          ]
        }
      ],
      "source": [
        "# проводим тест\n",
        "_, p = stats.mannwhitneyu(salary_engineer_2022, salary_scientist_2022, alternative='less')\n",
        "decision_hypothesis(p)"
      ]
    },
    {
      "cell_type": "markdown",
      "metadata": {
        "id": "yZogeviaRNDk"
      },
      "source": [
        "**Вывод**\n",
        "\n",
        "Нет оснований утверждать, что размер оплаты труда профессии Data Engineer для 2022 года меньше, чем профессии Data Scientist для 2022 года."
      ]
    },
    {
      "cell_type": "markdown",
      "metadata": {
        "id": "ByITCYyXGKb4"
      },
      "source": [
        "### Как соотносятся зарплаты специалистов Data Scientist и Data Engineer в компаниях средних размеров?\n",
        "\n",
        "**Сформулируем нулевую и альтернативные гипотезы**\n",
        "\n",
        "*Нулевая гипотеза* ($H_0$): размер оплаты труда профессии Data Engineer в компаниях средних размеров ($μ_1$) статистически больше либо равен размеру оплаты труда профессии Data Scientist в компаниях средних размеров ($μ_2$).\n",
        "\n",
        "$$ H_0 : μ_1 >= μ_2$$\n",
        "\n",
        "*Альтернативная гипотеза* ($H_1$): размер оплаты труда профессии Data Engineer в компаниях средних размеров ($μ_1$) статистически меньше, чем размер оплаты труда профессии Data Scientist в компаниях средних размеров ($μ_2$).\n",
        "$$ H_1 : μ_1 < μ_2$$"
      ]
    },
    {
      "cell_type": "markdown",
      "metadata": {},
      "source": [
        "**Проверка на нормальность**\n",
        "\n",
        "С помощью теста Шапиро-Уилка проверим, распределён ли признак нормально."
      ]
    },
    {
      "cell_type": "code",
      "execution_count": 48,
      "metadata": {
        "colab": {
          "base_uri": "https://localhost:8080/"
        },
        "id": "0g8PmvdlGKmP",
        "outputId": "48892466-4da7-4a58-c414-d3af794b053d"
      },
      "outputs": [
        {
          "name": "stdout",
          "output_type": "stream",
          "text": [
            "Для Data Scientist:\n",
            "p-value = 0.639\n",
            "p-значение больше, чем заданный уровень значимости 0.05. Распределение является нормальным\n",
            "Для Data Engineer:\n",
            "p-value = 0.104\n",
            "p-значение больше, чем заданный уровень значимости 0.05. Распределение является нормальным\n"
          ]
        }
      ],
      "source": [
        "scientist_engineer_data_m = scientist_engineer_data[scientist_engineer_data['company_size']=='M']\n",
        "\n",
        "# значения оплаты труда\n",
        "salary_scientist_m = scientist_engineer_data_m.loc[scientist_engineer_data_m['job_title'] == 'Data Scientist', 'salary_in_usd']\n",
        "salary_engineer_m = scientist_engineer_data_m.loc[scientist_engineer_data_m['job_title'] == 'Data Engineer', 'salary_in_usd']\n",
        "\n",
        "# проводим тест Шапиро-Уилка\n",
        "print('Для Data Scientist:')\n",
        "result = stats.shapiro(salary_scientist_m)\n",
        "decision_normality(result[1])\n",
        "\n",
        "print('Для Data Engineer:')\n",
        "result = stats.shapiro(salary_engineer_m)\n",
        "decision_normality(result[1])\n",
        "\n"
      ]
    },
    {
      "cell_type": "markdown",
      "metadata": {},
      "source": [
        "**Выберем подходящий статистический тест**\n",
        "\n",
        "Для выбора нужного теста воспользуемся алгоритмом выбора теста. Для этого ответим на следующие вопросы:\n",
        "* Какой тип у признака «salary_in_usd»? — Количественный.\n",
        "* Сколько сравниваемых групп? — Две.\n",
        "* Группы зависимы? — Нет.\n",
        "* Признак распределён по нормальному закону? — Да. \n",
        "\n",
        "Чтобы проверить нашу гипотезу, можно использовать двухвыборочный t-критерий.\n",
        "\n",
        "**Проведём тест**"
      ]
    },
    {
      "cell_type": "code",
      "execution_count": 49,
      "metadata": {},
      "outputs": [
        {
          "name": "stdout",
          "output_type": "stream",
          "text": [
            "Тест на равенство дисперсий\n",
            "p-value = 0.827\n",
            "Дисперсии одинаковы, в stats.ttest_ind нужно использовать параметр equal_var=True.\n",
            "\n",
            "Тест на равенство средних\n",
            "p-value = 0.217\n",
            "p-значение больше, чем заданный уровень значимости 0.05. У нас нет оснований отвергнуть нулевую гипотезу.\n"
          ]
        }
      ],
      "source": [
        "\n",
        "# проводим тест Левена на равенство дисперсий\n",
        "print('Тест на равенство дисперсий')\n",
        "result = stats.levene(salary_engineer_m, salary_scientist_m)\n",
        "p = result[1]\n",
        "print('p-value = {:.3f}'.format(p))\n",
        "\n",
        "# интерпретируем результат\n",
        "if p <= alpha:\n",
        "    print('Дисперсии не одинаковы, в stats.ttest_ind нужно использовать параметр equal_var=False.')\n",
        "else:\n",
        "    print('Дисперсии одинаковы, в stats.ttest_ind нужно использовать параметр equal_var=True.')\n",
        "\n",
        "# проводим тест на сравнение средних в группах\n",
        "print('\\nТест на равенство средних')\n",
        "_, p = stats.ttest_ind(salary_engineer_m, salary_scientist_m, alternative='less', equal_var=True)\n",
        "\n",
        "print('p-value = {:.3f}'.format(p))\n",
        "\n",
        "# интерпретируем результат\n",
        "if p <= alpha:\n",
        "    print('p-значение меньше, чем заданный уровень значимости {:.2f}. Отвергаем нулевую гипотезу.'.format(alpha))\n",
        "else:\n",
        "    print('p-значение больше, чем заданный уровень значимости {:.2f}. У нас нет оснований отвергнуть нулевую гипотезу.'.format(alpha))"
      ]
    },
    {
      "cell_type": "markdown",
      "metadata": {
        "id": "TESdSdapPblj"
      },
      "source": [
        "**Вывод**\n",
        "\n",
        "Нет оснований утверждать, что размер оплаты труда профессии Data Engineer в компаниях средних размеров меньше, чем профессии Data Scientist в компаниях средних размеров."
      ]
    },
    {
      "cell_type": "markdown",
      "metadata": {
        "id": "C_BzXnR7l7Zh"
      },
      "source": [
        "### Есть ли связь между наличием должностей Data Scientist и Data Engineer и размером компании?"
      ]
    },
    {
      "cell_type": "markdown",
      "metadata": {},
      "source": [
        "**Сформулируем нулевую и альтернативные гипотезы**\n",
        "\n",
        "*Нулевая гипотеза*: между наличием должностей Data Scientist и Data Engineer и размером компании нет взаимосвязи (признаки независимы).\n",
        "\n",
        "*Альтернативная гипотеза*: между наличием должностей Data Scientist и Data Engineer и размером компании есть взаимосвязь (признаки зависимы).\n"
      ]
    },
    {
      "cell_type": "markdown",
      "metadata": {
        "id": "JBDWUoufl7Zh"
      },
      "source": [
        "**Выберем подходящий статистический тест**\n",
        "\n",
        "Для выбора нужного теста воспользуемся алгоритмом выбора теста. Для этого ответим на следующие вопросы:\n",
        "* Какой тип у признака «company_size»? — Категориальный.\n",
        "* Сколько сравниваемых групп? — Две.\n",
        "* Проверяется независимость групп? — Да.\n",
        "\n",
        "Для проверки нашей гипотезы можно использовать критерий ${\\chi}^2$ (хи-квадрат).\n",
        "\n",
        "**Проведём тест**"
      ]
    },
    {
      "cell_type": "code",
      "execution_count": null,
      "metadata": {},
      "outputs": [
        {
          "data": {
            "text/html": [
              "<div>\n",
              "<style scoped>\n",
              "    .dataframe tbody tr th:only-of-type {\n",
              "        vertical-align: middle;\n",
              "    }\n",
              "\n",
              "    .dataframe tbody tr th {\n",
              "        vertical-align: top;\n",
              "    }\n",
              "\n",
              "    .dataframe thead th {\n",
              "        text-align: right;\n",
              "    }\n",
              "</style>\n",
              "<table border=\"1\" class=\"dataframe\">\n",
              "  <thead>\n",
              "    <tr style=\"text-align: right;\">\n",
              "      <th>job_title</th>\n",
              "      <th>Data Engineer</th>\n",
              "      <th>Data Scientist</th>\n",
              "    </tr>\n",
              "    <tr>\n",
              "      <th>company_size</th>\n",
              "      <th></th>\n",
              "      <th></th>\n",
              "    </tr>\n",
              "  </thead>\n",
              "  <tbody>\n",
              "    <tr>\n",
              "      <th>L</th>\n",
              "      <td>37</td>\n",
              "      <td>45</td>\n",
              "    </tr>\n",
              "    <tr>\n",
              "      <th>M</th>\n",
              "      <td>89</td>\n",
              "      <td>77</td>\n",
              "    </tr>\n",
              "    <tr>\n",
              "      <th>S</th>\n",
              "      <td>6</td>\n",
              "      <td>21</td>\n",
              "    </tr>\n",
              "  </tbody>\n",
              "</table>\n",
              "</div>"
            ],
            "text/plain": [
              "job_title     Data Engineer  Data Scientist\n",
              "company_size                               \n",
              "L                        37              45\n",
              "M                        89              77\n",
              "S                         6              21"
            ]
          },
          "metadata": {},
          "output_type": "display_data"
        }
      ],
      "source": [
        "# составляем таблицу сопряжённости\n",
        "cross_table = pd.crosstab(scientist_engineer_data['company_size'], scientist_engineer_data['job_title'])\n",
        "\n",
        "cross_table"
      ]
    },
    {
      "cell_type": "code",
      "execution_count": 51,
      "metadata": {
        "colab": {
          "base_uri": "https://localhost:8080/"
        },
        "id": "QluLlU6Kl7Zh",
        "outputId": "93379b4f-594d-45a6-8283-733c181331fd"
      },
      "outputs": [
        {
          "name": "stdout",
          "output_type": "stream",
          "text": [
            "p-value = 0.008\n",
            "p-значение меньше, чем заданный уровень значимости 0.05. Отвергаем нулевую гипотезу в пользу альтернативной.\n"
          ]
        }
      ],
      "source": [
        "# проводим тест\n",
        "_, p, _, _ = stats.chi2_contingency(cross_table)\n",
        "decision_hypothesis(p)"
      ]
    },
    {
      "cell_type": "markdown",
      "metadata": {},
      "source": [
        "**Вывод**\n",
        "\n",
        "Существует статистически значимая взаимосвязь между наличием должностей Data Scientist и Data Engineer и размером компании."
      ]
    },
    {
      "cell_type": "markdown",
      "metadata": {},
      "source": [
        "### Есть ли связь между наличием должностей Data Scientist и Data Engineer и опытом работы?"
      ]
    },
    {
      "cell_type": "markdown",
      "metadata": {
        "id": "nTL6_EGyl7Zh"
      },
      "source": [
        "**Сформулируем нулевую и альтернативные гипотезы**\n",
        "\n",
        "*Нулевая гипотеза*: между наличием должностей Data Scientist и Data Engineer и опытом работы нет взаимосвязи (признаки независимы).\n",
        "\n",
        "*Альтернативная гипотеза*: между наличием должностей Data Scientist и Data Engineer и опытом работы есть взаимосвязь (признаки зависимы).\n"
      ]
    },
    {
      "cell_type": "markdown",
      "metadata": {},
      "source": [
        "**Выберем подходящий статистический тест**\n",
        "\n",
        "Для выбора нужного теста воспользуемся алгоритмом выбора теста. Для этого ответим на следующие вопросы:\n",
        "* Какой тип у признака «experience_level»? — Категориальный.\n",
        "* Сколько сравниваемых групп? — Две.\n",
        "* Проверяется независимость групп? — Да.\n",
        "\n",
        "Для проверки нашей гипотезы можно использовать критерий ${\\chi}^2$ (хи-квадрат).\n",
        "\n",
        "**Проведём тест**"
      ]
    },
    {
      "cell_type": "code",
      "execution_count": 52,
      "metadata": {
        "colab": {
          "base_uri": "https://localhost:8080/",
          "height": 143
        },
        "id": "Hs4I-87_l7Zh",
        "outputId": "3c863879-9c55-497e-de9e-16dff9c07675"
      },
      "outputs": [
        {
          "data": {
            "text/html": [
              "<div>\n",
              "<style scoped>\n",
              "    .dataframe tbody tr th:only-of-type {\n",
              "        vertical-align: middle;\n",
              "    }\n",
              "\n",
              "    .dataframe tbody tr th {\n",
              "        vertical-align: top;\n",
              "    }\n",
              "\n",
              "    .dataframe thead th {\n",
              "        text-align: right;\n",
              "    }\n",
              "</style>\n",
              "<table border=\"1\" class=\"dataframe\">\n",
              "  <thead>\n",
              "    <tr style=\"text-align: right;\">\n",
              "      <th>job_title</th>\n",
              "      <th>Data Engineer</th>\n",
              "      <th>Data Scientist</th>\n",
              "    </tr>\n",
              "    <tr>\n",
              "      <th>experience_level</th>\n",
              "      <th></th>\n",
              "      <th></th>\n",
              "    </tr>\n",
              "  </thead>\n",
              "  <tbody>\n",
              "    <tr>\n",
              "      <th>EN</th>\n",
              "      <td>12</td>\n",
              "      <td>22</td>\n",
              "    </tr>\n",
              "    <tr>\n",
              "      <th>MI</th>\n",
              "      <td>53</td>\n",
              "      <td>60</td>\n",
              "    </tr>\n",
              "    <tr>\n",
              "      <th>SE</th>\n",
              "      <td>63</td>\n",
              "      <td>61</td>\n",
              "    </tr>\n",
              "  </tbody>\n",
              "</table>\n",
              "</div>"
            ],
            "text/plain": [
              "job_title         Data Engineer  Data Scientist\n",
              "experience_level                               \n",
              "EN                           12              22\n",
              "MI                           53              60\n",
              "SE                           63              61"
            ]
          },
          "execution_count": 52,
          "metadata": {},
          "output_type": "execute_result"
        }
      ],
      "source": [
        "scientist_engineer_data_df = scientist_engineer_data[scientist_engineer_data['experience_level'] != 'EX']\n",
        "# составляем таблицу сопряжённости\n",
        "cross_table = pd.crosstab(scientist_engineer_data_df['experience_level'], scientist_engineer_data_df['job_title'])\n",
        "\n",
        "cross_table"
      ]
    },
    {
      "cell_type": "code",
      "execution_count": 53,
      "metadata": {},
      "outputs": [
        {
          "name": "stdout",
          "output_type": "stream",
          "text": [
            "p-value = 0.275\n",
            "p-значение больше, чем заданный уровень значимости 0.05. У нас нет оснований отвергнуть нулевую гипотезу.\n"
          ]
        }
      ],
      "source": [
        "# проводим тест\n",
        "_, p, _, _ = stats.chi2_contingency(cross_table)\n",
        "decision_hypothesis(p)"
      ]
    },
    {
      "cell_type": "markdown",
      "metadata": {
        "id": "iX8a9h8Dl7Zh"
      },
      "source": [
        "**Вывод**\n",
        "\n",
        "Нет оснований утверждать, что существует взаимосвязь между наличием должностей Data Scientist и Data Engineer и размером компании."
      ]
    },
    {
      "cell_type": "markdown",
      "metadata": {},
      "source": [
        "## Итоговые результаты исследования\n",
        "1. На зарплату специалиста Data Scientist влияют:\n",
        "- год, так как каждый год разная оплата;\n",
        "- опыт работа специалиста;\n",
        "- страна проживания;\n",
        "- какая доля удалённой работы у специалиста;\n",
        "- страна, в которой находится главный офис компании;\n",
        "- размер компании.\n",
        "\n",
        "Влияет ли тип трудоустройства на зарплату не удалось установить, так как по некоторым выборкам мало данных (менее 3-х).\n",
        "\n",
        "2. Ключевые вопросы HR-агентства:\n",
        "- Нет оснований утверждать, что размер оплаты труда профессии Data Scientist для 2021 года больше, чем для 2020 года, но размер оплаты труда профессии Data Scientist для 2022 года больше, чем для 2021 года.\n",
        "- Нет оснований утверждать, что размер оплаты труда профессии Data Engineer для 2022 года меньше, чем профессии Data Scientist для 2022 года.\n",
        "- Размер оплаты труда профессии Data Scientist отличается от размера компании.\n",
        "- Существует статистически значимая взаимосвязь между наличием должностей Data Scientist и Data Engineer и размером компании.\n"
      ]
    },
    {
      "cell_type": "markdown",
      "metadata": {},
      "source": [
        "## Дополнительные исследования\n",
        "1. Как соотносятся зарплаты специалистов Data Scientist и Data Engineer в компаниях средних размеров?\n",
        "- Нет оснований утверждать, что размер оплаты труда профессии Data Engineer в компаниях средних размеров меньше, чем профессии Data Scientist в компаниях средних размеров.\n",
        "2. Есть ли связь между наличием должностей Data Scientist и Data Engineer и опытом работы?\n",
        "- Нет оснований утверждать, что существует взаимосвязь между наличием должностей Data Scientist и Data Engineer и размером компании."
      ]
    }
  ],
  "metadata": {
    "colab": {
      "provenance": []
    },
    "kernelspec": {
      "display_name": "Python 3.10.8 ('base')",
      "language": "python",
      "name": "python3"
    },
    "language_info": {
      "codemirror_mode": {
        "name": "ipython",
        "version": 3
      },
      "file_extension": ".py",
      "mimetype": "text/x-python",
      "name": "python",
      "nbconvert_exporter": "python",
      "pygments_lexer": "ipython3",
      "version": "3.11.6"
    },
    "vscode": {
      "interpreter": {
        "hash": "86c56a74836ad344b00594bf6f38fa6a676a207ceefe20d101fbc465800ccb8d"
      }
    }
  },
  "nbformat": 4,
  "nbformat_minor": 0
}
